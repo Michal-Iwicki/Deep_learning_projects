{
 "cells": [
  {
   "cell_type": "code",
   "execution_count": null,
   "metadata": {},
   "outputs": [
    {
     "name": "stdout",
     "output_type": "stream",
     "text": [
      "cuda:0\n",
      "Epoch 1/10, Loss: 0.5670, Validation Accuracy: 75.54%\n",
      "cuda:0\n",
      "Epoch 2/10, Loss: 0.4829, Validation Accuracy: 79.02%\n",
      "cuda:0\n",
      "Epoch 3/10, Loss: 0.4350, Validation Accuracy: 78.99%\n",
      "cuda:0\n",
      "Epoch 4/10, Loss: 0.3985, Validation Accuracy: 81.34%\n",
      "cuda:0\n",
      "Epoch 5/10, Loss: 0.3672, Validation Accuracy: 80.91%\n",
      "cuda:0\n",
      "Epoch 6/10, Loss: 0.3278, Validation Accuracy: 82.11%\n",
      "cuda:0\n",
      "Epoch 7/10, Loss: 0.2897, Validation Accuracy: 81.97%\n",
      "cuda:0\n",
      "Epoch 8/10, Loss: 0.2522, Validation Accuracy: 82.09%\n",
      "cuda:0\n",
      "Epoch 9/10, Loss: 0.2029, Validation Accuracy: 81.79%\n",
      "cuda:0\n",
      "Epoch 10/10, Loss: 0.1631, Validation Accuracy: 80.91%\n"
     ]
    }
   ],
   "source": [
    "from model import CNNClassifier, train_model\n",
    "from loader import load_png_images\n",
    "import os\n",
    "import torch.nn as nn\n",
    "import torch.optim as optim\n",
    "import torch.nn.functional as F\n",
    "\n",
    "val_path = os.path.join(os.getcwd(),\"data\\\\val_sample\")\n",
    "train_path = os.path.join(os.getcwd(),\"data\\\\train_sample\")\n",
    "train_loader, num_classes = load_png_images(train_path, batch_size=64)  \n",
    "val_loader,n = load_png_images(val_path, batch_size=64)  \n",
    "model = CNNClassifier(num_classes)\n",
    "criterion = nn.CrossEntropyLoss()\n",
    "optimizer = optim.Adam(model.parameters(), lr=0.001)\n",
    "\n",
    "train_model(model, train_loader, val_loader, criterion, optimizer, epochs=10)\n"
   ]
  },
  {
   "cell_type": "code",
   "execution_count": null,
   "metadata": {},
   "outputs": [],
   "source": []
  }
 ],
 "metadata": {
  "kernelspec": {
   "display_name": "Python 3",
   "language": "python",
   "name": "python3"
  },
  "language_info": {
   "codemirror_mode": {
    "name": "ipython",
    "version": 3
   },
   "file_extension": ".py",
   "mimetype": "text/x-python",
   "name": "python",
   "nbconvert_exporter": "python",
   "pygments_lexer": "ipython3",
   "version": "3.11.9"
  }
 },
 "nbformat": 4,
 "nbformat_minor": 2
}
