{
 "cells": [
  {
   "cell_type": "code",
   "execution_count": null,
   "metadata": {},
   "outputs": [
    {
     "name": "stdout",
     "output_type": "stream",
     "text": [
      "Epoch 1/10, Loss: 0.9613, Validation Accuracy: 57.42%\n",
      "Epoch 2/10, Loss: 0.8514, Validation Accuracy: 61.31%\n",
      "Epoch 3/10, Loss: 0.7779, Validation Accuracy: 65.44%\n",
      "Epoch 4/10, Loss: 0.7204, Validation Accuracy: 66.03%\n",
      "Epoch 5/10, Loss: 0.6675, Validation Accuracy: 66.26%\n",
      "Epoch 6/10, Loss: 0.6104, Validation Accuracy: 65.71%\n",
      "Epoch 7/10, Loss: 0.5513, Validation Accuracy: 67.41%\n",
      "Epoch 8/10, Loss: 0.4815, Validation Accuracy: 66.85%\n",
      "Epoch 9/10, Loss: 0.4232, Validation Accuracy: 66.84%\n",
      "Epoch 10/10, Loss: 0.3479, Validation Accuracy: 66.80%\n"
     ]
    }
   ],
   "source": [
    "from implementation import CNNClassifier, train_model\n",
    "from torchvision import models\n",
    "from loader import load_png_images\n",
    "import torch.nn as nn\n",
    "import torch.optim as optim\n",
    "import os\n",
    "\n",
    "val_path = os.path.join(os.getcwd(),\"data\\\\val_sample\")\n",
    "train_path = os.path.join(os.getcwd(),\"data\\\\train_sample\")\n",
    "train_loader, num_classes = load_png_images(train_path, batch_size=64)  \n",
    "val_loader,n = load_png_images(val_path, batch_size=2048)  \n",
    "model = CNNClassifier(num_classes)\n",
    "criterion = nn.CrossEntropyLoss()\n",
    "optimizer = optim.Adam(model.parameters(), lr=0.001)\n",
    "\n",
    "train_model(model, train_loader, val_loader, criterion, optimizer, epochs=10)\n"
   ]
  },
  {
   "cell_type": "code",
   "execution_count": 6,
   "metadata": {},
   "outputs": [
    {
     "name": "stdout",
     "output_type": "stream",
     "text": [
      "Epoch 1/10, Loss: 0.8159, Validation Accuracy: 70.93%\n",
      "Epoch 2/10, Loss: 0.6444, Validation Accuracy: 72.97%\n",
      "Epoch 3/10, Loss: 0.6509, Validation Accuracy: 62.88%\n",
      "Epoch 4/10, Loss: 0.7078, Validation Accuracy: 70.04%\n",
      "Epoch 5/10, Loss: 0.5740, Validation Accuracy: 71.13%\n",
      "Epoch 6/10, Loss: 0.7139, Validation Accuracy: 71.07%\n",
      "Epoch 7/10, Loss: 0.5494, Validation Accuracy: 72.35%\n",
      "Epoch 8/10, Loss: 0.4713, Validation Accuracy: 72.47%\n",
      "Epoch 9/10, Loss: 0.4005, Validation Accuracy: 73.41%\n",
      "Epoch 10/10, Loss: 0.4270, Validation Accuracy: 73.21%\n"
     ]
    }
   ],
   "source": [
    "model =  models.densenet121(weights=\"DenseNet121_Weights.IMAGENET1K_V1\")\n",
    "model.classifier = nn.Linear(model.classifier.in_features, num_classes)  \n",
    "criterion = nn.CrossEntropyLoss()\n",
    "optimizer = optim.Adam(model.parameters(), lr=0.001)\n",
    "\n",
    "train_model(model, train_loader, val_loader, criterion, optimizer, epochs=10)"
   ]
  },
  {
   "cell_type": "code",
   "execution_count": 11,
   "metadata": {},
   "outputs": [
    {
     "name": "stdout",
     "output_type": "stream",
     "text": [
      "Epoch 1/10, Loss: 0.7734, Validation Accuracy: 70.30%\n",
      "Epoch 2/10, Loss: 0.6002, Validation Accuracy: 72.61%\n",
      "Epoch 3/10, Loss: 0.5997, Validation Accuracy: 74.99%\n",
      "Epoch 4/10, Loss: 0.4634, Validation Accuracy: 75.93%\n",
      "Epoch 5/10, Loss: 0.3487, Validation Accuracy: 74.18%\n",
      "Epoch 6/10, Loss: 0.2829, Validation Accuracy: 74.77%\n",
      "Epoch 7/10, Loss: 0.2254, Validation Accuracy: 74.44%\n",
      "Epoch 8/10, Loss: 0.1908, Validation Accuracy: 74.76%\n",
      "Epoch 9/10, Loss: 0.1482, Validation Accuracy: 74.44%\n",
      "Epoch 10/10, Loss: 0.3782, Validation Accuracy: 63.91%\n"
     ]
    }
   ],
   "source": [
    "model = models.wide_resnet50_2(weights=\"Wide_ResNet50_2_Weights.DEFAULT\")\n",
    "model.fc = nn.Linear(model.fc.in_features, num_classes)\n",
    "criterion = nn.CrossEntropyLoss()\n",
    "optimizer = optim.Adam(model.parameters(), lr=0.001)\n",
    "\n",
    "train_model(model, train_loader, val_loader, criterion, optimizer, epochs=10)"
   ]
  },
  {
   "cell_type": "code",
   "execution_count": null,
   "metadata": {},
   "outputs": [],
   "source": []
  }
 ],
 "metadata": {
  "kernelspec": {
   "display_name": "Python 3",
   "language": "python",
   "name": "python3"
  },
  "language_info": {
   "codemirror_mode": {
    "name": "ipython",
    "version": 3
   },
   "file_extension": ".py",
   "mimetype": "text/x-python",
   "name": "python",
   "nbconvert_exporter": "python",
   "pygments_lexer": "ipython3",
   "version": "3.11.9"
  }
 },
 "nbformat": 4,
 "nbformat_minor": 2
}
