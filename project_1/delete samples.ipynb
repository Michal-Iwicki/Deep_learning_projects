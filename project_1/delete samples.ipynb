{
 "cells": [
  {
   "cell_type": "code",
   "execution_count": null,
   "id": "b47456d5-2ab0-4b50-8531-8c4ff6efaae6",
   "metadata": {},
   "outputs": [],
   "source": [
    "import os\n",
    "import numpy as np"
   ]
  },
  {
   "cell_type": "code",
   "execution_count": null,
   "id": "eb287fed-1d5c-4e33-bc38-603d04648010",
   "metadata": {},
   "outputs": [],
   "source": [
    "samples_2_survive = 500"
   ]
  },
  {
   "cell_type": "code",
   "execution_count": null,
   "id": "9d193856-5fc7-4f90-ab4b-46b2dc1625e8",
   "metadata": {},
   "outputs": [],
   "source": [
    "path_2_sample = os.path.join(os.getcwd(), 'data', 'sample')\n",
    "\n",
    "for directory in os.listdir(path_2_sample):\n",
    "    path_2_directory = os.path.join(path_2_sample, directory)\n",
    "\n",
    "    for category in os.listdir(path_2_directory):\n",
    "        path_2_category = os.path.join(path_2_directory, category)\n",
    "\n",
    "        samples = os.listdir(path_2_category)\n",
    "\n",
    "        samples_2_delete = np.random.choice(len(samples), 9000 - samples_2_survive, False).tolist()\n",
    "\n",
    "        for index in samples_2_delete:\n",
    "            os.remove(os.path.join(path_2_category, samples[index]))"
   ]
  }
 ],
 "metadata": {
  "kernelspec": {
   "display_name": "Python 3 (ipykernel)",
   "language": "python",
   "name": "python3"
  },
  "language_info": {
   "codemirror_mode": {
    "name": "ipython",
    "version": 3
   },
   "file_extension": ".py",
   "mimetype": "text/x-python",
   "name": "python",
   "nbconvert_exporter": "python",
   "pygments_lexer": "ipython3",
   "version": "3.12.8"
  }
 },
 "nbformat": 4,
 "nbformat_minor": 5
}
