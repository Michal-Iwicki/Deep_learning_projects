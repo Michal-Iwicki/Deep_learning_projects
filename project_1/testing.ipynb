{
 "cells": [
  {
   "cell_type": "code",
   "execution_count": 1,
   "metadata": {},
   "outputs": [
    {
     "data": {
      "text/plain": [
       "<torch._C.Generator at 0x289a9836dd0>"
      ]
     },
     "execution_count": 1,
     "metadata": {},
     "output_type": "execute_result"
    }
   ],
   "source": [
    "import tester\n",
    "import torch\n",
    "torch.manual_seed(0)"
   ]
  },
  {
   "cell_type": "code",
   "execution_count": 2,
   "metadata": {},
   "outputs": [
    {
     "name": "stdout",
     "output_type": "stream",
     "text": [
      "learning_rate train_loss train_accuracy test_loss test_accuracy\n",
      "0.0001 0.6174776566609174 78.45777777777778 0.9226954457434741 67.06222222222222\n",
      "0.0001 0.6264162249214235 77.95666666666666 0.9350852780044079 66.97111111111111\n",
      "0.0001 0.6606460507340673 76.5988888888889 0.9667076356709003 66.35888888888888\n"
     ]
    },
    {
     "ename": "KeyboardInterrupt",
     "evalue": "",
     "output_type": "error",
     "traceback": [
      "\u001b[1;31m---------------------------------------------------------------------------\u001b[0m",
      "\u001b[1;31mKeyboardInterrupt\u001b[0m                         Traceback (most recent call last)",
      "Cell \u001b[1;32mIn[2], line 1\u001b[0m\n\u001b[1;32m----> 1\u001b[0m \u001b[43mtester\u001b[49m\u001b[38;5;241;43m.\u001b[39;49m\u001b[43mtest_lr\u001b[49m\u001b[43m(\u001b[49m\u001b[43mtimes\u001b[49m\u001b[43m \u001b[49m\u001b[38;5;241;43m=\u001b[39;49m\u001b[43m \u001b[49m\u001b[38;5;241;43m3\u001b[39;49m\u001b[43m,\u001b[49m\u001b[43m \u001b[49m\u001b[43mlearning_rates\u001b[49m\u001b[38;5;241;43m=\u001b[39;49m\u001b[43m[\u001b[49m\u001b[38;5;241;43m0.0001\u001b[39;49m\u001b[43m,\u001b[49m\u001b[38;5;241;43m0.001\u001b[39;49m\u001b[43m,\u001b[49m\u001b[38;5;241;43m0.01\u001b[39;49m\u001b[43m]\u001b[49m\u001b[43m)\u001b[49m\n",
      "File \u001b[1;32mc:\\Users\\Michał\\Documents\\Projects\\Deep_learning_projects\\project_1\\tester.py:66\u001b[0m, in \u001b[0;36mtest_lr\u001b[1;34m(times, learning_rates)\u001b[0m\n\u001b[0;32m     64\u001b[0m model \u001b[38;5;241m=\u001b[39m CNNClassifier(num_classes)\n\u001b[0;32m     65\u001b[0m optimizer \u001b[38;5;241m=\u001b[39m optim\u001b[38;5;241m.\u001b[39mAdam(model\u001b[38;5;241m.\u001b[39mparameters(), lr\u001b[38;5;241m=\u001b[39mlr)\n\u001b[1;32m---> 66\u001b[0m \u001b[43mtrain_model\u001b[49m\u001b[43m(\u001b[49m\u001b[43mmodel\u001b[49m\u001b[43m,\u001b[49m\u001b[43m \u001b[49m\u001b[43mtrain_loader\u001b[49m\u001b[43m,\u001b[49m\u001b[43m \u001b[49m\u001b[43mval_loader\u001b[49m\u001b[43m,\u001b[49m\u001b[43m \u001b[49m\u001b[43moptimizer\u001b[49m\u001b[43m,\u001b[49m\u001b[43m \u001b[49m\u001b[43mepochs\u001b[49m\u001b[38;5;241;43m=\u001b[39;49m\u001b[38;5;241;43m10\u001b[39;49m\u001b[43m,\u001b[49m\u001b[43m \u001b[49m\u001b[43mprinter\u001b[49m\u001b[43m \u001b[49m\u001b[38;5;241;43m=\u001b[39;49m\u001b[43m \u001b[49m\u001b[38;5;28;43;01mFalse\u001b[39;49;00m\u001b[43m)\u001b[49m\n\u001b[0;32m     67\u001b[0m r_loss, r_acc \u001b[38;5;241m=\u001b[39m evaluate(model, train_loader)\n\u001b[0;32m     68\u001b[0m t_loss, t_acc \u001b[38;5;241m=\u001b[39m evaluate(model, test_loader)\n",
      "File \u001b[1;32mc:\\Users\\Michał\\Documents\\Projects\\Deep_learning_projects\\project_1\\implementation.py:40\u001b[0m, in \u001b[0;36mtrain_model\u001b[1;34m(model, train_loader, val_loader, optimizer, epochs, printer, patience)\u001b[0m\n\u001b[0;32m     38\u001b[0m model\u001b[38;5;241m.\u001b[39mtrain()\n\u001b[0;32m     39\u001b[0m running_loss \u001b[38;5;241m=\u001b[39m \u001b[38;5;241m0.0\u001b[39m\n\u001b[1;32m---> 40\u001b[0m \u001b[43m\u001b[49m\u001b[38;5;28;43;01mfor\u001b[39;49;00m\u001b[43m \u001b[49m\u001b[43minputs\u001b[49m\u001b[43m,\u001b[49m\u001b[43m \u001b[49m\u001b[43mlabels\u001b[49m\u001b[43m \u001b[49m\u001b[38;5;129;43;01min\u001b[39;49;00m\u001b[43m \u001b[49m\u001b[43mtrain_loader\u001b[49m\u001b[43m:\u001b[49m\n\u001b[0;32m     41\u001b[0m \u001b[43m    \u001b[49m\u001b[43minputs\u001b[49m\u001b[43m,\u001b[49m\u001b[43m \u001b[49m\u001b[43mlabels\u001b[49m\u001b[43m \u001b[49m\u001b[38;5;241;43m=\u001b[39;49m\u001b[43m \u001b[49m\u001b[43minputs\u001b[49m\u001b[38;5;241;43m.\u001b[39;49m\u001b[43mto\u001b[49m\u001b[43m(\u001b[49m\u001b[43mdevice\u001b[49m\u001b[43m)\u001b[49m\u001b[43m,\u001b[49m\u001b[43m \u001b[49m\u001b[43mlabels\u001b[49m\u001b[38;5;241;43m.\u001b[39;49m\u001b[43mto\u001b[49m\u001b[43m(\u001b[49m\u001b[43mdevice\u001b[49m\u001b[43m)\u001b[49m\n\u001b[0;32m     42\u001b[0m \u001b[43m    \u001b[49m\u001b[43moptimizer\u001b[49m\u001b[38;5;241;43m.\u001b[39;49m\u001b[43mzero_grad\u001b[49m\u001b[43m(\u001b[49m\u001b[43m)\u001b[49m\n",
      "File \u001b[1;32m~\\AppData\\Local\\Packages\\PythonSoftwareFoundation.Python.3.11_qbz5n2kfra8p0\\LocalCache\\local-packages\\Python311\\site-packages\\torch\\utils\\data\\dataloader.py:701\u001b[0m, in \u001b[0;36m_BaseDataLoaderIter.__next__\u001b[1;34m(self)\u001b[0m\n\u001b[0;32m    698\u001b[0m \u001b[38;5;28;01mif\u001b[39;00m \u001b[38;5;28mself\u001b[39m\u001b[38;5;241m.\u001b[39m_sampler_iter \u001b[38;5;129;01mis\u001b[39;00m \u001b[38;5;28;01mNone\u001b[39;00m:\n\u001b[0;32m    699\u001b[0m     \u001b[38;5;66;03m# TODO(https://github.com/pytorch/pytorch/issues/76750)\u001b[39;00m\n\u001b[0;32m    700\u001b[0m     \u001b[38;5;28mself\u001b[39m\u001b[38;5;241m.\u001b[39m_reset()  \u001b[38;5;66;03m# type: ignore[call-arg]\u001b[39;00m\n\u001b[1;32m--> 701\u001b[0m data \u001b[38;5;241m=\u001b[39m \u001b[38;5;28;43mself\u001b[39;49m\u001b[38;5;241;43m.\u001b[39;49m\u001b[43m_next_data\u001b[49m\u001b[43m(\u001b[49m\u001b[43m)\u001b[49m\n\u001b[0;32m    702\u001b[0m \u001b[38;5;28mself\u001b[39m\u001b[38;5;241m.\u001b[39m_num_yielded \u001b[38;5;241m+\u001b[39m\u001b[38;5;241m=\u001b[39m \u001b[38;5;241m1\u001b[39m\n\u001b[0;32m    703\u001b[0m \u001b[38;5;28;01mif\u001b[39;00m (\n\u001b[0;32m    704\u001b[0m     \u001b[38;5;28mself\u001b[39m\u001b[38;5;241m.\u001b[39m_dataset_kind \u001b[38;5;241m==\u001b[39m _DatasetKind\u001b[38;5;241m.\u001b[39mIterable\n\u001b[0;32m    705\u001b[0m     \u001b[38;5;129;01mand\u001b[39;00m \u001b[38;5;28mself\u001b[39m\u001b[38;5;241m.\u001b[39m_IterableDataset_len_called \u001b[38;5;129;01mis\u001b[39;00m \u001b[38;5;129;01mnot\u001b[39;00m \u001b[38;5;28;01mNone\u001b[39;00m\n\u001b[0;32m    706\u001b[0m     \u001b[38;5;129;01mand\u001b[39;00m \u001b[38;5;28mself\u001b[39m\u001b[38;5;241m.\u001b[39m_num_yielded \u001b[38;5;241m>\u001b[39m \u001b[38;5;28mself\u001b[39m\u001b[38;5;241m.\u001b[39m_IterableDataset_len_called\n\u001b[0;32m    707\u001b[0m ):\n",
      "File \u001b[1;32m~\\AppData\\Local\\Packages\\PythonSoftwareFoundation.Python.3.11_qbz5n2kfra8p0\\LocalCache\\local-packages\\Python311\\site-packages\\torch\\utils\\data\\dataloader.py:1448\u001b[0m, in \u001b[0;36m_MultiProcessingDataLoaderIter._next_data\u001b[1;34m(self)\u001b[0m\n\u001b[0;32m   1445\u001b[0m     \u001b[38;5;28;01mreturn\u001b[39;00m \u001b[38;5;28mself\u001b[39m\u001b[38;5;241m.\u001b[39m_process_data(data)\n\u001b[0;32m   1447\u001b[0m \u001b[38;5;28;01massert\u001b[39;00m \u001b[38;5;129;01mnot\u001b[39;00m \u001b[38;5;28mself\u001b[39m\u001b[38;5;241m.\u001b[39m_shutdown \u001b[38;5;129;01mand\u001b[39;00m \u001b[38;5;28mself\u001b[39m\u001b[38;5;241m.\u001b[39m_tasks_outstanding \u001b[38;5;241m>\u001b[39m \u001b[38;5;241m0\u001b[39m\n\u001b[1;32m-> 1448\u001b[0m idx, data \u001b[38;5;241m=\u001b[39m \u001b[38;5;28;43mself\u001b[39;49m\u001b[38;5;241;43m.\u001b[39;49m\u001b[43m_get_data\u001b[49m\u001b[43m(\u001b[49m\u001b[43m)\u001b[49m\n\u001b[0;32m   1449\u001b[0m \u001b[38;5;28mself\u001b[39m\u001b[38;5;241m.\u001b[39m_tasks_outstanding \u001b[38;5;241m-\u001b[39m\u001b[38;5;241m=\u001b[39m \u001b[38;5;241m1\u001b[39m\n\u001b[0;32m   1450\u001b[0m \u001b[38;5;28;01mif\u001b[39;00m \u001b[38;5;28mself\u001b[39m\u001b[38;5;241m.\u001b[39m_dataset_kind \u001b[38;5;241m==\u001b[39m _DatasetKind\u001b[38;5;241m.\u001b[39mIterable:\n\u001b[0;32m   1451\u001b[0m     \u001b[38;5;66;03m# Check for _IterableDatasetStopIteration\u001b[39;00m\n",
      "File \u001b[1;32m~\\AppData\\Local\\Packages\\PythonSoftwareFoundation.Python.3.11_qbz5n2kfra8p0\\LocalCache\\local-packages\\Python311\\site-packages\\torch\\utils\\data\\dataloader.py:1412\u001b[0m, in \u001b[0;36m_MultiProcessingDataLoaderIter._get_data\u001b[1;34m(self)\u001b[0m\n\u001b[0;32m   1408\u001b[0m     \u001b[38;5;66;03m# In this case, `self._data_queue` is a `queue.Queue`,. But we don't\u001b[39;00m\n\u001b[0;32m   1409\u001b[0m     \u001b[38;5;66;03m# need to call `.task_done()` because we don't use `.join()`.\u001b[39;00m\n\u001b[0;32m   1410\u001b[0m \u001b[38;5;28;01melse\u001b[39;00m:\n\u001b[0;32m   1411\u001b[0m     \u001b[38;5;28;01mwhile\u001b[39;00m \u001b[38;5;28;01mTrue\u001b[39;00m:\n\u001b[1;32m-> 1412\u001b[0m         success, data \u001b[38;5;241m=\u001b[39m \u001b[38;5;28;43mself\u001b[39;49m\u001b[38;5;241;43m.\u001b[39;49m\u001b[43m_try_get_data\u001b[49m\u001b[43m(\u001b[49m\u001b[43m)\u001b[49m\n\u001b[0;32m   1413\u001b[0m         \u001b[38;5;28;01mif\u001b[39;00m success:\n\u001b[0;32m   1414\u001b[0m             \u001b[38;5;28;01mreturn\u001b[39;00m data\n",
      "File \u001b[1;32m~\\AppData\\Local\\Packages\\PythonSoftwareFoundation.Python.3.11_qbz5n2kfra8p0\\LocalCache\\local-packages\\Python311\\site-packages\\torch\\utils\\data\\dataloader.py:1243\u001b[0m, in \u001b[0;36m_MultiProcessingDataLoaderIter._try_get_data\u001b[1;34m(self, timeout)\u001b[0m\n\u001b[0;32m   1230\u001b[0m \u001b[38;5;28;01mdef\u001b[39;00m \u001b[38;5;21m_try_get_data\u001b[39m(\u001b[38;5;28mself\u001b[39m, timeout\u001b[38;5;241m=\u001b[39m_utils\u001b[38;5;241m.\u001b[39mMP_STATUS_CHECK_INTERVAL):\n\u001b[0;32m   1231\u001b[0m     \u001b[38;5;66;03m# Tries to fetch data from `self._data_queue` once for a given timeout.\u001b[39;00m\n\u001b[0;32m   1232\u001b[0m     \u001b[38;5;66;03m# This can also be used as inner loop of fetching without timeout, with\u001b[39;00m\n\u001b[1;32m   (...)\u001b[0m\n\u001b[0;32m   1240\u001b[0m     \u001b[38;5;66;03m# Returns a 2-tuple:\u001b[39;00m\n\u001b[0;32m   1241\u001b[0m     \u001b[38;5;66;03m#   (bool: whether successfully get data, any: data if successful else None)\u001b[39;00m\n\u001b[0;32m   1242\u001b[0m     \u001b[38;5;28;01mtry\u001b[39;00m:\n\u001b[1;32m-> 1243\u001b[0m         data \u001b[38;5;241m=\u001b[39m \u001b[38;5;28;43mself\u001b[39;49m\u001b[38;5;241;43m.\u001b[39;49m\u001b[43m_data_queue\u001b[49m\u001b[38;5;241;43m.\u001b[39;49m\u001b[43mget\u001b[49m\u001b[43m(\u001b[49m\u001b[43mtimeout\u001b[49m\u001b[38;5;241;43m=\u001b[39;49m\u001b[43mtimeout\u001b[49m\u001b[43m)\u001b[49m\n\u001b[0;32m   1244\u001b[0m         \u001b[38;5;28;01mreturn\u001b[39;00m (\u001b[38;5;28;01mTrue\u001b[39;00m, data)\n\u001b[0;32m   1245\u001b[0m     \u001b[38;5;28;01mexcept\u001b[39;00m \u001b[38;5;167;01mException\u001b[39;00m \u001b[38;5;28;01mas\u001b[39;00m e:\n\u001b[0;32m   1246\u001b[0m         \u001b[38;5;66;03m# At timeout and error, we manually check whether any worker has\u001b[39;00m\n\u001b[0;32m   1247\u001b[0m         \u001b[38;5;66;03m# failed. Note that this is the only mechanism for Windows to detect\u001b[39;00m\n\u001b[0;32m   1248\u001b[0m         \u001b[38;5;66;03m# worker failures.\u001b[39;00m\n",
      "File \u001b[1;32mC:\\Program Files\\WindowsApps\\PythonSoftwareFoundation.Python.3.11_3.11.2544.0_x64__qbz5n2kfra8p0\\Lib\\multiprocessing\\queues.py:113\u001b[0m, in \u001b[0;36mQueue.get\u001b[1;34m(self, block, timeout)\u001b[0m\n\u001b[0;32m    111\u001b[0m \u001b[38;5;28;01mif\u001b[39;00m block:\n\u001b[0;32m    112\u001b[0m     timeout \u001b[38;5;241m=\u001b[39m deadline \u001b[38;5;241m-\u001b[39m time\u001b[38;5;241m.\u001b[39mmonotonic()\n\u001b[1;32m--> 113\u001b[0m     \u001b[38;5;28;01mif\u001b[39;00m \u001b[38;5;129;01mnot\u001b[39;00m \u001b[38;5;28;43mself\u001b[39;49m\u001b[38;5;241;43m.\u001b[39;49m\u001b[43m_poll\u001b[49m\u001b[43m(\u001b[49m\u001b[43mtimeout\u001b[49m\u001b[43m)\u001b[49m:\n\u001b[0;32m    114\u001b[0m         \u001b[38;5;28;01mraise\u001b[39;00m Empty\n\u001b[0;32m    115\u001b[0m \u001b[38;5;28;01melif\u001b[39;00m \u001b[38;5;129;01mnot\u001b[39;00m \u001b[38;5;28mself\u001b[39m\u001b[38;5;241m.\u001b[39m_poll():\n",
      "File \u001b[1;32mC:\\Program Files\\WindowsApps\\PythonSoftwareFoundation.Python.3.11_3.11.2544.0_x64__qbz5n2kfra8p0\\Lib\\multiprocessing\\connection.py:257\u001b[0m, in \u001b[0;36m_ConnectionBase.poll\u001b[1;34m(self, timeout)\u001b[0m\n\u001b[0;32m    255\u001b[0m \u001b[38;5;28mself\u001b[39m\u001b[38;5;241m.\u001b[39m_check_closed()\n\u001b[0;32m    256\u001b[0m \u001b[38;5;28mself\u001b[39m\u001b[38;5;241m.\u001b[39m_check_readable()\n\u001b[1;32m--> 257\u001b[0m \u001b[38;5;28;01mreturn\u001b[39;00m \u001b[38;5;28;43mself\u001b[39;49m\u001b[38;5;241;43m.\u001b[39;49m\u001b[43m_poll\u001b[49m\u001b[43m(\u001b[49m\u001b[43mtimeout\u001b[49m\u001b[43m)\u001b[49m\n",
      "File \u001b[1;32mC:\\Program Files\\WindowsApps\\PythonSoftwareFoundation.Python.3.11_3.11.2544.0_x64__qbz5n2kfra8p0\\Lib\\multiprocessing\\connection.py:346\u001b[0m, in \u001b[0;36mPipeConnection._poll\u001b[1;34m(self, timeout)\u001b[0m\n\u001b[0;32m    343\u001b[0m \u001b[38;5;28;01mif\u001b[39;00m (\u001b[38;5;28mself\u001b[39m\u001b[38;5;241m.\u001b[39m_got_empty_message \u001b[38;5;129;01mor\u001b[39;00m\n\u001b[0;32m    344\u001b[0m             _winapi\u001b[38;5;241m.\u001b[39mPeekNamedPipe(\u001b[38;5;28mself\u001b[39m\u001b[38;5;241m.\u001b[39m_handle)[\u001b[38;5;241m0\u001b[39m] \u001b[38;5;241m!=\u001b[39m \u001b[38;5;241m0\u001b[39m):\n\u001b[0;32m    345\u001b[0m     \u001b[38;5;28;01mreturn\u001b[39;00m \u001b[38;5;28;01mTrue\u001b[39;00m\n\u001b[1;32m--> 346\u001b[0m \u001b[38;5;28;01mreturn\u001b[39;00m \u001b[38;5;28mbool\u001b[39m(\u001b[43mwait\u001b[49m\u001b[43m(\u001b[49m\u001b[43m[\u001b[49m\u001b[38;5;28;43mself\u001b[39;49m\u001b[43m]\u001b[49m\u001b[43m,\u001b[49m\u001b[43m \u001b[49m\u001b[43mtimeout\u001b[49m\u001b[43m)\u001b[49m)\n",
      "File \u001b[1;32mC:\\Program Files\\WindowsApps\\PythonSoftwareFoundation.Python.3.11_3.11.2544.0_x64__qbz5n2kfra8p0\\Lib\\multiprocessing\\connection.py:896\u001b[0m, in \u001b[0;36mwait\u001b[1;34m(object_list, timeout)\u001b[0m\n\u001b[0;32m    893\u001b[0m                 ready_objects\u001b[38;5;241m.\u001b[39madd(o)\n\u001b[0;32m    894\u001b[0m                 timeout \u001b[38;5;241m=\u001b[39m \u001b[38;5;241m0\u001b[39m\n\u001b[1;32m--> 896\u001b[0m     ready_handles \u001b[38;5;241m=\u001b[39m \u001b[43m_exhaustive_wait\u001b[49m\u001b[43m(\u001b[49m\u001b[43mwaithandle_to_obj\u001b[49m\u001b[38;5;241;43m.\u001b[39;49m\u001b[43mkeys\u001b[49m\u001b[43m(\u001b[49m\u001b[43m)\u001b[49m\u001b[43m,\u001b[49m\u001b[43m \u001b[49m\u001b[43mtimeout\u001b[49m\u001b[43m)\u001b[49m\n\u001b[0;32m    897\u001b[0m \u001b[38;5;28;01mfinally\u001b[39;00m:\n\u001b[0;32m    898\u001b[0m     \u001b[38;5;66;03m# request that overlapped reads stop\u001b[39;00m\n\u001b[0;32m    899\u001b[0m     \u001b[38;5;28;01mfor\u001b[39;00m ov \u001b[38;5;129;01min\u001b[39;00m ov_list:\n",
      "File \u001b[1;32mC:\\Program Files\\WindowsApps\\PythonSoftwareFoundation.Python.3.11_3.11.2544.0_x64__qbz5n2kfra8p0\\Lib\\multiprocessing\\connection.py:828\u001b[0m, in \u001b[0;36m_exhaustive_wait\u001b[1;34m(handles, timeout)\u001b[0m\n\u001b[0;32m    826\u001b[0m ready \u001b[38;5;241m=\u001b[39m []\n\u001b[0;32m    827\u001b[0m \u001b[38;5;28;01mwhile\u001b[39;00m L:\n\u001b[1;32m--> 828\u001b[0m     res \u001b[38;5;241m=\u001b[39m _winapi\u001b[38;5;241m.\u001b[39mWaitForMultipleObjects(L, \u001b[38;5;28;01mFalse\u001b[39;00m, timeout)\n\u001b[0;32m    829\u001b[0m     \u001b[38;5;28;01mif\u001b[39;00m res \u001b[38;5;241m==\u001b[39m WAIT_TIMEOUT:\n\u001b[0;32m    830\u001b[0m         \u001b[38;5;28;01mbreak\u001b[39;00m\n",
      "\u001b[1;31mKeyboardInterrupt\u001b[0m: "
     ]
    }
   ],
   "source": [
    "tester.test_lr()"
   ]
  },
  {
   "cell_type": "code",
   "execution_count": 3,
   "metadata": {},
   "outputs": [
    {
     "name": "stdout",
     "output_type": "stream",
     "text": [
      "dropout_rate train_loss train_accuracy test_loss test_accuracy\n",
      "0.25 0.5875262074037417 79.93777777777778 0.9008542041886937 68.21444444444444\n",
      "0.25 0.5478698887722881 80.94444444444444 0.9151122597130862 68.64111111111112\n",
      "0.25 0.5464487183657651 80.8788888888889 0.9183117235926065 68.52888888888889\n",
      "0.5 0.8031105394152361 71.58222222222223 0.9497362321073358 66.18111111111111\n",
      "0.5 0.7958422776667876 71.66666666666667 0.9474385472183878 65.94333333333333\n",
      "0.5 0.7929265706131478 70.96111111111111 0.9737838493152098 65.32888888888888\n",
      "0.75 1.092475755334197 60.86666666666667 1.1504131562330506 58.81333333333333\n",
      "0.75 1.0629779309129699 61.672222222222224 1.1224017793482 59.471111111111114\n",
      "0.75 1.085178539035077 60.45444444444445 1.146658058193597 58.32333333333333\n"
     ]
    }
   ],
   "source": [
    "tester.test_dropout()"
   ]
  },
  {
   "cell_type": "markdown",
   "metadata": {},
   "source": [
    "I will try also version without dropout and manually merge with previous results in order to obtain more information"
   ]
  },
  {
   "cell_type": "code",
   "execution_count": 4,
   "metadata": {},
   "outputs": [
    {
     "name": "stdout",
     "output_type": "stream",
     "text": [
      "dropout_rate train_loss train_accuracy test_loss test_accuracy\n",
      "Patience triggered. End of learning\n",
      "0 0.29928731643275314 89.69444444444444 1.1639291749081828 66.70222222222222\n",
      "Patience triggered. End of learning\n",
      "0 0.42496791676115914 85.49 0.9880345648323948 67.52444444444444\n",
      "Patience triggered. End of learning\n",
      "0 0.2696568833573344 90.82888888888888 1.1221389286220074 67.28777777777778\n"
     ]
    }
   ],
   "source": [
    "tester.test_dropout(dropout_rates=[0])"
   ]
  },
  {
   "cell_type": "code",
   "execution_count": 5,
   "metadata": {},
   "outputs": [
    {
     "name": "stdout",
     "output_type": "stream",
     "text": [
      "batchsize train_loss train_accuracy test_loss test_accuracy\n",
      "16 0.5675290021128124 80.52 0.9335802641104568 67.79333333333334\n",
      "16 0.5734272649102741 80.2388888888889 0.9362504651600664 67.43777777777778\n",
      "16 0.5257656986316045 81.82444444444444 0.9345763105560433 68.22888888888889\n",
      "32 0.5024721701290105 82.11222222222223 0.9186296070163901 68.85222222222222\n",
      "32 0.548463897559086 80.28333333333333 0.934563064778393 68.10777777777778\n",
      "32 0.5552821232464829 80.05 0.9586149078201164 67.65333333333334\n",
      "64 0.522189316380168 81.24333333333334 0.9526604099029844 68.23444444444445\n",
      "64 0.5450186102671579 80.67111111111112 0.929693566127257 68.07\n",
      "64 0.6205751167473932 77.95 0.9820650511167266 66.36\n"
     ]
    }
   ],
   "source": [
    "tester.test_batchsizes()"
   ]
  },
  {
   "cell_type": "code",
   "execution_count": 2,
   "metadata": {},
   "outputs": [
    {
     "name": "stdout",
     "output_type": "stream",
     "text": [
      "weight_decay train_loss train_accuracy test_loss test_accuracy\n",
      "0.001 0.5140938310437977 82.50555555555556 0.9002125093882735 68.84666666666666\n",
      "0.001 0.4970578910445896 82.50555555555556 0.9413810914213007 68.83333333333333\n",
      "0.001 0.5179573255705316 81.90666666666667 0.9546341472728685 67.99777777777778\n",
      "0.01 0.5393315412864285 81.44888888888889 0.9025948572565209 68.61111111111111\n",
      "0.01 0.5644909865939656 80.46222222222222 0.9270040023733269 67.59333333333333\n",
      "0.01 0.5389638617343424 81.01444444444445 0.9471621345728636 67.64444444444445\n",
      "0.1 0.8133587159489212 72.1211111111111 0.962058471685106 65.94444444444444\n",
      "0.1 0.9032784887386563 69.11777777777777 1.0597494058310986 62.973333333333336\n",
      "Patience triggered. End of learning\n",
      "0.1 0.8560449705825681 70.70555555555555 1.0133582428097725 64.62666666666667\n"
     ]
    }
   ],
   "source": [
    "tester.test_w_decay()"
   ]
  },
  {
   "cell_type": "code",
   "execution_count": 3,
   "metadata": {},
   "outputs": [
    {
     "name": "stdout",
     "output_type": "stream",
     "text": [
      "weight_decay train_loss train_accuracy test_loss test_accuracy\n",
      "0.0005 0.5064915597089193 82.43111111111111 0.9135463330894709 68.92222222222222\n",
      "0.0005 0.5405149798333073 81.03444444444445 0.92550458826802 68.01666666666667\n",
      "0.0005 0.5390307161516029 81.35222222222222 0.9188600676980886 68.35777777777778\n"
     ]
    }
   ],
   "source": [
    "tester.test_w_decay(weight_decays=[0.0005])"
   ]
  },
  {
   "cell_type": "markdown",
   "metadata": {},
   "source": [
    "Test of data augmentation "
   ]
  },
  {
   "cell_type": "code",
   "execution_count": 2,
   "metadata": {},
   "outputs": [
    {
     "name": "stdout",
     "output_type": "stream",
     "text": [
      "transformation train_loss train_accuracy test_loss test_accuracy\n",
      "no-transform 0.5875262074037417 79.93777777777778 0.9008542041886937 68.21444444444444\n",
      "no-transform 0.5478698887722881 80.94444444444444 0.9151122597130862 68.64111111111112\n",
      "no-transform 0.5464487183657651 80.8788888888889 0.9183117235926065 68.52888888888889\n",
      "flips 0.9573946897558924 65.49111111111111 1.0371837697245858 62.717777777777776\n",
      "flips 0.9446547475947716 65.61111111111111 1.034061566333879 62.611111111111114\n",
      "flips 0.9202998200218914 66.50888888888889 1.010271860117262 63.66555555555556\n",
      "auto-augment 1.1237513981719818 59.772222222222226 1.0100966221229597 64.06444444444445\n",
      "auto-augment 1.1096255787953846 61.39333333333333 1.0050860951569947 64.71555555555555\n",
      "auto-augment 1.0343810709883978 62.906666666666666 0.9425679983740504 66.12222222222222\n",
      "rand-augment 1.005288171526634 65.05777777777777 0.9508775702931664 66.54777777777778\n",
      "rand-augment 0.992877999425909 64.82777777777778 0.9580857025628741 66.04777777777778\n",
      "rand-augment 0.9628039399182462 65.91444444444444 0.9248942038552328 67.2311111111111\n"
     ]
    }
   ],
   "source": [
    "tester.test_augmentation()"
   ]
  },
  {
   "cell_type": "markdown",
   "metadata": {},
   "source": [
    "Test of different initialization for wide resnet and dense net with default parameters"
   ]
  },
  {
   "cell_type": "code",
   "execution_count": null,
   "metadata": {},
   "outputs": [
    {
     "name": "stdout",
     "output_type": "stream",
     "text": [
      "initialization train_loss train_accuracy valid_loss valid_accuracy\n",
      "Wide_ResNet50_2_Weights.DEFAULT 0.2104648084767425 93.31444444444445 0.9433015358041633 70.28\n",
      "Patience triggered. End of learning\n",
      "Wide_ResNet50_2_Weights.DEFAULT 0.27375798444788396 91.06777777777778 0.894719716838815 71.61666666666666\n",
      "Patience triggered. End of learning\n",
      "Wide_ResNet50_2_Weights.DEFAULT 0.257330683830409 92.17111111111112 0.9053465920415792 70.86666666666666\n",
      "Wide_ResNet50_2_Weights.IMAGENET1K_V1 0.7518086225864432 74.49777777777778 1.0348402610556646 64.28777777777778\n"
     ]
    }
   ],
   "source": [
    "from implementation import train_model, evaluate\n",
    "from loader import load_png_images\n",
    "from torch.optim import AdamW\n",
    "from torchvision import models\n",
    "import torch.nn as nn\n",
    "train_path=\"data/train\"\n",
    "valid_path=\"data/valid\"\n",
    "val_loader = load_png_images(valid_path, batch_size=1024, shuffle=False)[0] \n",
    "result = []\n",
    "column_names = [\"initialization\",\"train_loss\",\"train_accuracy\",\"valid_loss\",\"valid_accuracy\"]\n",
    "print(*column_names)\n",
    "for initial in [\"Wide_ResNet50_2_Weights.DEFAULT\",\"Wide_ResNet50_2_Weights.IMAGENET1K_V1\"]:\n",
    "    for i in range(3):\n",
    "        train_loader, num_classes = load_png_images(train_path, batch_size=32)\n",
    "        model = models.wide_resnet50_2(weights=initial)\n",
    "        model.fc = nn.Linear(model.fc.in_features, num_classes)   \n",
    "        optimizer = AdamW(model.parameters())\n",
    "        train_model(model, train_loader, val_loader, optimizer, epochs=10,printer = False)\n",
    "        r_loss, r_acc = evaluate(model, train_loader)\n",
    "        t_loss, t_acc = evaluate(model, val_loader)\n",
    "        values = [initial,r_loss, r_acc,t_loss, t_acc]\n",
    "        result.append(values)\n",
    "        print(*values)"
   ]
  },
  {
   "cell_type": "code",
   "execution_count": 5,
   "metadata": {},
   "outputs": [
    {
     "name": "stdout",
     "output_type": "stream",
     "text": [
      "initialization train_loss train_accuracy valid_loss valid_accuracy\n",
      "Patience triggered. End of learning\n",
      "DenseNet121_Weights.DEFAULT 1.573837946582595 58.30444444444444 1.587141359394247 57.08777777777778\n",
      "DenseNet121_Weights.DEFAULT 0.8496227198506521 73.05222222222223 1.0276648202403025 66.58111111111111\n",
      "Patience triggered. End of learning\n",
      "DenseNet121_Weights.DEFAULT 4.555562995037827 62.48111111111111 4.425317401913079 60.327777777777776\n",
      "Patience triggered. End of learning\n",
      "DenseNet121_Weights.IMAGENET1K_V1 1.1019399262728997 66.01 1.1936945559626275 62.9\n",
      "Patience triggered. End of learning\n",
      "DenseNet121_Weights.IMAGENET1K_V1 14.448144044564197 64.06 16.57468796995553 61.623333333333335\n",
      "Patience triggered. End of learning\n",
      "DenseNet121_Weights.IMAGENET1K_V1 1.307279865554419 66.91111111111111 1.3900877172974022 63.72222222222222\n"
     ]
    }
   ],
   "source": [
    "from implementation import train_model, evaluate\n",
    "from loader import load_png_images\n",
    "from torch.optim import AdamW\n",
    "from torchvision import models\n",
    "import torch.nn as nn\n",
    "train_path=\"data/train\"\n",
    "valid_path=\"data/valid\"\n",
    "val_loader = load_png_images(valid_path, batch_size=1024, shuffle=False)[0] \n",
    "result = []\n",
    "column_names = [\"initialization\",\"train_loss\",\"train_accuracy\",\"valid_loss\",\"valid_accuracy\"]\n",
    "print(*column_names)\n",
    "for initial in [\"DenseNet121_Weights.DEFAULT\",\"DenseNet121_Weights.IMAGENET1K_V1\"]:\n",
    "    for i in range(3):\n",
    "        train_loader, num_classes = load_png_images(train_path, batch_size=32)\n",
    "        model = models.densenet121(weights=initial)\n",
    "        model.fc = nn.Linear(model.classifier.in_features, num_classes)   \n",
    "        optimizer = AdamW(model.parameters())\n",
    "        train_model(model, train_loader, val_loader, optimizer, epochs=10,printer = False)\n",
    "        r_loss, r_acc = evaluate(model, train_loader)\n",
    "        t_loss, t_acc = evaluate(model, val_loader)\n",
    "        values = [initial,r_loss, r_acc,t_loss, t_acc]\n",
    "        result.append(values)\n",
    "        print(*values)"
   ]
  },
  {
   "cell_type": "markdown",
   "metadata": {},
   "source": [
    "Summarization of testing influence of parameters on model performance"
   ]
  },
  {
   "cell_type": "code",
   "execution_count": 3,
   "metadata": {},
   "outputs": [],
   "source": [
    "results = tester.aggregate_csv_files()"
   ]
  },
  {
   "cell_type": "code",
   "execution_count": 6,
   "metadata": {},
   "outputs": [
    {
     "data": {
      "application/vnd.microsoft.datawrangler.viewer.v0+json": {
       "columns": [
        {
         "name": "transformation",
         "rawType": "object",
         "type": "string"
        },
        {
         "name": "train_loss_mean",
         "rawType": "float64",
         "type": "float"
        },
        {
         "name": "train_loss_std",
         "rawType": "float64",
         "type": "float"
        },
        {
         "name": "train_accuracy_mean",
         "rawType": "float64",
         "type": "float"
        },
        {
         "name": "train_accuracy_std",
         "rawType": "float64",
         "type": "float"
        },
        {
         "name": "test_loss_mean",
         "rawType": "float64",
         "type": "float"
        },
        {
         "name": "test_loss_std",
         "rawType": "float64",
         "type": "float"
        },
        {
         "name": "test_accuracy_mean",
         "rawType": "float64",
         "type": "float"
        },
        {
         "name": "test_accuracy_std",
         "rawType": "float64",
         "type": "float"
        }
       ],
       "conversionMethod": "pd.DataFrame",
       "ref": "53609a5f-e3c8-4787-815d-509cf71f9d27",
       "rows": [
        [
         "auto-augment",
         "1.089",
         "0.048",
         "61.357",
         "1.568",
         "0.986",
         "0.038",
         "64.967",
         "1.052"
        ],
        [
         "flips",
         "0.941",
         "0.019",
         "65.87",
         "0.556",
         "1.027",
         "0.015",
         "62.998",
         "0.58"
        ],
        [
         "no-transform",
         "0.561",
         "0.023",
         "80.587",
         "0.563",
         "0.911",
         "0.009",
         "68.461",
         "0.221"
        ],
        [
         "rand-augment",
         "0.987",
         "0.022",
         "65.267",
         "0.573",
         "0.945",
         "0.017",
         "66.609",
         "0.594"
        ]
       ],
       "shape": {
        "columns": 8,
        "rows": 4
       }
      },
      "text/html": [
       "<div>\n",
       "<style scoped>\n",
       "    .dataframe tbody tr th:only-of-type {\n",
       "        vertical-align: middle;\n",
       "    }\n",
       "\n",
       "    .dataframe tbody tr th {\n",
       "        vertical-align: top;\n",
       "    }\n",
       "\n",
       "    .dataframe thead th {\n",
       "        text-align: right;\n",
       "    }\n",
       "</style>\n",
       "<table border=\"1\" class=\"dataframe\">\n",
       "  <thead>\n",
       "    <tr style=\"text-align: right;\">\n",
       "      <th></th>\n",
       "      <th>train_loss_mean</th>\n",
       "      <th>train_loss_std</th>\n",
       "      <th>train_accuracy_mean</th>\n",
       "      <th>train_accuracy_std</th>\n",
       "      <th>test_loss_mean</th>\n",
       "      <th>test_loss_std</th>\n",
       "      <th>test_accuracy_mean</th>\n",
       "      <th>test_accuracy_std</th>\n",
       "    </tr>\n",
       "    <tr>\n",
       "      <th>transformation</th>\n",
       "      <th></th>\n",
       "      <th></th>\n",
       "      <th></th>\n",
       "      <th></th>\n",
       "      <th></th>\n",
       "      <th></th>\n",
       "      <th></th>\n",
       "      <th></th>\n",
       "    </tr>\n",
       "  </thead>\n",
       "  <tbody>\n",
       "    <tr>\n",
       "      <th>auto-augment</th>\n",
       "      <td>1.089</td>\n",
       "      <td>0.048</td>\n",
       "      <td>61.357</td>\n",
       "      <td>1.568</td>\n",
       "      <td>0.986</td>\n",
       "      <td>0.038</td>\n",
       "      <td>64.967</td>\n",
       "      <td>1.052</td>\n",
       "    </tr>\n",
       "    <tr>\n",
       "      <th>flips</th>\n",
       "      <td>0.941</td>\n",
       "      <td>0.019</td>\n",
       "      <td>65.870</td>\n",
       "      <td>0.556</td>\n",
       "      <td>1.027</td>\n",
       "      <td>0.015</td>\n",
       "      <td>62.998</td>\n",
       "      <td>0.580</td>\n",
       "    </tr>\n",
       "    <tr>\n",
       "      <th>no-transform</th>\n",
       "      <td>0.561</td>\n",
       "      <td>0.023</td>\n",
       "      <td>80.587</td>\n",
       "      <td>0.563</td>\n",
       "      <td>0.911</td>\n",
       "      <td>0.009</td>\n",
       "      <td>68.461</td>\n",
       "      <td>0.221</td>\n",
       "    </tr>\n",
       "    <tr>\n",
       "      <th>rand-augment</th>\n",
       "      <td>0.987</td>\n",
       "      <td>0.022</td>\n",
       "      <td>65.267</td>\n",
       "      <td>0.573</td>\n",
       "      <td>0.945</td>\n",
       "      <td>0.017</td>\n",
       "      <td>66.609</td>\n",
       "      <td>0.594</td>\n",
       "    </tr>\n",
       "  </tbody>\n",
       "</table>\n",
       "</div>"
      ],
      "text/plain": [
       "                train_loss_mean  train_loss_std  train_accuracy_mean  \\\n",
       "transformation                                                         \n",
       "auto-augment              1.089           0.048               61.357   \n",
       "flips                     0.941           0.019               65.870   \n",
       "no-transform              0.561           0.023               80.587   \n",
       "rand-augment              0.987           0.022               65.267   \n",
       "\n",
       "                train_accuracy_std  test_loss_mean  test_loss_std  \\\n",
       "transformation                                                      \n",
       "auto-augment                 1.568           0.986          0.038   \n",
       "flips                        0.556           1.027          0.015   \n",
       "no-transform                 0.563           0.911          0.009   \n",
       "rand-augment                 0.573           0.945          0.017   \n",
       "\n",
       "                test_accuracy_mean  test_accuracy_std  \n",
       "transformation                                         \n",
       "auto-augment                64.967              1.052  \n",
       "flips                       62.998              0.580  \n",
       "no-transform                68.461              0.221  \n",
       "rand-augment                66.609              0.594  "
      ]
     },
     "execution_count": 6,
     "metadata": {},
     "output_type": "execute_result"
    }
   ],
   "source": [
    "results[0]"
   ]
  },
  {
   "cell_type": "code",
   "execution_count": 7,
   "metadata": {},
   "outputs": [
    {
     "data": {
      "application/vnd.microsoft.datawrangler.viewer.v0+json": {
       "columns": [
        {
         "name": "batchsize",
         "rawType": "int64",
         "type": "integer"
        },
        {
         "name": "train_loss_mean",
         "rawType": "float64",
         "type": "float"
        },
        {
         "name": "train_loss_std",
         "rawType": "float64",
         "type": "float"
        },
        {
         "name": "train_accuracy_mean",
         "rawType": "float64",
         "type": "float"
        },
        {
         "name": "train_accuracy_std",
         "rawType": "float64",
         "type": "float"
        },
        {
         "name": "test_loss_mean",
         "rawType": "float64",
         "type": "float"
        },
        {
         "name": "test_loss_std",
         "rawType": "float64",
         "type": "float"
        },
        {
         "name": "test_accuracy_mean",
         "rawType": "float64",
         "type": "float"
        },
        {
         "name": "test_accuracy_std",
         "rawType": "float64",
         "type": "float"
        }
       ],
       "conversionMethod": "pd.DataFrame",
       "ref": "26c8a7e1-b7ef-4ddf-b45f-5255f51f468c",
       "rows": [
        [
         "16",
         "0.556",
         "0.026",
         "80.861",
         "0.846",
         "0.935",
         "0.001",
         "67.82",
         "0.396"
        ],
        [
         "32",
         "0.535",
         "0.029",
         "80.815",
         "1.129",
         "0.937",
         "0.02",
         "68.204",
         "0.605"
        ],
        [
         "64",
         "0.563",
         "0.051",
         "79.955",
         "1.76",
         "0.955",
         "0.026",
         "67.555",
         "1.038"
        ]
       ],
       "shape": {
        "columns": 8,
        "rows": 3
       }
      },
      "text/html": [
       "<div>\n",
       "<style scoped>\n",
       "    .dataframe tbody tr th:only-of-type {\n",
       "        vertical-align: middle;\n",
       "    }\n",
       "\n",
       "    .dataframe tbody tr th {\n",
       "        vertical-align: top;\n",
       "    }\n",
       "\n",
       "    .dataframe thead th {\n",
       "        text-align: right;\n",
       "    }\n",
       "</style>\n",
       "<table border=\"1\" class=\"dataframe\">\n",
       "  <thead>\n",
       "    <tr style=\"text-align: right;\">\n",
       "      <th></th>\n",
       "      <th>train_loss_mean</th>\n",
       "      <th>train_loss_std</th>\n",
       "      <th>train_accuracy_mean</th>\n",
       "      <th>train_accuracy_std</th>\n",
       "      <th>test_loss_mean</th>\n",
       "      <th>test_loss_std</th>\n",
       "      <th>test_accuracy_mean</th>\n",
       "      <th>test_accuracy_std</th>\n",
       "    </tr>\n",
       "    <tr>\n",
       "      <th>batchsize</th>\n",
       "      <th></th>\n",
       "      <th></th>\n",
       "      <th></th>\n",
       "      <th></th>\n",
       "      <th></th>\n",
       "      <th></th>\n",
       "      <th></th>\n",
       "      <th></th>\n",
       "    </tr>\n",
       "  </thead>\n",
       "  <tbody>\n",
       "    <tr>\n",
       "      <th>16</th>\n",
       "      <td>0.556</td>\n",
       "      <td>0.026</td>\n",
       "      <td>80.861</td>\n",
       "      <td>0.846</td>\n",
       "      <td>0.935</td>\n",
       "      <td>0.001</td>\n",
       "      <td>67.820</td>\n",
       "      <td>0.396</td>\n",
       "    </tr>\n",
       "    <tr>\n",
       "      <th>32</th>\n",
       "      <td>0.535</td>\n",
       "      <td>0.029</td>\n",
       "      <td>80.815</td>\n",
       "      <td>1.129</td>\n",
       "      <td>0.937</td>\n",
       "      <td>0.020</td>\n",
       "      <td>68.204</td>\n",
       "      <td>0.605</td>\n",
       "    </tr>\n",
       "    <tr>\n",
       "      <th>64</th>\n",
       "      <td>0.563</td>\n",
       "      <td>0.051</td>\n",
       "      <td>79.955</td>\n",
       "      <td>1.760</td>\n",
       "      <td>0.955</td>\n",
       "      <td>0.026</td>\n",
       "      <td>67.555</td>\n",
       "      <td>1.038</td>\n",
       "    </tr>\n",
       "  </tbody>\n",
       "</table>\n",
       "</div>"
      ],
      "text/plain": [
       "           train_loss_mean  train_loss_std  train_accuracy_mean  \\\n",
       "batchsize                                                         \n",
       "16                   0.556           0.026               80.861   \n",
       "32                   0.535           0.029               80.815   \n",
       "64                   0.563           0.051               79.955   \n",
       "\n",
       "           train_accuracy_std  test_loss_mean  test_loss_std  \\\n",
       "batchsize                                                      \n",
       "16                      0.846           0.935          0.001   \n",
       "32                      1.129           0.937          0.020   \n",
       "64                      1.760           0.955          0.026   \n",
       "\n",
       "           test_accuracy_mean  test_accuracy_std  \n",
       "batchsize                                         \n",
       "16                     67.820              0.396  \n",
       "32                     68.204              0.605  \n",
       "64                     67.555              1.038  "
      ]
     },
     "execution_count": 7,
     "metadata": {},
     "output_type": "execute_result"
    }
   ],
   "source": [
    "results[1]"
   ]
  },
  {
   "cell_type": "code",
   "execution_count": 9,
   "metadata": {},
   "outputs": [
    {
     "data": {
      "application/vnd.microsoft.datawrangler.viewer.v0+json": {
       "columns": [
        {
         "name": "initialization",
         "rawType": "object",
         "type": "string"
        },
        {
         "name": " train_loss_mean",
         "rawType": "float64",
         "type": "float"
        },
        {
         "name": " train_loss_std",
         "rawType": "float64",
         "type": "float"
        },
        {
         "name": " train_accuracy_mean",
         "rawType": "float64",
         "type": "float"
        },
        {
         "name": " train_accuracy_std",
         "rawType": "float64",
         "type": "float"
        },
        {
         "name": " valid_loss_mean",
         "rawType": "float64",
         "type": "float"
        },
        {
         "name": " valid_loss_std",
         "rawType": "float64",
         "type": "float"
        },
        {
         "name": " valid_accuracy_mean",
         "rawType": "float64",
         "type": "float"
        },
        {
         "name": " valid_accuracy_std",
         "rawType": "float64",
         "type": "float"
        }
       ],
       "conversionMethod": "pd.DataFrame",
       "ref": "a090aa3b-049d-4591-b764-b618eded2352",
       "rows": [
        [
         "DenseNet121_Weights.DEFAULT",
         "2.326",
         "1.964",
         "64.613",
         "7.601",
         "2.347",
         "1.822",
         "61.332",
         "4.826"
        ],
        [
         "DenseNet121_Weights.IMAGENET1K_V1",
         "7.775",
         "9.437",
         "65.035",
         "1.379",
         "8.884",
         "10.876",
         "62.262",
         "0.903"
        ],
        [
         "DenseNet121_Weights.IMAGENET1K_V1 ",
         "1.307",
         null,
         "66.911",
         null,
         "1.39",
         null,
         "63.722",
         null
        ]
       ],
       "shape": {
        "columns": 8,
        "rows": 3
       }
      },
      "text/html": [
       "<div>\n",
       "<style scoped>\n",
       "    .dataframe tbody tr th:only-of-type {\n",
       "        vertical-align: middle;\n",
       "    }\n",
       "\n",
       "    .dataframe tbody tr th {\n",
       "        vertical-align: top;\n",
       "    }\n",
       "\n",
       "    .dataframe thead th {\n",
       "        text-align: right;\n",
       "    }\n",
       "</style>\n",
       "<table border=\"1\" class=\"dataframe\">\n",
       "  <thead>\n",
       "    <tr style=\"text-align: right;\">\n",
       "      <th></th>\n",
       "      <th>train_loss_mean</th>\n",
       "      <th>train_loss_std</th>\n",
       "      <th>train_accuracy_mean</th>\n",
       "      <th>train_accuracy_std</th>\n",
       "      <th>valid_loss_mean</th>\n",
       "      <th>valid_loss_std</th>\n",
       "      <th>valid_accuracy_mean</th>\n",
       "      <th>valid_accuracy_std</th>\n",
       "    </tr>\n",
       "    <tr>\n",
       "      <th>initialization</th>\n",
       "      <th></th>\n",
       "      <th></th>\n",
       "      <th></th>\n",
       "      <th></th>\n",
       "      <th></th>\n",
       "      <th></th>\n",
       "      <th></th>\n",
       "      <th></th>\n",
       "    </tr>\n",
       "  </thead>\n",
       "  <tbody>\n",
       "    <tr>\n",
       "      <th>DenseNet121_Weights.DEFAULT</th>\n",
       "      <td>2.326</td>\n",
       "      <td>1.964</td>\n",
       "      <td>64.613</td>\n",
       "      <td>7.601</td>\n",
       "      <td>2.347</td>\n",
       "      <td>1.822</td>\n",
       "      <td>61.332</td>\n",
       "      <td>4.826</td>\n",
       "    </tr>\n",
       "    <tr>\n",
       "      <th>DenseNet121_Weights.IMAGENET1K_V1</th>\n",
       "      <td>7.775</td>\n",
       "      <td>9.437</td>\n",
       "      <td>65.035</td>\n",
       "      <td>1.379</td>\n",
       "      <td>8.884</td>\n",
       "      <td>10.876</td>\n",
       "      <td>62.262</td>\n",
       "      <td>0.903</td>\n",
       "    </tr>\n",
       "    <tr>\n",
       "      <th>DenseNet121_Weights.IMAGENET1K_V1</th>\n",
       "      <td>1.307</td>\n",
       "      <td>NaN</td>\n",
       "      <td>66.911</td>\n",
       "      <td>NaN</td>\n",
       "      <td>1.390</td>\n",
       "      <td>NaN</td>\n",
       "      <td>63.722</td>\n",
       "      <td>NaN</td>\n",
       "    </tr>\n",
       "  </tbody>\n",
       "</table>\n",
       "</div>"
      ],
      "text/plain": [
       "                                    train_loss_mean  train_loss_std  \\\n",
       "initialization                                                        \n",
       "DenseNet121_Weights.DEFAULT                   2.326           1.964   \n",
       "DenseNet121_Weights.IMAGENET1K_V1             7.775           9.437   \n",
       "DenseNet121_Weights.IMAGENET1K_V1             1.307             NaN   \n",
       "\n",
       "                                    train_accuracy_mean  train_accuracy_std  \\\n",
       "initialization                                                                \n",
       "DenseNet121_Weights.DEFAULT                      64.613               7.601   \n",
       "DenseNet121_Weights.IMAGENET1K_V1                65.035               1.379   \n",
       "DenseNet121_Weights.IMAGENET1K_V1                66.911                 NaN   \n",
       "\n",
       "                                    valid_loss_mean  valid_loss_std  \\\n",
       "initialization                                                        \n",
       "DenseNet121_Weights.DEFAULT                   2.347           1.822   \n",
       "DenseNet121_Weights.IMAGENET1K_V1             8.884          10.876   \n",
       "DenseNet121_Weights.IMAGENET1K_V1             1.390             NaN   \n",
       "\n",
       "                                    valid_accuracy_mean  valid_accuracy_std  \n",
       "initialization                                                               \n",
       "DenseNet121_Weights.DEFAULT                      61.332               4.826  \n",
       "DenseNet121_Weights.IMAGENET1K_V1                62.262               0.903  \n",
       "DenseNet121_Weights.IMAGENET1K_V1                63.722                 NaN  "
      ]
     },
     "execution_count": 9,
     "metadata": {},
     "output_type": "execute_result"
    }
   ],
   "source": [
    "results[2]"
   ]
  },
  {
   "cell_type": "code",
   "execution_count": 10,
   "metadata": {},
   "outputs": [
    {
     "data": {
      "application/vnd.microsoft.datawrangler.viewer.v0+json": {
       "columns": [
        {
         "name": "dropout_rate",
         "rawType": "float64",
         "type": "float"
        },
        {
         "name": "train_loss_mean",
         "rawType": "float64",
         "type": "float"
        },
        {
         "name": "train_loss_std",
         "rawType": "float64",
         "type": "float"
        },
        {
         "name": "train_accuracy_mean",
         "rawType": "float64",
         "type": "float"
        },
        {
         "name": "train_accuracy_std",
         "rawType": "float64",
         "type": "float"
        },
        {
         "name": "test_loss_mean",
         "rawType": "float64",
         "type": "float"
        },
        {
         "name": "test_loss_std",
         "rawType": "float64",
         "type": "float"
        },
        {
         "name": "test_accuracy_mean",
         "rawType": "float64",
         "type": "float"
        },
        {
         "name": "test_accuracy_std",
         "rawType": "float64",
         "type": "float"
        }
       ],
       "conversionMethod": "pd.DataFrame",
       "ref": "9d09c71c-eca9-405b-bd27-29201efe8e0c",
       "rows": [
        [
         "0.0",
         "0.331",
         "0.082",
         "88.671",
         "2.813",
         "1.091",
         "0.092",
         "67.171",
         "0.423"
        ],
        [
         "0.25",
         "0.561",
         "0.023",
         "80.587",
         "0.563",
         "0.911",
         "0.009",
         "68.461",
         "0.221"
        ],
        [
         "0.5",
         "0.797",
         "0.005",
         "71.403",
         "0.385",
         "0.957",
         "0.015",
         "65.818",
         "0.44"
        ],
        [
         "0.75",
         "1.08",
         "0.015",
         "60.998",
         "0.619",
         "1.14",
         "0.015",
         "58.869",
         "0.576"
        ]
       ],
       "shape": {
        "columns": 8,
        "rows": 4
       }
      },
      "text/html": [
       "<div>\n",
       "<style scoped>\n",
       "    .dataframe tbody tr th:only-of-type {\n",
       "        vertical-align: middle;\n",
       "    }\n",
       "\n",
       "    .dataframe tbody tr th {\n",
       "        vertical-align: top;\n",
       "    }\n",
       "\n",
       "    .dataframe thead th {\n",
       "        text-align: right;\n",
       "    }\n",
       "</style>\n",
       "<table border=\"1\" class=\"dataframe\">\n",
       "  <thead>\n",
       "    <tr style=\"text-align: right;\">\n",
       "      <th></th>\n",
       "      <th>train_loss_mean</th>\n",
       "      <th>train_loss_std</th>\n",
       "      <th>train_accuracy_mean</th>\n",
       "      <th>train_accuracy_std</th>\n",
       "      <th>test_loss_mean</th>\n",
       "      <th>test_loss_std</th>\n",
       "      <th>test_accuracy_mean</th>\n",
       "      <th>test_accuracy_std</th>\n",
       "    </tr>\n",
       "    <tr>\n",
       "      <th>dropout_rate</th>\n",
       "      <th></th>\n",
       "      <th></th>\n",
       "      <th></th>\n",
       "      <th></th>\n",
       "      <th></th>\n",
       "      <th></th>\n",
       "      <th></th>\n",
       "      <th></th>\n",
       "    </tr>\n",
       "  </thead>\n",
       "  <tbody>\n",
       "    <tr>\n",
       "      <th>0.00</th>\n",
       "      <td>0.331</td>\n",
       "      <td>0.082</td>\n",
       "      <td>88.671</td>\n",
       "      <td>2.813</td>\n",
       "      <td>1.091</td>\n",
       "      <td>0.092</td>\n",
       "      <td>67.171</td>\n",
       "      <td>0.423</td>\n",
       "    </tr>\n",
       "    <tr>\n",
       "      <th>0.25</th>\n",
       "      <td>0.561</td>\n",
       "      <td>0.023</td>\n",
       "      <td>80.587</td>\n",
       "      <td>0.563</td>\n",
       "      <td>0.911</td>\n",
       "      <td>0.009</td>\n",
       "      <td>68.461</td>\n",
       "      <td>0.221</td>\n",
       "    </tr>\n",
       "    <tr>\n",
       "      <th>0.50</th>\n",
       "      <td>0.797</td>\n",
       "      <td>0.005</td>\n",
       "      <td>71.403</td>\n",
       "      <td>0.385</td>\n",
       "      <td>0.957</td>\n",
       "      <td>0.015</td>\n",
       "      <td>65.818</td>\n",
       "      <td>0.440</td>\n",
       "    </tr>\n",
       "    <tr>\n",
       "      <th>0.75</th>\n",
       "      <td>1.080</td>\n",
       "      <td>0.015</td>\n",
       "      <td>60.998</td>\n",
       "      <td>0.619</td>\n",
       "      <td>1.140</td>\n",
       "      <td>0.015</td>\n",
       "      <td>58.869</td>\n",
       "      <td>0.576</td>\n",
       "    </tr>\n",
       "  </tbody>\n",
       "</table>\n",
       "</div>"
      ],
      "text/plain": [
       "              train_loss_mean  train_loss_std  train_accuracy_mean  \\\n",
       "dropout_rate                                                         \n",
       "0.00                    0.331           0.082               88.671   \n",
       "0.25                    0.561           0.023               80.587   \n",
       "0.50                    0.797           0.005               71.403   \n",
       "0.75                    1.080           0.015               60.998   \n",
       "\n",
       "              train_accuracy_std  test_loss_mean  test_loss_std  \\\n",
       "dropout_rate                                                      \n",
       "0.00                       2.813           1.091          0.092   \n",
       "0.25                       0.563           0.911          0.009   \n",
       "0.50                       0.385           0.957          0.015   \n",
       "0.75                       0.619           1.140          0.015   \n",
       "\n",
       "              test_accuracy_mean  test_accuracy_std  \n",
       "dropout_rate                                         \n",
       "0.00                      67.171              0.423  \n",
       "0.25                      68.461              0.221  \n",
       "0.50                      65.818              0.440  \n",
       "0.75                      58.869              0.576  "
      ]
     },
     "execution_count": 10,
     "metadata": {},
     "output_type": "execute_result"
    }
   ],
   "source": [
    "results[3]"
   ]
  },
  {
   "cell_type": "code",
   "execution_count": 11,
   "metadata": {},
   "outputs": [
    {
     "data": {
      "application/vnd.microsoft.datawrangler.viewer.v0+json": {
       "columns": [
        {
         "name": "learning_rate",
         "rawType": "float64",
         "type": "float"
        },
        {
         "name": "train_loss_mean",
         "rawType": "float64",
         "type": "float"
        },
        {
         "name": "train_loss_std",
         "rawType": "float64",
         "type": "float"
        },
        {
         "name": "train_accuracy_mean",
         "rawType": "float64",
         "type": "float"
        },
        {
         "name": "train_accuracy_std",
         "rawType": "float64",
         "type": "float"
        },
        {
         "name": "test_loss_mean",
         "rawType": "float64",
         "type": "float"
        },
        {
         "name": "test_loss_std",
         "rawType": "float64",
         "type": "float"
        },
        {
         "name": "test_accuracy_mean",
         "rawType": "float64",
         "type": "float"
        },
        {
         "name": "test_accuracy_std",
         "rawType": "float64",
         "type": "float"
        }
       ],
       "conversionMethod": "pd.DataFrame",
       "ref": "eb37f902-dc4b-46bc-aa93-a3254e91dc5c",
       "rows": [
        [
         "0.0001",
         "0.635",
         "0.023",
         "77.671",
         "0.962",
         "0.941",
         "0.023",
         "66.797",
         "0.382"
        ],
        [
         "0.001",
         "0.533",
         "0.011",
         "81.257",
         "0.486",
         "0.937",
         "0.007",
         "67.932",
         "0.301"
        ],
        [
         "0.01",
         "1.15",
         "0.042",
         "57.898",
         "2.53",
         "1.24",
         "0.055",
         "55.067",
         "2.358"
        ]
       ],
       "shape": {
        "columns": 8,
        "rows": 3
       }
      },
      "text/html": [
       "<div>\n",
       "<style scoped>\n",
       "    .dataframe tbody tr th:only-of-type {\n",
       "        vertical-align: middle;\n",
       "    }\n",
       "\n",
       "    .dataframe tbody tr th {\n",
       "        vertical-align: top;\n",
       "    }\n",
       "\n",
       "    .dataframe thead th {\n",
       "        text-align: right;\n",
       "    }\n",
       "</style>\n",
       "<table border=\"1\" class=\"dataframe\">\n",
       "  <thead>\n",
       "    <tr style=\"text-align: right;\">\n",
       "      <th></th>\n",
       "      <th>train_loss_mean</th>\n",
       "      <th>train_loss_std</th>\n",
       "      <th>train_accuracy_mean</th>\n",
       "      <th>train_accuracy_std</th>\n",
       "      <th>test_loss_mean</th>\n",
       "      <th>test_loss_std</th>\n",
       "      <th>test_accuracy_mean</th>\n",
       "      <th>test_accuracy_std</th>\n",
       "    </tr>\n",
       "    <tr>\n",
       "      <th>learning_rate</th>\n",
       "      <th></th>\n",
       "      <th></th>\n",
       "      <th></th>\n",
       "      <th></th>\n",
       "      <th></th>\n",
       "      <th></th>\n",
       "      <th></th>\n",
       "      <th></th>\n",
       "    </tr>\n",
       "  </thead>\n",
       "  <tbody>\n",
       "    <tr>\n",
       "      <th>0.0001</th>\n",
       "      <td>0.635</td>\n",
       "      <td>0.023</td>\n",
       "      <td>77.671</td>\n",
       "      <td>0.962</td>\n",
       "      <td>0.941</td>\n",
       "      <td>0.023</td>\n",
       "      <td>66.797</td>\n",
       "      <td>0.382</td>\n",
       "    </tr>\n",
       "    <tr>\n",
       "      <th>0.0010</th>\n",
       "      <td>0.533</td>\n",
       "      <td>0.011</td>\n",
       "      <td>81.257</td>\n",
       "      <td>0.486</td>\n",
       "      <td>0.937</td>\n",
       "      <td>0.007</td>\n",
       "      <td>67.932</td>\n",
       "      <td>0.301</td>\n",
       "    </tr>\n",
       "    <tr>\n",
       "      <th>0.0100</th>\n",
       "      <td>1.150</td>\n",
       "      <td>0.042</td>\n",
       "      <td>57.898</td>\n",
       "      <td>2.530</td>\n",
       "      <td>1.240</td>\n",
       "      <td>0.055</td>\n",
       "      <td>55.067</td>\n",
       "      <td>2.358</td>\n",
       "    </tr>\n",
       "  </tbody>\n",
       "</table>\n",
       "</div>"
      ],
      "text/plain": [
       "               train_loss_mean  train_loss_std  train_accuracy_mean  \\\n",
       "learning_rate                                                         \n",
       "0.0001                   0.635           0.023               77.671   \n",
       "0.0010                   0.533           0.011               81.257   \n",
       "0.0100                   1.150           0.042               57.898   \n",
       "\n",
       "               train_accuracy_std  test_loss_mean  test_loss_std  \\\n",
       "learning_rate                                                      \n",
       "0.0001                      0.962           0.941          0.023   \n",
       "0.0010                      0.486           0.937          0.007   \n",
       "0.0100                      2.530           1.240          0.055   \n",
       "\n",
       "               test_accuracy_mean  test_accuracy_std  \n",
       "learning_rate                                         \n",
       "0.0001                     66.797              0.382  \n",
       "0.0010                     67.932              0.301  \n",
       "0.0100                     55.067              2.358  "
      ]
     },
     "execution_count": 11,
     "metadata": {},
     "output_type": "execute_result"
    }
   ],
   "source": [
    "results[4]"
   ]
  },
  {
   "cell_type": "code",
   "execution_count": 12,
   "metadata": {},
   "outputs": [
    {
     "data": {
      "application/vnd.microsoft.datawrangler.viewer.v0+json": {
       "columns": [
        {
         "name": "weight_decay",
         "rawType": "float64",
         "type": "float"
        },
        {
         "name": "train_loss_mean",
         "rawType": "float64",
         "type": "float"
        },
        {
         "name": "train_loss_std",
         "rawType": "float64",
         "type": "float"
        },
        {
         "name": "train_accuracy_mean",
         "rawType": "float64",
         "type": "float"
        },
        {
         "name": "train_accuracy_std",
         "rawType": "float64",
         "type": "float"
        },
        {
         "name": "test_loss_mean",
         "rawType": "float64",
         "type": "float"
        },
        {
         "name": "test_loss_std",
         "rawType": "float64",
         "type": "float"
        },
        {
         "name": "test_accuracy_mean",
         "rawType": "float64",
         "type": "float"
        },
        {
         "name": "test_accuracy_std",
         "rawType": "float64",
         "type": "float"
        }
       ],
       "conversionMethod": "pd.DataFrame",
       "ref": "ddcc7364-670f-4327-a480-678f4f42fd4a",
       "rows": [
        [
         "0.0005",
         "0.529",
         "0.019",
         "81.606",
         "0.732",
         "0.919",
         "0.006",
         "68.432",
         "0.457"
        ],
        [
         "0.001",
         "0.51",
         "0.011",
         "82.306",
         "0.346",
         "0.932",
         "0.028",
         "68.559",
         "0.486"
        ],
        [
         "0.01",
         "0.548",
         "0.015",
         "80.975",
         "0.495",
         "0.926",
         "0.022",
         "67.95",
         "0.573"
        ],
        [
         "0.1",
         "0.858",
         "0.045",
         "70.648",
         "1.502",
         "1.012",
         "0.049",
         "64.515",
         "1.489"
        ]
       ],
       "shape": {
        "columns": 8,
        "rows": 4
       }
      },
      "text/html": [
       "<div>\n",
       "<style scoped>\n",
       "    .dataframe tbody tr th:only-of-type {\n",
       "        vertical-align: middle;\n",
       "    }\n",
       "\n",
       "    .dataframe tbody tr th {\n",
       "        vertical-align: top;\n",
       "    }\n",
       "\n",
       "    .dataframe thead th {\n",
       "        text-align: right;\n",
       "    }\n",
       "</style>\n",
       "<table border=\"1\" class=\"dataframe\">\n",
       "  <thead>\n",
       "    <tr style=\"text-align: right;\">\n",
       "      <th></th>\n",
       "      <th>train_loss_mean</th>\n",
       "      <th>train_loss_std</th>\n",
       "      <th>train_accuracy_mean</th>\n",
       "      <th>train_accuracy_std</th>\n",
       "      <th>test_loss_mean</th>\n",
       "      <th>test_loss_std</th>\n",
       "      <th>test_accuracy_mean</th>\n",
       "      <th>test_accuracy_std</th>\n",
       "    </tr>\n",
       "    <tr>\n",
       "      <th>weight_decay</th>\n",
       "      <th></th>\n",
       "      <th></th>\n",
       "      <th></th>\n",
       "      <th></th>\n",
       "      <th></th>\n",
       "      <th></th>\n",
       "      <th></th>\n",
       "      <th></th>\n",
       "    </tr>\n",
       "  </thead>\n",
       "  <tbody>\n",
       "    <tr>\n",
       "      <th>0.0005</th>\n",
       "      <td>0.529</td>\n",
       "      <td>0.019</td>\n",
       "      <td>81.606</td>\n",
       "      <td>0.732</td>\n",
       "      <td>0.919</td>\n",
       "      <td>0.006</td>\n",
       "      <td>68.432</td>\n",
       "      <td>0.457</td>\n",
       "    </tr>\n",
       "    <tr>\n",
       "      <th>0.0010</th>\n",
       "      <td>0.510</td>\n",
       "      <td>0.011</td>\n",
       "      <td>82.306</td>\n",
       "      <td>0.346</td>\n",
       "      <td>0.932</td>\n",
       "      <td>0.028</td>\n",
       "      <td>68.559</td>\n",
       "      <td>0.486</td>\n",
       "    </tr>\n",
       "    <tr>\n",
       "      <th>0.0100</th>\n",
       "      <td>0.548</td>\n",
       "      <td>0.015</td>\n",
       "      <td>80.975</td>\n",
       "      <td>0.495</td>\n",
       "      <td>0.926</td>\n",
       "      <td>0.022</td>\n",
       "      <td>67.950</td>\n",
       "      <td>0.573</td>\n",
       "    </tr>\n",
       "    <tr>\n",
       "      <th>0.1000</th>\n",
       "      <td>0.858</td>\n",
       "      <td>0.045</td>\n",
       "      <td>70.648</td>\n",
       "      <td>1.502</td>\n",
       "      <td>1.012</td>\n",
       "      <td>0.049</td>\n",
       "      <td>64.515</td>\n",
       "      <td>1.489</td>\n",
       "    </tr>\n",
       "  </tbody>\n",
       "</table>\n",
       "</div>"
      ],
      "text/plain": [
       "              train_loss_mean  train_loss_std  train_accuracy_mean  \\\n",
       "weight_decay                                                         \n",
       "0.0005                  0.529           0.019               81.606   \n",
       "0.0010                  0.510           0.011               82.306   \n",
       "0.0100                  0.548           0.015               80.975   \n",
       "0.1000                  0.858           0.045               70.648   \n",
       "\n",
       "              train_accuracy_std  test_loss_mean  test_loss_std  \\\n",
       "weight_decay                                                      \n",
       "0.0005                     0.732           0.919          0.006   \n",
       "0.0010                     0.346           0.932          0.028   \n",
       "0.0100                     0.495           0.926          0.022   \n",
       "0.1000                     1.502           1.012          0.049   \n",
       "\n",
       "              test_accuracy_mean  test_accuracy_std  \n",
       "weight_decay                                         \n",
       "0.0005                    68.432              0.457  \n",
       "0.0010                    68.559              0.486  \n",
       "0.0100                    67.950              0.573  \n",
       "0.1000                    64.515              1.489  "
      ]
     },
     "execution_count": 12,
     "metadata": {},
     "output_type": "execute_result"
    }
   ],
   "source": [
    "results[5]"
   ]
  },
  {
   "cell_type": "code",
   "execution_count": 13,
   "metadata": {},
   "outputs": [
    {
     "data": {
      "application/vnd.microsoft.datawrangler.viewer.v0+json": {
       "columns": [
        {
         "name": "initialization",
         "rawType": "object",
         "type": "string"
        },
        {
         "name": " train_loss_mean",
         "rawType": "float64",
         "type": "float"
        },
        {
         "name": " train_loss_std",
         "rawType": "float64",
         "type": "float"
        },
        {
         "name": " train_accuracy_mean",
         "rawType": "float64",
         "type": "float"
        },
        {
         "name": " train_accuracy_std",
         "rawType": "float64",
         "type": "float"
        },
        {
         "name": " valid_loss_mean",
         "rawType": "float64",
         "type": "float"
        },
        {
         "name": " valid_loss_std",
         "rawType": "float64",
         "type": "float"
        },
        {
         "name": " valid_accuracy_mean",
         "rawType": "float64",
         "type": "float"
        },
        {
         "name": " valid_accuracy_std",
         "rawType": "float64",
         "type": "float"
        }
       ],
       "conversionMethod": "pd.DataFrame",
       "ref": "ba07293f-284c-44d9-9247-a765227d0314",
       "rows": [
        [
         "Wide_ResNet50_2_Weights.DEFAULT",
         "0.247",
         "0.033",
         "92.184",
         "1.123",
         "0.914",
         "0.026",
         "70.921",
         "0.67"
        ],
        [
         "Wide_ResNet50_2_Weights.IMAGENET1K_V1",
         "0.752",
         null,
         "74.498",
         null,
         "1.035",
         null,
         "64.288",
         null
        ]
       ],
       "shape": {
        "columns": 8,
        "rows": 2
       }
      },
      "text/html": [
       "<div>\n",
       "<style scoped>\n",
       "    .dataframe tbody tr th:only-of-type {\n",
       "        vertical-align: middle;\n",
       "    }\n",
       "\n",
       "    .dataframe tbody tr th {\n",
       "        vertical-align: top;\n",
       "    }\n",
       "\n",
       "    .dataframe thead th {\n",
       "        text-align: right;\n",
       "    }\n",
       "</style>\n",
       "<table border=\"1\" class=\"dataframe\">\n",
       "  <thead>\n",
       "    <tr style=\"text-align: right;\">\n",
       "      <th></th>\n",
       "      <th>train_loss_mean</th>\n",
       "      <th>train_loss_std</th>\n",
       "      <th>train_accuracy_mean</th>\n",
       "      <th>train_accuracy_std</th>\n",
       "      <th>valid_loss_mean</th>\n",
       "      <th>valid_loss_std</th>\n",
       "      <th>valid_accuracy_mean</th>\n",
       "      <th>valid_accuracy_std</th>\n",
       "    </tr>\n",
       "    <tr>\n",
       "      <th>initialization</th>\n",
       "      <th></th>\n",
       "      <th></th>\n",
       "      <th></th>\n",
       "      <th></th>\n",
       "      <th></th>\n",
       "      <th></th>\n",
       "      <th></th>\n",
       "      <th></th>\n",
       "    </tr>\n",
       "  </thead>\n",
       "  <tbody>\n",
       "    <tr>\n",
       "      <th>Wide_ResNet50_2_Weights.DEFAULT</th>\n",
       "      <td>0.247</td>\n",
       "      <td>0.033</td>\n",
       "      <td>92.184</td>\n",
       "      <td>1.123</td>\n",
       "      <td>0.914</td>\n",
       "      <td>0.026</td>\n",
       "      <td>70.921</td>\n",
       "      <td>0.67</td>\n",
       "    </tr>\n",
       "    <tr>\n",
       "      <th>Wide_ResNet50_2_Weights.IMAGENET1K_V1</th>\n",
       "      <td>0.752</td>\n",
       "      <td>NaN</td>\n",
       "      <td>74.498</td>\n",
       "      <td>NaN</td>\n",
       "      <td>1.035</td>\n",
       "      <td>NaN</td>\n",
       "      <td>64.288</td>\n",
       "      <td>NaN</td>\n",
       "    </tr>\n",
       "  </tbody>\n",
       "</table>\n",
       "</div>"
      ],
      "text/plain": [
       "                                       train_loss_mean  train_loss_std  \\\n",
       "initialization                                                           \n",
       "Wide_ResNet50_2_Weights.DEFAULT                  0.247           0.033   \n",
       "Wide_ResNet50_2_Weights.IMAGENET1K_V1            0.752             NaN   \n",
       "\n",
       "                                       train_accuracy_mean  \\\n",
       "initialization                                               \n",
       "Wide_ResNet50_2_Weights.DEFAULT                     92.184   \n",
       "Wide_ResNet50_2_Weights.IMAGENET1K_V1               74.498   \n",
       "\n",
       "                                       train_accuracy_std  valid_loss_mean  \\\n",
       "initialization                                                               \n",
       "Wide_ResNet50_2_Weights.DEFAULT                     1.123            0.914   \n",
       "Wide_ResNet50_2_Weights.IMAGENET1K_V1                 NaN            1.035   \n",
       "\n",
       "                                       valid_loss_std  valid_accuracy_mean  \\\n",
       "initialization                                                               \n",
       "Wide_ResNet50_2_Weights.DEFAULT                 0.026               70.921   \n",
       "Wide_ResNet50_2_Weights.IMAGENET1K_V1             NaN               64.288   \n",
       "\n",
       "                                       valid_accuracy_std  \n",
       "initialization                                             \n",
       "Wide_ResNet50_2_Weights.DEFAULT                      0.67  \n",
       "Wide_ResNet50_2_Weights.IMAGENET1K_V1                 NaN  "
      ]
     },
     "execution_count": 13,
     "metadata": {},
     "output_type": "execute_result"
    }
   ],
   "source": [
    "results[6]"
   ]
  },
  {
   "cell_type": "markdown",
   "metadata": {},
   "source": [
    "Trying to find the best performing models of each type"
   ]
  },
  {
   "cell_type": "code",
   "execution_count": 2,
   "metadata": {},
   "outputs": [],
   "source": [
    "from loader import load_png_images\n",
    "from implementation import evaluate\n",
    "\n",
    "test_loader = load_png_images(\"data/test\",batch_size = 1024,shuffle = False)[0]\n",
    "val_loader = load_png_images(\"data/valid\",batch_size = 1024,shuffle = False)[0]"
   ]
  },
  {
   "cell_type": "code",
   "execution_count": 3,
   "metadata": {},
   "outputs": [
    {
     "name": "stdout",
     "output_type": "stream",
     "text": [
      "Patience triggered. End of learning\n",
      "Patience triggered. End of learning\n",
      "Learning_rate: 0.001 Weight_decay: 0.01\n"
     ]
    }
   ],
   "source": [
    "# tuple best_model, best_lr, best_w_decay\n",
    "best_cnn = tester.find_best_cnn()\n",
    "print(\"Learning_rate:\", best_cnn[1], \"Weight_decay:\", best_cnn[2])"
   ]
  },
  {
   "cell_type": "code",
   "execution_count": 4,
   "metadata": {},
   "outputs": [
    {
     "data": {
      "image/png": "[encoded data removed]",
      "text/plain": [
       "<Figure size 800x500 with 1 Axes>"
      ]
     },
     "metadata": {},
     "output_type": "display_data"
    }
   ],
   "source": [
    "fully_trained_CNN = tester.plot_training(\"CNN\",epochs=20, lr=best_cnn[1], w_decay=best_cnn[2])"
   ]
  },
  {
   "cell_type": "code",
   "execution_count": 5,
   "metadata": {},
   "outputs": [
    {
     "name": "stdout",
     "output_type": "stream",
     "text": [
      "Results for CNN\n",
      "Loss on validation dataset: 0.9554844803430818 Loss on test dataset: 0.9689178883352063\n",
      "Accuracy on validation dataset: 68.74333333333334 Accuracy on test dataset: 68.46777777777778\n"
     ]
    }
   ],
   "source": [
    "val_loss, val_acc = evaluate(fully_trained_CNN,val_loader)\n",
    "test_loss,test_acc = evaluate(fully_trained_CNN, test_loader)\n",
    "print(\"Results for CNN\")\n",
    "print(\"Loss on validation dataset:\",val_loss, \"Loss on test dataset:\", test_loss)\n",
    "print(\"Accuracy on validation dataset:\",val_acc, \"Accuracy on test dataset:\", test_acc)"
   ]
  },
  {
   "cell_type": "code",
   "execution_count": 6,
   "metadata": {},
   "outputs": [
    {
     "name": "stdout",
     "output_type": "stream",
     "text": [
      "Patience triggered. End of learning\n",
      "Patience triggered. End of learning\n",
      "Patience triggered. End of learning\n",
      "Patience triggered. End of learning\n",
      "Learning_rate: 0.0001 Weight_decay: 0.1\n"
     ]
    }
   ],
   "source": [
    "best_WideResNet = tester.find_best_type(\"WideResNet\")\n",
    "print(\"Learning_rate:\", best_WideResNet[1], \"Weight_decay:\", best_WideResNet[2])"
   ]
  },
  {
   "cell_type": "code",
   "execution_count": 7,
   "metadata": {},
   "outputs": [
    {
     "data": {
      "image/png": "[encoded data removed]",
      "text/plain": [
       "<Figure size 800x500 with 1 Axes>"
      ]
     },
     "metadata": {},
     "output_type": "display_data"
    }
   ],
   "source": [
    "fully_trained_WideResNet = tester.plot_training(\"WideResNet\",epochs=20, lr=best_WideResNet[1], w_decay=best_WideResNet[2])"
   ]
  },
  {
   "cell_type": "code",
   "execution_count": 8,
   "metadata": {},
   "outputs": [
    {
     "name": "stdout",
     "output_type": "stream",
     "text": [
      "Results for WideResNet\n",
      "Loss on validation dataset: 1.3966632851145484 Loss on test dataset: 1.4110436182130466\n",
      "Accuracy on validation dataset: 74.30444444444444 Accuracy on test dataset: 74.18111111111111\n"
     ]
    }
   ],
   "source": [
    "val_loss, val_acc = evaluate(fully_trained_WideResNet,val_loader)\n",
    "test_loss,test_acc = evaluate(fully_trained_WideResNet, test_loader)\n",
    "print(\"Results for WideResNet\")\n",
    "print(\"Loss on validation dataset:\",val_loss, \"Loss on test dataset:\", test_loss)\n",
    "print(\"Accuracy on validation dataset:\",val_acc, \"Accuracy on test dataset:\", test_acc)"
   ]
  },
  {
   "cell_type": "code",
   "execution_count": 9,
   "metadata": {},
   "outputs": [
    {
     "name": "stdout",
     "output_type": "stream",
     "text": [
      "Patience triggered. End of learning\n",
      "Patience triggered. End of learning\n",
      "Patience triggered. End of learning\n",
      "Patience triggered. End of learning\n",
      "Learning_rate: 0.0001 Weight_decay: 0.1\n"
     ]
    }
   ],
   "source": [
    "best_DenseNet = tester.find_best_type(\"DenseNet\")\n",
    "print(\"Learning_rate:\", best_DenseNet[1], \"Weight_decay:\", best_DenseNet[2])"
   ]
  },
  {
   "cell_type": "code",
   "execution_count": 10,
   "metadata": {},
   "outputs": [
    {
     "data": {
      "image/png": "[encoded data removed]",
      "text/plain": [
       "<Figure size 800x500 with 1 Axes>"
      ]
     },
     "metadata": {},
     "output_type": "display_data"
    }
   ],
   "source": [
    "fully_trained_DenseNet = tester.plot_training(\"WideResNet\",epochs=20, lr=best_DenseNet[1], w_decay=best_DenseNet[2])"
   ]
  },
  {
   "cell_type": "code",
   "execution_count": 11,
   "metadata": {},
   "outputs": [
    {
     "name": "stdout",
     "output_type": "stream",
     "text": [
      "Results for DenseNet\n",
      "Loss on validation dataset: 1.5151543515649708 Loss on test dataset: 1.5243326970799402\n",
      "Accuracy on validation dataset: 74.01 Accuracy on test dataset: 74.15\n"
     ]
    }
   ],
   "source": [
    "val_loss, val_acc = evaluate(fully_trained_DenseNet,val_loader)\n",
    "test_loss,test_acc = evaluate(fully_trained_DenseNet, test_loader)\n",
    "print(\"Results for DenseNet\")\n",
    "print(\"Loss on validation dataset:\",val_loss, \"Loss on test dataset:\", test_loss)\n",
    "print(\"Accuracy on validation dataset:\",val_acc, \"Accuracy on test dataset:\", test_acc)"
   ]
  },
  {
   "cell_type": "code",
   "execution_count": null,
   "metadata": {},
   "outputs": [],
   "source": []
  }
 ],
 "metadata": {
  "kernelspec": {
   "display_name": "Python 3",
   "language": "python",
   "name": "python3"
  },
  "language_info": {
   "codemirror_mode": {
    "name": "ipython",
    "version": 3
   },
   "file_extension": ".py",
   "mimetype": "text/x-python",
   "name": "python",
   "nbconvert_exporter": "python",
   "pygments_lexer": "ipython3",
   "version": "3.11.9"
  }
 },
 "nbformat": 4,
 "nbformat_minor": 2
}
