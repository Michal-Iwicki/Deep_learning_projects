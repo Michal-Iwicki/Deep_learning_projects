{
 "cells": [
  {
   "cell_type": "code",
   "execution_count": 1,
   "metadata": {},
   "outputs": [
    {
     "data": {
      "text/plain": [
       "<torch._C.Generator at 0x255243f6d50>"
      ]
     },
     "execution_count": 1,
     "metadata": {},
     "output_type": "execute_result"
    }
   ],
   "source": [
    "import tester\n",
    "import torch\n",
    "torch.manual_seed(0)"
   ]
  },
  {
   "cell_type": "code",
   "execution_count": 2,
   "metadata": {},
   "outputs": [
    {
     "name": "stdout",
     "output_type": "stream",
     "text": [
      "learning_rate test_loss test_accuracy\n",
      "Patience triggered. End of learning\n",
      "0.0001 0.6136885682741801 70.80555555555556\n",
      "Patience triggered. End of learning\n",
      "0.0001 0.6021314462025961 70.05555555555556\n",
      "Patience triggered. End of learning\n",
      "0.0001 0.6160043312443627 70.81111111111112\n",
      "Patience triggered. End of learning\n",
      "0.0001 0.5909867568148507 71.53888888888889\n",
      "Patience triggered. End of learning\n",
      "0.0001 0.5752439399560293 70.97777777777777\n",
      "0.0005 0.5826872173282835 72.91111111111111\n",
      "Patience triggered. End of learning\n",
      "0.0005 0.6454056923588117 68.05555555555556\n",
      "0.0005 0.6177597774399651 72.79444444444445\n",
      "0.0005 0.559686122669114 70.5\n",
      "0.0005 0.6658163857128885 72.29444444444445\n",
      "Patience triggered. End of learning\n",
      "0.001 0.5503532447748714 71.08888888888889\n",
      "0.001 0.5332958350578944 73.72777777777777\n",
      "0.001 0.5649370435211394 73.5\n",
      "0.001 0.5444893257485496 73.34444444444445\n",
      "0.001 0.5681578086482154 71.20555555555555\n",
      "0.005 0.6629236828949716 60.294444444444444\n",
      "0.005 0.5911501182450188 69.51666666666667\n",
      "0.005 0.5977436751127243 69.32777777777778\n",
      "Patience triggered. End of learning\n",
      "0.005 0.5709957612885369 70.48333333333333\n",
      "0.005 0.6008721540371577 68.60555555555555\n",
      "Patience triggered. End of learning\n",
      "0.01 0.6928620338439941 50.022222222222226\n",
      "Patience triggered. End of learning\n",
      "0.01 0.6938811077011956 50.0\n",
      "Patience triggered. End of learning\n",
      "0.01 0.6938708689477708 50.0\n",
      "Patience triggered. End of learning\n",
      "0.01 0.6862269838651022 54.43333333333333\n",
      "Patience triggered. End of learning\n",
      "0.01 0.694358209768931 49.99444444444445\n"
     ]
    }
   ],
   "source": [
    "tester.test_lr()"
   ]
  },
  {
   "cell_type": "code",
   "execution_count": 3,
   "metadata": {},
   "outputs": [
    {
     "name": "stdout",
     "output_type": "stream",
     "text": [
      "batchsize test_loss test_accuracy\n",
      "8 0.555255169669787 73.22222222222223\n",
      "8 0.5445501108964285 72.61111111111111\n",
      "8 0.5791431466738383 73.20555555555555\n",
      "8 0.5606594979763031 73.64444444444445\n",
      "8 0.5546131696965959 70.93888888888888\n",
      "16 0.5424035588900248 74.32222222222222\n",
      "16 0.5691758907503552 73.71666666666667\n",
      "16 0.5845229708486133 74.20555555555555\n",
      "16 0.58018848962254 72.45555555555555\n",
      "Patience triggered. End of learning\n",
      "16 0.6086435152424706 71.61111111111111\n",
      "32 0.5685419349206818 72.73333333333333\n",
      "32 0.5350181311368942 73.63888888888889\n",
      "32 0.6001366260978911 72.01666666666667\n",
      "32 0.5664363635910882 73.57222222222222\n",
      "32 0.5964247783025106 72.45555555555555\n",
      "64 0.5448077188597785 74.37777777777778\n",
      "64 0.5268038792742623 73.90555555555555\n",
      "64 0.5646111799610986 73.86111111111111\n",
      "64 0.6702228900459077 69.96111111111111\n",
      "Patience triggered. End of learning\n",
      "64 0.6057475871509976 70.94444444444444\n",
      "128 0.5378729187779956 73.55555555555556\n",
      "128 0.5759552038378186 71.44444444444444\n",
      "128 0.5363630056381226 73.22777777777777\n",
      "128 0.541707393195894 72.21666666666667\n",
      "128 0.6596877997120222 68.96111111111111\n"
     ]
    }
   ],
   "source": [
    "tester.test_batchsizes()"
   ]
  },
  {
   "cell_type": "code",
   "execution_count": 3,
   "metadata": {},
   "outputs": [
    {
     "name": "stdout",
     "output_type": "stream",
     "text": [
      "dropout_rate test_loss test_accuracy\n",
      "Patience triggered. End of learning\n",
      "0 0.5799761066834132 72.78333333333333\n",
      "Patience triggered. End of learning\n",
      "0 0.6190465316176414 69.59444444444445\n",
      "0 0.7092984467744827 72.08888888888889\n",
      "Patience triggered. End of learning\n",
      "0 0.6016952676905526 73.05555555555556\n",
      "Patience triggered. End of learning\n",
      "0 0.5674670222732756 72.80555555555556\n",
      "0.2 0.5549713886446423 73.53333333333333\n",
      "0.2 0.5698155595196618 73.49444444444444\n",
      "Patience triggered. End of learning\n",
      "0.2 0.5573846383227242 72.16111111111111\n",
      "0.2 0.547711095876164 74.19444444444444\n",
      "Patience triggered. End of learning\n",
      "0.2 0.5620317856470743 71.91666666666667\n",
      "0.4 0.5226812975274192 73.00555555555556\n",
      "0.4 0.5517480919758478 72.4888888888889\n",
      "0.4 0.5246108455790414 73.27222222222223\n",
      "0.4 0.538350342048539 72.98333333333333\n",
      "0.4 0.5486693580945333 72.90555555555555\n",
      "Patience triggered. End of learning\n",
      "0.6 0.5834124618106418 69.05\n",
      "0.6 0.537716183397505 72.09444444444445\n",
      "0.6 0.551543578505516 72.05555555555556\n",
      "0.6 0.5406782676776251 72.11666666666666\n",
      "0.6 0.5471848994493484 72.43888888888888\n",
      "0.8 0.629133916563458 67.27222222222223\n",
      "0.8 0.599502315123876 67.47777777777777\n",
      "0.8 0.6073958956533008 65.86111111111111\n",
      "0.8 0.6265980700651804 65.41666666666667\n",
      "0.8 0.621899265382025 61.75555555555555\n"
     ]
    }
   ],
   "source": [
    "tester.test_dropout()"
   ]
  },
  {
   "cell_type": "code",
   "execution_count": 4,
   "metadata": {},
   "outputs": [
    {
     "name": "stdout",
     "output_type": "stream",
     "text": [
      "batch_norm_used test_loss test_accuracy\n",
      "True 0.6582122113969591 72.96111111111111\n",
      "True 0.6546537321474817 70.15\n",
      "True 0.536191561155849 72.88888888888889\n",
      "True 0.5660892360740237 73.56666666666666\n",
      "Patience triggered. End of learning\n",
      "True 0.5475249571932687 72.33888888888889\n",
      "Patience triggered. End of learning\n",
      "False 0.5811678055259917 71.22777777777777\n",
      "Patience triggered. End of learning\n",
      "False 0.6219566315412521 71.12777777777778\n",
      "Patience triggered. End of learning\n",
      "False 0.5865743292702569 69.67222222222222\n",
      "Patience triggered. End of learning\n",
      "False 0.6034078399340311 70.07222222222222\n",
      "Patience triggered. End of learning\n",
      "False 0.5963921828402413 70.23333333333333\n"
     ]
    }
   ],
   "source": [
    "tester.test_batchnorm()"
   ]
  },
  {
   "cell_type": "code",
   "execution_count": 2,
   "metadata": {},
   "outputs": [],
   "source": [
    "aggregated = tester.aggregate_csv_files()"
   ]
  },
  {
   "cell_type": "code",
   "execution_count": 3,
   "metadata": {},
   "outputs": [
    {
     "data": {
      "application/vnd.microsoft.datawrangler.viewer.v0+json": {
       "columns": [
        {
         "name": "batchsize",
         "rawType": "int64",
         "type": "integer"
        },
        {
         "name": "test_loss_mean",
         "rawType": "float64",
         "type": "float"
        },
        {
         "name": "test_loss_std",
         "rawType": "float64",
         "type": "float"
        },
        {
         "name": "test_accuracy_mean",
         "rawType": "float64",
         "type": "float"
        },
        {
         "name": "test_accuracy_std",
         "rawType": "float64",
         "type": "float"
        }
       ],
       "conversionMethod": "pd.DataFrame",
       "ref": "31a65237-149a-4c43-a34b-0b3a33ae4f23",
       "rows": [
        [
         "8",
         "0.559",
         "0.013",
         "72.724",
         "1.064"
        ],
        [
         "16",
         "0.577",
         "0.024",
         "73.262",
         "1.183"
        ],
        [
         "32",
         "0.573",
         "0.026",
         "72.883",
         "0.707"
        ],
        [
         "64",
         "0.582",
         "0.057",
         "72.61",
         "2.01"
        ],
        [
         "128",
         "0.57",
         "0.053",
         "71.881",
         "1.834"
        ]
       ],
       "shape": {
        "columns": 4,
        "rows": 5
       }
      },
      "text/html": [
       "<div>\n",
       "<style scoped>\n",
       "    .dataframe tbody tr th:only-of-type {\n",
       "        vertical-align: middle;\n",
       "    }\n",
       "\n",
       "    .dataframe tbody tr th {\n",
       "        vertical-align: top;\n",
       "    }\n",
       "\n",
       "    .dataframe thead th {\n",
       "        text-align: right;\n",
       "    }\n",
       "</style>\n",
       "<table border=\"1\" class=\"dataframe\">\n",
       "  <thead>\n",
       "    <tr style=\"text-align: right;\">\n",
       "      <th></th>\n",
       "      <th>test_loss_mean</th>\n",
       "      <th>test_loss_std</th>\n",
       "      <th>test_accuracy_mean</th>\n",
       "      <th>test_accuracy_std</th>\n",
       "    </tr>\n",
       "    <tr>\n",
       "      <th>batchsize</th>\n",
       "      <th></th>\n",
       "      <th></th>\n",
       "      <th></th>\n",
       "      <th></th>\n",
       "    </tr>\n",
       "  </thead>\n",
       "  <tbody>\n",
       "    <tr>\n",
       "      <th>8</th>\n",
       "      <td>0.559</td>\n",
       "      <td>0.013</td>\n",
       "      <td>72.724</td>\n",
       "      <td>1.064</td>\n",
       "    </tr>\n",
       "    <tr>\n",
       "      <th>16</th>\n",
       "      <td>0.577</td>\n",
       "      <td>0.024</td>\n",
       "      <td>73.262</td>\n",
       "      <td>1.183</td>\n",
       "    </tr>\n",
       "    <tr>\n",
       "      <th>32</th>\n",
       "      <td>0.573</td>\n",
       "      <td>0.026</td>\n",
       "      <td>72.883</td>\n",
       "      <td>0.707</td>\n",
       "    </tr>\n",
       "    <tr>\n",
       "      <th>64</th>\n",
       "      <td>0.582</td>\n",
       "      <td>0.057</td>\n",
       "      <td>72.610</td>\n",
       "      <td>2.010</td>\n",
       "    </tr>\n",
       "    <tr>\n",
       "      <th>128</th>\n",
       "      <td>0.570</td>\n",
       "      <td>0.053</td>\n",
       "      <td>71.881</td>\n",
       "      <td>1.834</td>\n",
       "    </tr>\n",
       "  </tbody>\n",
       "</table>\n",
       "</div>"
      ],
      "text/plain": [
       "           test_loss_mean  test_loss_std  test_accuracy_mean  \\\n",
       "batchsize                                                      \n",
       "8                   0.559          0.013              72.724   \n",
       "16                  0.577          0.024              73.262   \n",
       "32                  0.573          0.026              72.883   \n",
       "64                  0.582          0.057              72.610   \n",
       "128                 0.570          0.053              71.881   \n",
       "\n",
       "           test_accuracy_std  \n",
       "batchsize                     \n",
       "8                      1.064  \n",
       "16                     1.183  \n",
       "32                     0.707  \n",
       "64                     2.010  \n",
       "128                    1.834  "
      ]
     },
     "execution_count": 3,
     "metadata": {},
     "output_type": "execute_result"
    }
   ],
   "source": [
    "aggregated[0]"
   ]
  },
  {
   "cell_type": "code",
   "execution_count": 5,
   "metadata": {},
   "outputs": [
    {
     "data": {
      "application/vnd.microsoft.datawrangler.viewer.v0+json": {
       "columns": [
        {
         "name": "batch_norm_used",
         "rawType": "bool",
         "type": "boolean"
        },
        {
         "name": "test_loss_mean",
         "rawType": "float64",
         "type": "float"
        },
        {
         "name": "test_loss_std",
         "rawType": "float64",
         "type": "float"
        },
        {
         "name": "test_accuracy_mean",
         "rawType": "float64",
         "type": "float"
        },
        {
         "name": "test_accuracy_std",
         "rawType": "float64",
         "type": "float"
        }
       ],
       "conversionMethod": "pd.DataFrame",
       "ref": "e9017f44-bb4d-4524-a96d-4661ad86c453",
       "rows": [
        [
         "False",
         "0.598",
         "0.016",
         "70.467",
         "0.681"
        ],
        [
         "True",
         "0.593",
         "0.059",
         "72.381",
         "1.321"
        ]
       ],
       "shape": {
        "columns": 4,
        "rows": 2
       }
      },
      "text/html": [
       "<div>\n",
       "<style scoped>\n",
       "    .dataframe tbody tr th:only-of-type {\n",
       "        vertical-align: middle;\n",
       "    }\n",
       "\n",
       "    .dataframe tbody tr th {\n",
       "        vertical-align: top;\n",
       "    }\n",
       "\n",
       "    .dataframe thead th {\n",
       "        text-align: right;\n",
       "    }\n",
       "</style>\n",
       "<table border=\"1\" class=\"dataframe\">\n",
       "  <thead>\n",
       "    <tr style=\"text-align: right;\">\n",
       "      <th></th>\n",
       "      <th>test_loss_mean</th>\n",
       "      <th>test_loss_std</th>\n",
       "      <th>test_accuracy_mean</th>\n",
       "      <th>test_accuracy_std</th>\n",
       "    </tr>\n",
       "    <tr>\n",
       "      <th>batch_norm_used</th>\n",
       "      <th></th>\n",
       "      <th></th>\n",
       "      <th></th>\n",
       "      <th></th>\n",
       "    </tr>\n",
       "  </thead>\n",
       "  <tbody>\n",
       "    <tr>\n",
       "      <th>False</th>\n",
       "      <td>0.598</td>\n",
       "      <td>0.016</td>\n",
       "      <td>70.467</td>\n",
       "      <td>0.681</td>\n",
       "    </tr>\n",
       "    <tr>\n",
       "      <th>True</th>\n",
       "      <td>0.593</td>\n",
       "      <td>0.059</td>\n",
       "      <td>72.381</td>\n",
       "      <td>1.321</td>\n",
       "    </tr>\n",
       "  </tbody>\n",
       "</table>\n",
       "</div>"
      ],
      "text/plain": [
       "                 test_loss_mean  test_loss_std  test_accuracy_mean  \\\n",
       "batch_norm_used                                                      \n",
       "False                     0.598          0.016              70.467   \n",
       "True                      0.593          0.059              72.381   \n",
       "\n",
       "                 test_accuracy_std  \n",
       "batch_norm_used                     \n",
       "False                        0.681  \n",
       "True                         1.321  "
      ]
     },
     "execution_count": 5,
     "metadata": {},
     "output_type": "execute_result"
    }
   ],
   "source": [
    "aggregated[1]"
   ]
  },
  {
   "cell_type": "code",
   "execution_count": 7,
   "metadata": {},
   "outputs": [
    {
     "data": {
      "application/vnd.microsoft.datawrangler.viewer.v0+json": {
       "columns": [
        {
         "name": "dropout_rate",
         "rawType": "float64",
         "type": "float"
        },
        {
         "name": "test_loss_mean",
         "rawType": "float64",
         "type": "float"
        },
        {
         "name": "test_loss_std",
         "rawType": "float64",
         "type": "float"
        },
        {
         "name": "test_accuracy_mean",
         "rawType": "float64",
         "type": "float"
        },
        {
         "name": "test_accuracy_std",
         "rawType": "float64",
         "type": "float"
        }
       ],
       "conversionMethod": "pd.DataFrame",
       "ref": "b348a8b3-3686-426f-9ec6-fa3518b65acb",
       "rows": [
        [
         "0.0",
         "0.615",
         "0.056",
         "72.066",
         "1.427"
        ],
        [
         "0.2",
         "0.558",
         "0.008",
         "73.06",
         "0.977"
        ],
        [
         "0.4",
         "0.537",
         "0.013",
         "72.931",
         "0.283"
        ],
        [
         "0.6",
         "0.552",
         "0.018",
         "71.551",
         "1.407"
        ],
        [
         "0.8",
         "0.617",
         "0.013",
         "65.557",
         "2.302"
        ]
       ],
       "shape": {
        "columns": 4,
        "rows": 5
       }
      },
      "text/html": [
       "<div>\n",
       "<style scoped>\n",
       "    .dataframe tbody tr th:only-of-type {\n",
       "        vertical-align: middle;\n",
       "    }\n",
       "\n",
       "    .dataframe tbody tr th {\n",
       "        vertical-align: top;\n",
       "    }\n",
       "\n",
       "    .dataframe thead th {\n",
       "        text-align: right;\n",
       "    }\n",
       "</style>\n",
       "<table border=\"1\" class=\"dataframe\">\n",
       "  <thead>\n",
       "    <tr style=\"text-align: right;\">\n",
       "      <th></th>\n",
       "      <th>test_loss_mean</th>\n",
       "      <th>test_loss_std</th>\n",
       "      <th>test_accuracy_mean</th>\n",
       "      <th>test_accuracy_std</th>\n",
       "    </tr>\n",
       "    <tr>\n",
       "      <th>dropout_rate</th>\n",
       "      <th></th>\n",
       "      <th></th>\n",
       "      <th></th>\n",
       "      <th></th>\n",
       "    </tr>\n",
       "  </thead>\n",
       "  <tbody>\n",
       "    <tr>\n",
       "      <th>0.0</th>\n",
       "      <td>0.615</td>\n",
       "      <td>0.056</td>\n",
       "      <td>72.066</td>\n",
       "      <td>1.427</td>\n",
       "    </tr>\n",
       "    <tr>\n",
       "      <th>0.2</th>\n",
       "      <td>0.558</td>\n",
       "      <td>0.008</td>\n",
       "      <td>73.060</td>\n",
       "      <td>0.977</td>\n",
       "    </tr>\n",
       "    <tr>\n",
       "      <th>0.4</th>\n",
       "      <td>0.537</td>\n",
       "      <td>0.013</td>\n",
       "      <td>72.931</td>\n",
       "      <td>0.283</td>\n",
       "    </tr>\n",
       "    <tr>\n",
       "      <th>0.6</th>\n",
       "      <td>0.552</td>\n",
       "      <td>0.018</td>\n",
       "      <td>71.551</td>\n",
       "      <td>1.407</td>\n",
       "    </tr>\n",
       "    <tr>\n",
       "      <th>0.8</th>\n",
       "      <td>0.617</td>\n",
       "      <td>0.013</td>\n",
       "      <td>65.557</td>\n",
       "      <td>2.302</td>\n",
       "    </tr>\n",
       "  </tbody>\n",
       "</table>\n",
       "</div>"
      ],
      "text/plain": [
       "              test_loss_mean  test_loss_std  test_accuracy_mean  \\\n",
       "dropout_rate                                                      \n",
       "0.0                    0.615          0.056              72.066   \n",
       "0.2                    0.558          0.008              73.060   \n",
       "0.4                    0.537          0.013              72.931   \n",
       "0.6                    0.552          0.018              71.551   \n",
       "0.8                    0.617          0.013              65.557   \n",
       "\n",
       "              test_accuracy_std  \n",
       "dropout_rate                     \n",
       "0.0                       1.427  \n",
       "0.2                       0.977  \n",
       "0.4                       0.283  \n",
       "0.6                       1.407  \n",
       "0.8                       2.302  "
      ]
     },
     "execution_count": 7,
     "metadata": {},
     "output_type": "execute_result"
    }
   ],
   "source": [
    "aggregated[2]"
   ]
  },
  {
   "cell_type": "code",
   "execution_count": 8,
   "metadata": {},
   "outputs": [
    {
     "data": {
      "application/vnd.microsoft.datawrangler.viewer.v0+json": {
       "columns": [
        {
         "name": "learning_rate",
         "rawType": "float64",
         "type": "float"
        },
        {
         "name": "test_loss_mean",
         "rawType": "float64",
         "type": "float"
        },
        {
         "name": "test_loss_std",
         "rawType": "float64",
         "type": "float"
        },
        {
         "name": "test_accuracy_mean",
         "rawType": "float64",
         "type": "float"
        },
        {
         "name": "test_accuracy_std",
         "rawType": "float64",
         "type": "float"
        }
       ],
       "conversionMethod": "pd.DataFrame",
       "ref": "f7e8f8dd-6456-4799-9208-dab8b61a594b",
       "rows": [
        [
         "0.0001",
         "0.6",
         "0.017",
         "70.838",
         "0.53"
        ],
        [
         "0.0005",
         "0.614",
         "0.044",
         "71.311",
         "2.061"
        ],
        [
         "0.001",
         "0.552",
         "0.014",
         "72.573",
         "1.31"
        ],
        [
         "0.005",
         "0.605",
         "0.035",
         "67.646",
         "4.164"
        ],
        [
         "0.01",
         "0.692",
         "0.003",
         "50.89",
         "1.981"
        ]
       ],
       "shape": {
        "columns": 4,
        "rows": 5
       }
      },
      "text/html": [
       "<div>\n",
       "<style scoped>\n",
       "    .dataframe tbody tr th:only-of-type {\n",
       "        vertical-align: middle;\n",
       "    }\n",
       "\n",
       "    .dataframe tbody tr th {\n",
       "        vertical-align: top;\n",
       "    }\n",
       "\n",
       "    .dataframe thead th {\n",
       "        text-align: right;\n",
       "    }\n",
       "</style>\n",
       "<table border=\"1\" class=\"dataframe\">\n",
       "  <thead>\n",
       "    <tr style=\"text-align: right;\">\n",
       "      <th></th>\n",
       "      <th>test_loss_mean</th>\n",
       "      <th>test_loss_std</th>\n",
       "      <th>test_accuracy_mean</th>\n",
       "      <th>test_accuracy_std</th>\n",
       "    </tr>\n",
       "    <tr>\n",
       "      <th>learning_rate</th>\n",
       "      <th></th>\n",
       "      <th></th>\n",
       "      <th></th>\n",
       "      <th></th>\n",
       "    </tr>\n",
       "  </thead>\n",
       "  <tbody>\n",
       "    <tr>\n",
       "      <th>0.0001</th>\n",
       "      <td>0.600</td>\n",
       "      <td>0.017</td>\n",
       "      <td>70.838</td>\n",
       "      <td>0.530</td>\n",
       "    </tr>\n",
       "    <tr>\n",
       "      <th>0.0005</th>\n",
       "      <td>0.614</td>\n",
       "      <td>0.044</td>\n",
       "      <td>71.311</td>\n",
       "      <td>2.061</td>\n",
       "    </tr>\n",
       "    <tr>\n",
       "      <th>0.0010</th>\n",
       "      <td>0.552</td>\n",
       "      <td>0.014</td>\n",
       "      <td>72.573</td>\n",
       "      <td>1.310</td>\n",
       "    </tr>\n",
       "    <tr>\n",
       "      <th>0.0050</th>\n",
       "      <td>0.605</td>\n",
       "      <td>0.035</td>\n",
       "      <td>67.646</td>\n",
       "      <td>4.164</td>\n",
       "    </tr>\n",
       "    <tr>\n",
       "      <th>0.0100</th>\n",
       "      <td>0.692</td>\n",
       "      <td>0.003</td>\n",
       "      <td>50.890</td>\n",
       "      <td>1.981</td>\n",
       "    </tr>\n",
       "  </tbody>\n",
       "</table>\n",
       "</div>"
      ],
      "text/plain": [
       "               test_loss_mean  test_loss_std  test_accuracy_mean  \\\n",
       "learning_rate                                                      \n",
       "0.0001                  0.600          0.017              70.838   \n",
       "0.0005                  0.614          0.044              71.311   \n",
       "0.0010                  0.552          0.014              72.573   \n",
       "0.0050                  0.605          0.035              67.646   \n",
       "0.0100                  0.692          0.003              50.890   \n",
       "\n",
       "               test_accuracy_std  \n",
       "learning_rate                     \n",
       "0.0001                     0.530  \n",
       "0.0005                     2.061  \n",
       "0.0010                     1.310  \n",
       "0.0050                     4.164  \n",
       "0.0100                     1.981  "
      ]
     },
     "execution_count": 8,
     "metadata": {},
     "output_type": "execute_result"
    }
   ],
   "source": [
    "aggregated[3]"
   ]
  },
  {
   "cell_type": "code",
   "execution_count": null,
   "metadata": {},
   "outputs": [],
   "source": []
  }
 ],
 "metadata": {
  "kernelspec": {
   "display_name": "Python 3",
   "language": "python",
   "name": "python3"
  },
  "language_info": {
   "codemirror_mode": {
    "name": "ipython",
    "version": 3
   },
   "file_extension": ".py",
   "mimetype": "text/x-python",
   "name": "python",
   "nbconvert_exporter": "python",
   "pygments_lexer": "ipython3",
   "version": "3.11.9"
  }
 },
 "nbformat": 4,
 "nbformat_minor": 2
}
