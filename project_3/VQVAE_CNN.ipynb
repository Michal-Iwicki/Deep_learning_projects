{
 "cells": [
  {
   "cell_type": "code",
   "execution_count": 1,
   "id": "f672d030",
   "metadata": {},
   "outputs": [],
   "source": [
    "import torch\n",
    "import torch.nn as nn\n",
    "import torch.nn.functional as F\n",
    "\n",
    "class VectorQuantizer(nn.Module):\n",
    "    def __init__(self, num_embeddings, embedding_dim, commitment_cost):\n",
    "        super().__init__()\n",
    "        self.embedding_dim = embedding_dim\n",
    "        self.num_embeddings = num_embeddings\n",
    "        self.embedding = nn.Embedding(num_embeddings, embedding_dim)\n",
    "        self.embedding.weight.data.uniform_(-1/self.num_embeddings, 1/self.num_embeddings)\n",
    "        self.commitment_cost = commitment_cost\n",
    "\n",
    "    def forward(self, inputs):\n",
    "        flat_inputs = inputs.view(-1, self.embedding_dim)\n",
    "        distances = (\n",
    "            torch.sum(flat_inputs**2, dim=1, keepdim=True)\n",
    "            + torch.sum(self.embedding.weight**2, dim=1)\n",
    "            - 2 * torch.matmul(flat_inputs, self.embedding.weight.t())\n",
    "        )\n",
    "        encoding_indices = torch.argmin(distances, dim=1)\n",
    "        encodings = F.one_hot(encoding_indices, self.num_embeddings).type(inputs.dtype)\n",
    "        quantized = torch.matmul(encodings, self.embedding.weight).view_as(inputs)\n",
    "        e_latent_loss = F.mse_loss(quantized.detach(), inputs)\n",
    "        q_latent_loss = F.mse_loss(quantized, inputs.detach())\n",
    "        loss = q_latent_loss + self.commitment_cost * e_latent_loss\n",
    "        quantized = inputs + (quantized - inputs).detach()\n",
    "        return quantized, loss, encoding_indices.view(inputs.shape[0], inputs.shape[2], inputs.shape[3])\n",
    "\n",
    "class VQVAE(nn.Module):\n",
    "    def __init__(self, in_channels=3, hidden_dim=128, embedding_dim=64, num_embeddings=512, commitment_cost=0.25):\n",
    "        super().__init__()\n",
    "        self.encoder = nn.Sequential(\n",
    "            nn.Conv2d(in_channels, hidden_dim, 4, 2, 1),  # 64->32\n",
    "            nn.ReLU(),\n",
    "            nn.Conv2d(hidden_dim, hidden_dim, 4, 2, 1),   # 32->16\n",
    "            nn.ReLU(),\n",
    "            nn.Conv2d(hidden_dim, embedding_dim, 1)       # kanały = embedding_dim\n",
    "        )\n",
    "        self.quantizer = VectorQuantizer(num_embeddings, embedding_dim, commitment_cost)\n",
    "\n",
    "        self.decoder_convT1 = nn.ConvTranspose2d(embedding_dim, hidden_dim, 4, 2, 1)  # 16->32\n",
    "        self.decoder_relu1 = nn.ReLU()\n",
    "        self.decoder_convT2 = nn.ConvTranspose2d(hidden_dim, hidden_dim, 4, 2, 1)     # 32->64\n",
    "        self.decoder_relu2 = nn.ReLU()\n",
    "        # Usunięto trzecią warstwę ConvTranspose2d\n",
    "        self.decoder_conv = nn.Conv2d(hidden_dim, in_channels, 1)\n",
    "        self.decoder_sigmoid = nn.Sigmoid()\n",
    "\n",
    "    def forward(self, x):\n",
    "        z = self.encoder(x)  # (B, embedding_dim, 16, 16)\n",
    "        quantized, vq_loss, _ = self.quantizer(z)\n",
    "\n",
    "        x = self.decoder_convT1(quantized)  # 16->32\n",
    "        x = self.decoder_relu1(x)\n",
    "\n",
    "        x = self.decoder_convT2(x)           # 32->64\n",
    "        x = self.decoder_relu2(x)\n",
    "\n",
    "        x = self.decoder_conv(x)             # (B, 3, 64, 64)\n",
    "        x = self.decoder_sigmoid(x)\n",
    "\n",
    "        return x, vq_loss\n",
    "\n",
    "    def decode(self, quantized):\n",
    "        x = self.decoder_convT1(quantized)\n",
    "        x = self.decoder_relu1(x)\n",
    "\n",
    "        x = self.decoder_convT2(x)\n",
    "        x = self.decoder_relu2(x)\n",
    "\n",
    "        x = self.decoder_conv(x)\n",
    "        x = self.decoder_sigmoid(x)\n",
    "        return x\n",
    "\n",
    "\n",
    "    def encode_indices(self, x):\n",
    "        z = self.encoder(x)\n",
    "        _, _, indices = self.quantizer(z)\n",
    "        return indices\n"
   ]
  },
  {
   "cell_type": "code",
   "execution_count": 2,
   "id": "318bc89f",
   "metadata": {},
   "outputs": [],
   "source": [
    "import torch\n",
    "import torch.nn as nn\n",
    "\n",
    "class PixelCNN(nn.Module):\n",
    "    def __init__(self, num_embeddings, image_size, n_channels=64):\n",
    "        super().__init__()\n",
    "        self.net = nn.Sequential(\n",
    "            nn.Conv2d(1, n_channels, 7, padding=3),\n",
    "            nn.ReLU(),\n",
    "            *[nn.Sequential(nn.Conv2d(n_channels, n_channels, 3, padding=1), nn.ReLU()) for _ in range(6)],\n",
    "            nn.Conv2d(n_channels, num_embeddings, 1)\n",
    "        )\n",
    "        self.image_size = image_size\n",
    "\n",
    "    def forward(self, x):\n",
    "        return self.net(x)\n",
    "\n",
    "    def sample(self, device, num_samples):\n",
    "        samples = torch.zeros((num_samples, 1, self.image_size, self.image_size), dtype=torch.long).to(device)\n",
    "        for i in range(self.image_size):\n",
    "            for j in range(self.image_size):\n",
    "                logits = self.forward(samples.float())\n",
    "                probs = torch.softmax(logits[:, :, i, j], dim=1)\n",
    "                samples[:, 0, i, j] = torch.multinomial(probs, 1).squeeze(-1)\n",
    "        return samples\n"
   ]
  },
  {
   "cell_type": "code",
   "execution_count": 3,
   "id": "22dd9797",
   "metadata": {},
   "outputs": [
    {
     "name": "stderr",
     "output_type": "stream",
     "text": [
      "Epoch 1/50: 100%|██████████| 467/467 [00:17<00:00, 26.45it/s, loss=0.329]\n"
     ]
    },
    {
     "name": "stdout",
     "output_type": "stream",
     "text": [
      "Epoch 1: avg loss=0.4104\n"
     ]
    },
    {
     "name": "stderr",
     "output_type": "stream",
     "text": [
      "Epoch 2/50: 100%|██████████| 467/467 [00:16<00:00, 28.35it/s, loss=0.229]\n"
     ]
    },
    {
     "name": "stdout",
     "output_type": "stream",
     "text": [
      "Epoch 2: avg loss=0.2853\n"
     ]
    },
    {
     "name": "stderr",
     "output_type": "stream",
     "text": [
      "Epoch 3/50: 100%|██████████| 467/467 [00:16<00:00, 28.07it/s, loss=0.172]\n"
     ]
    },
    {
     "name": "stdout",
     "output_type": "stream",
     "text": [
      "Epoch 3: avg loss=0.1977\n"
     ]
    },
    {
     "name": "stderr",
     "output_type": "stream",
     "text": [
      "Epoch 4/50: 100%|██████████| 467/467 [00:16<00:00, 28.16it/s, loss=0.173]\n"
     ]
    },
    {
     "name": "stdout",
     "output_type": "stream",
     "text": [
      "Epoch 4: avg loss=0.1703\n"
     ]
    },
    {
     "name": "stderr",
     "output_type": "stream",
     "text": [
      "Epoch 5/50: 100%|██████████| 467/467 [00:16<00:00, 28.82it/s, loss=0.134]\n"
     ]
    },
    {
     "name": "stdout",
     "output_type": "stream",
     "text": [
      "Epoch 5: avg loss=0.1433\n"
     ]
    },
    {
     "name": "stderr",
     "output_type": "stream",
     "text": [
      "Epoch 6/50: 100%|██████████| 467/467 [00:16<00:00, 29.11it/s, loss=0.116]\n"
     ]
    },
    {
     "name": "stdout",
     "output_type": "stream",
     "text": [
      "Epoch 6: avg loss=0.1300\n"
     ]
    },
    {
     "name": "stderr",
     "output_type": "stream",
     "text": [
      "Epoch 7/50: 100%|██████████| 467/467 [00:16<00:00, 28.83it/s, loss=0.128]\n"
     ]
    },
    {
     "name": "stdout",
     "output_type": "stream",
     "text": [
      "Epoch 7: avg loss=0.1242\n"
     ]
    },
    {
     "name": "stderr",
     "output_type": "stream",
     "text": [
      "Epoch 8/50: 100%|██████████| 467/467 [00:16<00:00, 28.46it/s, loss=0.128]\n"
     ]
    },
    {
     "name": "stdout",
     "output_type": "stream",
     "text": [
      "Epoch 8: avg loss=0.1231\n"
     ]
    },
    {
     "name": "stderr",
     "output_type": "stream",
     "text": [
      "Epoch 9/50: 100%|██████████| 467/467 [00:16<00:00, 28.03it/s, loss=0.108]\n"
     ]
    },
    {
     "name": "stdout",
     "output_type": "stream",
     "text": [
      "Epoch 9: avg loss=0.1213\n"
     ]
    },
    {
     "name": "stderr",
     "output_type": "stream",
     "text": [
      "Epoch 10/50: 100%|██████████| 467/467 [00:16<00:00, 29.14it/s, loss=0.135] \n"
     ]
    },
    {
     "name": "stdout",
     "output_type": "stream",
     "text": [
      "Epoch 10: avg loss=0.1184\n"
     ]
    },
    {
     "name": "stderr",
     "output_type": "stream",
     "text": [
      "Epoch 11/50: 100%|██████████| 467/467 [00:15<00:00, 29.82it/s, loss=0.119] \n"
     ]
    },
    {
     "name": "stdout",
     "output_type": "stream",
     "text": [
      "Epoch 11: avg loss=0.1148\n"
     ]
    },
    {
     "name": "stderr",
     "output_type": "stream",
     "text": [
      "Epoch 12/50: 100%|██████████| 467/467 [00:15<00:00, 29.89it/s, loss=0.0962]\n"
     ]
    },
    {
     "name": "stdout",
     "output_type": "stream",
     "text": [
      "Epoch 12: avg loss=0.1116\n"
     ]
    },
    {
     "name": "stderr",
     "output_type": "stream",
     "text": [
      "Epoch 13/50: 100%|██████████| 467/467 [00:15<00:00, 30.01it/s, loss=0.12]  \n"
     ]
    },
    {
     "name": "stdout",
     "output_type": "stream",
     "text": [
      "Epoch 13: avg loss=0.1081\n"
     ]
    },
    {
     "name": "stderr",
     "output_type": "stream",
     "text": [
      "Epoch 14/50: 100%|██████████| 467/467 [00:15<00:00, 29.88it/s, loss=0.104] \n"
     ]
    },
    {
     "name": "stdout",
     "output_type": "stream",
     "text": [
      "Epoch 14: avg loss=0.1053\n"
     ]
    },
    {
     "name": "stderr",
     "output_type": "stream",
     "text": [
      "Epoch 15/50: 100%|██████████| 467/467 [00:15<00:00, 29.95it/s, loss=0.107] \n"
     ]
    },
    {
     "name": "stdout",
     "output_type": "stream",
     "text": [
      "Epoch 15: avg loss=0.1031\n"
     ]
    },
    {
     "name": "stderr",
     "output_type": "stream",
     "text": [
      "Epoch 16/50: 100%|██████████| 467/467 [00:15<00:00, 29.78it/s, loss=0.0995]\n"
     ]
    },
    {
     "name": "stdout",
     "output_type": "stream",
     "text": [
      "Epoch 16: avg loss=0.1014\n"
     ]
    },
    {
     "name": "stderr",
     "output_type": "stream",
     "text": [
      "Epoch 17/50: 100%|██████████| 467/467 [00:15<00:00, 29.83it/s, loss=0.0928]\n"
     ]
    },
    {
     "name": "stdout",
     "output_type": "stream",
     "text": [
      "Epoch 17: avg loss=0.1001\n"
     ]
    },
    {
     "name": "stderr",
     "output_type": "stream",
     "text": [
      "Epoch 18/50: 100%|██████████| 467/467 [00:15<00:00, 29.84it/s, loss=0.1]   \n"
     ]
    },
    {
     "name": "stdout",
     "output_type": "stream",
     "text": [
      "Epoch 18: avg loss=0.0992\n"
     ]
    },
    {
     "name": "stderr",
     "output_type": "stream",
     "text": [
      "Epoch 19/50: 100%|██████████| 467/467 [00:15<00:00, 29.91it/s, loss=0.104] \n"
     ]
    },
    {
     "name": "stdout",
     "output_type": "stream",
     "text": [
      "Epoch 19: avg loss=0.0985\n"
     ]
    },
    {
     "name": "stderr",
     "output_type": "stream",
     "text": [
      "Epoch 20/50: 100%|██████████| 467/467 [00:15<00:00, 30.05it/s, loss=0.0937]\n"
     ]
    },
    {
     "name": "stdout",
     "output_type": "stream",
     "text": [
      "Epoch 20: avg loss=0.0977\n"
     ]
    },
    {
     "name": "stderr",
     "output_type": "stream",
     "text": [
      "Epoch 21/50: 100%|██████████| 467/467 [00:15<00:00, 29.90it/s, loss=0.09]  \n"
     ]
    },
    {
     "name": "stdout",
     "output_type": "stream",
     "text": [
      "Epoch 21: avg loss=0.0969\n"
     ]
    },
    {
     "name": "stderr",
     "output_type": "stream",
     "text": [
      "Epoch 22/50: 100%|██████████| 467/467 [00:15<00:00, 29.92it/s, loss=0.082] \n"
     ]
    },
    {
     "name": "stdout",
     "output_type": "stream",
     "text": [
      "Epoch 22: avg loss=0.0959\n"
     ]
    },
    {
     "name": "stderr",
     "output_type": "stream",
     "text": [
      "Epoch 23/50: 100%|██████████| 467/467 [00:15<00:00, 29.71it/s, loss=0.103] \n"
     ]
    },
    {
     "name": "stdout",
     "output_type": "stream",
     "text": [
      "Epoch 23: avg loss=0.0951\n"
     ]
    },
    {
     "name": "stderr",
     "output_type": "stream",
     "text": [
      "Epoch 24/50: 100%|██████████| 467/467 [00:15<00:00, 29.75it/s, loss=0.0971]\n"
     ]
    },
    {
     "name": "stdout",
     "output_type": "stream",
     "text": [
      "Epoch 24: avg loss=0.0943\n"
     ]
    },
    {
     "name": "stderr",
     "output_type": "stream",
     "text": [
      "Epoch 25/50: 100%|██████████| 467/467 [00:15<00:00, 29.80it/s, loss=0.0896]\n"
     ]
    },
    {
     "name": "stdout",
     "output_type": "stream",
     "text": [
      "Epoch 25: avg loss=0.0937\n"
     ]
    },
    {
     "name": "stderr",
     "output_type": "stream",
     "text": [
      "Epoch 26/50: 100%|██████████| 467/467 [00:15<00:00, 29.78it/s, loss=0.0914]\n"
     ]
    },
    {
     "name": "stdout",
     "output_type": "stream",
     "text": [
      "Epoch 26: avg loss=0.0929\n"
     ]
    },
    {
     "name": "stderr",
     "output_type": "stream",
     "text": [
      "Epoch 27/50: 100%|██████████| 467/467 [00:15<00:00, 29.73it/s, loss=0.0996]\n"
     ]
    },
    {
     "name": "stdout",
     "output_type": "stream",
     "text": [
      "Epoch 27: avg loss=0.0923\n"
     ]
    },
    {
     "name": "stderr",
     "output_type": "stream",
     "text": [
      "Epoch 28/50: 100%|██████████| 467/467 [00:15<00:00, 29.78it/s, loss=0.104] \n"
     ]
    },
    {
     "name": "stdout",
     "output_type": "stream",
     "text": [
      "Epoch 28: avg loss=0.0915\n"
     ]
    },
    {
     "name": "stderr",
     "output_type": "stream",
     "text": [
      "Epoch 29/50: 100%|██████████| 467/467 [00:15<00:00, 29.87it/s, loss=0.106] \n"
     ]
    },
    {
     "name": "stdout",
     "output_type": "stream",
     "text": [
      "Epoch 29: avg loss=0.0909\n"
     ]
    },
    {
     "name": "stderr",
     "output_type": "stream",
     "text": [
      "Epoch 30/50: 100%|██████████| 467/467 [00:15<00:00, 29.77it/s, loss=0.112] \n"
     ]
    },
    {
     "name": "stdout",
     "output_type": "stream",
     "text": [
      "Epoch 30: avg loss=0.0901\n"
     ]
    },
    {
     "name": "stderr",
     "output_type": "stream",
     "text": [
      "Epoch 31/50: 100%|██████████| 467/467 [00:15<00:00, 29.83it/s, loss=0.0858]\n"
     ]
    },
    {
     "name": "stdout",
     "output_type": "stream",
     "text": [
      "Epoch 31: avg loss=0.0895\n"
     ]
    },
    {
     "name": "stderr",
     "output_type": "stream",
     "text": [
      "Epoch 32/50: 100%|██████████| 467/467 [00:15<00:00, 29.68it/s, loss=0.0802]\n"
     ]
    },
    {
     "name": "stdout",
     "output_type": "stream",
     "text": [
      "Epoch 32: avg loss=0.0886\n"
     ]
    },
    {
     "name": "stderr",
     "output_type": "stream",
     "text": [
      "Epoch 33/50: 100%|██████████| 467/467 [00:16<00:00, 28.88it/s, loss=0.0869]\n"
     ]
    },
    {
     "name": "stdout",
     "output_type": "stream",
     "text": [
      "Epoch 33: avg loss=0.0880\n"
     ]
    },
    {
     "name": "stderr",
     "output_type": "stream",
     "text": [
      "Epoch 34/50: 100%|██████████| 467/467 [00:17<00:00, 27.40it/s, loss=0.09]  \n"
     ]
    },
    {
     "name": "stdout",
     "output_type": "stream",
     "text": [
      "Epoch 34: avg loss=0.0874\n"
     ]
    },
    {
     "name": "stderr",
     "output_type": "stream",
     "text": [
      "Epoch 35/50: 100%|██████████| 467/467 [00:17<00:00, 27.27it/s, loss=0.0872]\n"
     ]
    },
    {
     "name": "stdout",
     "output_type": "stream",
     "text": [
      "Epoch 35: avg loss=0.0868\n"
     ]
    },
    {
     "name": "stderr",
     "output_type": "stream",
     "text": [
      "Epoch 36/50: 100%|██████████| 467/467 [00:17<00:00, 26.84it/s, loss=0.0932]\n"
     ]
    },
    {
     "name": "stdout",
     "output_type": "stream",
     "text": [
      "Epoch 36: avg loss=0.0863\n"
     ]
    },
    {
     "name": "stderr",
     "output_type": "stream",
     "text": [
      "Epoch 37/50: 100%|██████████| 467/467 [00:17<00:00, 26.99it/s, loss=0.0902]\n"
     ]
    },
    {
     "name": "stdout",
     "output_type": "stream",
     "text": [
      "Epoch 37: avg loss=0.0857\n"
     ]
    },
    {
     "name": "stderr",
     "output_type": "stream",
     "text": [
      "Epoch 38/50: 100%|██████████| 467/467 [00:16<00:00, 27.87it/s, loss=0.0773]\n"
     ]
    },
    {
     "name": "stdout",
     "output_type": "stream",
     "text": [
      "Epoch 38: avg loss=0.0853\n"
     ]
    },
    {
     "name": "stderr",
     "output_type": "stream",
     "text": [
      "Epoch 39/50: 100%|██████████| 467/467 [00:16<00:00, 27.68it/s, loss=0.0784]\n"
     ]
    },
    {
     "name": "stdout",
     "output_type": "stream",
     "text": [
      "Epoch 39: avg loss=0.0846\n"
     ]
    },
    {
     "name": "stderr",
     "output_type": "stream",
     "text": [
      "Epoch 40/50: 100%|██████████| 467/467 [00:16<00:00, 28.37it/s, loss=0.0847]\n"
     ]
    },
    {
     "name": "stdout",
     "output_type": "stream",
     "text": [
      "Epoch 40: avg loss=0.0842\n"
     ]
    },
    {
     "name": "stderr",
     "output_type": "stream",
     "text": [
      "Epoch 41/50: 100%|██████████| 467/467 [00:16<00:00, 27.97it/s, loss=0.0667]\n"
     ]
    },
    {
     "name": "stdout",
     "output_type": "stream",
     "text": [
      "Epoch 41: avg loss=0.0837\n"
     ]
    },
    {
     "name": "stderr",
     "output_type": "stream",
     "text": [
      "Epoch 42/50: 100%|██████████| 467/467 [00:16<00:00, 28.69it/s, loss=0.0836]\n"
     ]
    },
    {
     "name": "stdout",
     "output_type": "stream",
     "text": [
      "Epoch 42: avg loss=0.0831\n"
     ]
    },
    {
     "name": "stderr",
     "output_type": "stream",
     "text": [
      "Epoch 43/50: 100%|██████████| 467/467 [00:16<00:00, 28.80it/s, loss=0.0815]\n"
     ]
    },
    {
     "name": "stdout",
     "output_type": "stream",
     "text": [
      "Epoch 43: avg loss=0.0830\n"
     ]
    },
    {
     "name": "stderr",
     "output_type": "stream",
     "text": [
      "Epoch 44/50: 100%|██████████| 467/467 [00:16<00:00, 28.97it/s, loss=0.074] \n"
     ]
    },
    {
     "name": "stdout",
     "output_type": "stream",
     "text": [
      "Epoch 44: avg loss=0.0825\n"
     ]
    },
    {
     "name": "stderr",
     "output_type": "stream",
     "text": [
      "Epoch 45/50: 100%|██████████| 467/467 [00:15<00:00, 29.61it/s, loss=0.093] \n"
     ]
    },
    {
     "name": "stdout",
     "output_type": "stream",
     "text": [
      "Epoch 45: avg loss=0.0820\n"
     ]
    },
    {
     "name": "stderr",
     "output_type": "stream",
     "text": [
      "Epoch 46/50: 100%|██████████| 467/467 [00:15<00:00, 29.71it/s, loss=0.0809]\n"
     ]
    },
    {
     "name": "stdout",
     "output_type": "stream",
     "text": [
      "Epoch 46: avg loss=0.0816\n"
     ]
    },
    {
     "name": "stderr",
     "output_type": "stream",
     "text": [
      "Epoch 47/50: 100%|██████████| 467/467 [00:15<00:00, 29.81it/s, loss=0.0834]\n"
     ]
    },
    {
     "name": "stdout",
     "output_type": "stream",
     "text": [
      "Epoch 47: avg loss=0.0813\n"
     ]
    },
    {
     "name": "stderr",
     "output_type": "stream",
     "text": [
      "Epoch 48/50: 100%|██████████| 467/467 [00:15<00:00, 29.86it/s, loss=0.082] \n"
     ]
    },
    {
     "name": "stdout",
     "output_type": "stream",
     "text": [
      "Epoch 48: avg loss=0.0808\n"
     ]
    },
    {
     "name": "stderr",
     "output_type": "stream",
     "text": [
      "Epoch 49/50: 100%|██████████| 467/467 [00:15<00:00, 29.90it/s, loss=0.0808]\n"
     ]
    },
    {
     "name": "stdout",
     "output_type": "stream",
     "text": [
      "Epoch 49: avg loss=0.0806\n"
     ]
    },
    {
     "name": "stderr",
     "output_type": "stream",
     "text": [
      "Epoch 50/50: 100%|██████████| 467/467 [00:15<00:00, 29.91it/s, loss=0.085] "
     ]
    },
    {
     "name": "stdout",
     "output_type": "stream",
     "text": [
      "Epoch 50: avg loss=0.0802\n"
     ]
    },
    {
     "name": "stderr",
     "output_type": "stream",
     "text": [
      "\n"
     ]
    }
   ],
   "source": [
    "import torch\n",
    "from torch.utils.data import DataLoader\n",
    "from torchvision.datasets import ImageFolder\n",
    "from torchvision import transforms\n",
    "from torchvision.utils import save_image\n",
    "import os\n",
    "from tqdm import tqdm\n",
    "epochs = 50\n",
    "device = torch.device('cuda' if torch.cuda.is_available() else 'cpu')\n",
    "\n",
    "transform = transforms.Compose([\n",
    "    transforms.ToTensor()\n",
    "])\n",
    "dataset = ImageFolder(\"data/training\", transform=transform)\n",
    "loader = DataLoader(dataset, batch_size=64, shuffle=True)\n",
    "\n",
    "vqvae = VQVAE().to(device)\n",
    "optimizer = torch.optim.Adam(vqvae.parameters(), lr=2e-4)\n",
    "\n",
    "for epoch in range(epochs):\n",
    "    total_loss = 0\n",
    "    with tqdm(loader, desc=f\"Epoch {epoch+1}/{epochs}\") as pbar:\n",
    "        for x, _ in pbar:\n",
    "            x = x.to(device)\n",
    "            x_recon, vq_loss = vqvae(x)\n",
    "            recon_loss = torch.nn.functional.mse_loss(x_recon, x)\n",
    "            loss = recon_loss + vq_loss\n",
    "            optimizer.zero_grad()\n",
    "            loss.backward()\n",
    "            optimizer.step()\n",
    "            total_loss += loss.item()\n",
    "            pbar.set_postfix(loss=loss.item())\n",
    "    print(f\"Epoch {epoch+1}: avg loss={total_loss / len(loader):.4f}\")\n",
    "\n"
   ]
  },
  {
   "cell_type": "code",
   "execution_count": 18,
   "id": "e4cae27f",
   "metadata": {},
   "outputs": [
    {
     "data": {
      "image/png": "[encoded data removed]",
      "text/plain": [
       "<Figure size 2000x400 with 1 Axes>"
      ]
     },
     "metadata": {},
     "output_type": "display_data"
    }
   ],
   "source": [
    "import numpy as np\n",
    "from torchvision.utils import make_grid\n",
    "import matplotlib.pyplot as plt\n",
    "def interpolate_latents(z1, z2, steps=8):\n",
    "    return [z1 * (1 - alpha) + z2 * alpha for alpha in np.linspace(0, 1, steps + 2)]\n",
    "    \n",
    "model = vqvae\n",
    "model.eval()\n",
    "with torch.no_grad():\n",
    "    images, _ = next(iter(loader))  # poprawnie pobierz batch obrazów\n",
    "    images = images.to(device)\n",
    "    img1 = images[0]\n",
    "    img2 = images[1]\n",
    "    z1 = model.encoder(img1.unsqueeze(0))\n",
    "    z2 = model.encoder(img2.unsqueeze(0))\n",
    "    interpolated = interpolate_latents(z1, z2)\n",
    "    decoded = [model.decode(z) for z in interpolated]\n",
    "    decoded = torch.cat(decoded)\n",
    "    decoded = decoded.clamp(0, 1)\n",
    "    grid = make_grid(decoded, nrow=10)\n",
    "    plt.figure(figsize=(20, 4))\n",
    "    plt.imshow(grid.permute(1, 2, 0).cpu())\n",
    "    plt.axis(\"off\")\n",
    "    plt.title(\"Interpolation between two latent codes\")\n",
    "    plt.show()\n",
    "\n"
   ]
  },
  {
   "cell_type": "code",
   "execution_count": 15,
   "id": "6e0412b9",
   "metadata": {},
   "outputs": [
    {
     "name": "stdout",
     "output_type": "stream",
     "text": [
      "Encoding latent indices...\n"
     ]
    },
    {
     "name": "stderr",
     "output_type": "stream",
     "text": [
      "Encoding: 100%|██████████| 467/467 [00:09<00:00, 49.58it/s]\n"
     ]
    },
    {
     "name": "stdout",
     "output_type": "stream",
     "text": [
      "Training PixelCNN...\n"
     ]
    },
    {
     "name": "stderr",
     "output_type": "stream",
     "text": [
      "PixelCNN Epoch 1/50: 100%|██████████| 467/467 [00:01<00:00, 248.37it/s, loss=3.88]\n"
     ]
    },
    {
     "name": "stdout",
     "output_type": "stream",
     "text": [
      "[PixelCNN] Epoch 1: avg loss=4.9095\n"
     ]
    },
    {
     "name": "stderr",
     "output_type": "stream",
     "text": [
      "PixelCNN Epoch 2/50: 100%|██████████| 467/467 [00:01<00:00, 262.14it/s, loss=3.52]\n"
     ]
    },
    {
     "name": "stdout",
     "output_type": "stream",
     "text": [
      "[PixelCNN] Epoch 2: avg loss=3.7674\n"
     ]
    },
    {
     "name": "stderr",
     "output_type": "stream",
     "text": [
      "PixelCNN Epoch 3/50: 100%|██████████| 467/467 [00:01<00:00, 261.90it/s, loss=3.32]\n"
     ]
    },
    {
     "name": "stdout",
     "output_type": "stream",
     "text": [
      "[PixelCNN] Epoch 3: avg loss=3.5308\n"
     ]
    },
    {
     "name": "stderr",
     "output_type": "stream",
     "text": [
      "PixelCNN Epoch 4/50: 100%|██████████| 467/467 [00:01<00:00, 256.22it/s, loss=3.22]\n"
     ]
    },
    {
     "name": "stdout",
     "output_type": "stream",
     "text": [
      "[PixelCNN] Epoch 4: avg loss=3.3980\n"
     ]
    },
    {
     "name": "stderr",
     "output_type": "stream",
     "text": [
      "PixelCNN Epoch 5/50: 100%|██████████| 467/467 [00:01<00:00, 261.62it/s, loss=3.13]\n"
     ]
    },
    {
     "name": "stdout",
     "output_type": "stream",
     "text": [
      "[PixelCNN] Epoch 5: avg loss=3.3031\n"
     ]
    },
    {
     "name": "stderr",
     "output_type": "stream",
     "text": [
      "PixelCNN Epoch 6/50: 100%|██████████| 467/467 [00:01<00:00, 262.33it/s, loss=3.06]\n"
     ]
    },
    {
     "name": "stdout",
     "output_type": "stream",
     "text": [
      "[PixelCNN] Epoch 6: avg loss=3.2299\n"
     ]
    },
    {
     "name": "stderr",
     "output_type": "stream",
     "text": [
      "PixelCNN Epoch 7/50: 100%|██████████| 467/467 [00:01<00:00, 274.09it/s, loss=3]   \n"
     ]
    },
    {
     "name": "stdout",
     "output_type": "stream",
     "text": [
      "[PixelCNN] Epoch 7: avg loss=3.1688\n"
     ]
    },
    {
     "name": "stderr",
     "output_type": "stream",
     "text": [
      "PixelCNN Epoch 8/50: 100%|██████████| 467/467 [00:01<00:00, 274.45it/s, loss=2.93]\n"
     ]
    },
    {
     "name": "stdout",
     "output_type": "stream",
     "text": [
      "[PixelCNN] Epoch 8: avg loss=3.1163\n"
     ]
    },
    {
     "name": "stderr",
     "output_type": "stream",
     "text": [
      "PixelCNN Epoch 9/50: 100%|██████████| 467/467 [00:01<00:00, 251.18it/s, loss=2.86]\n"
     ]
    },
    {
     "name": "stdout",
     "output_type": "stream",
     "text": [
      "[PixelCNN] Epoch 9: avg loss=3.0679\n"
     ]
    },
    {
     "name": "stderr",
     "output_type": "stream",
     "text": [
      "PixelCNN Epoch 10/50: 100%|██████████| 467/467 [00:01<00:00, 242.36it/s, loss=2.81]\n"
     ]
    },
    {
     "name": "stdout",
     "output_type": "stream",
     "text": [
      "[PixelCNN] Epoch 10: avg loss=3.0235\n"
     ]
    },
    {
     "name": "stderr",
     "output_type": "stream",
     "text": [
      "PixelCNN Epoch 11/50: 100%|██████████| 467/467 [00:01<00:00, 239.35it/s, loss=2.76]\n"
     ]
    },
    {
     "name": "stdout",
     "output_type": "stream",
     "text": [
      "[PixelCNN] Epoch 11: avg loss=2.9786\n"
     ]
    },
    {
     "name": "stderr",
     "output_type": "stream",
     "text": [
      "PixelCNN Epoch 12/50: 100%|██████████| 467/467 [00:01<00:00, 234.49it/s, loss=2.73]\n"
     ]
    },
    {
     "name": "stdout",
     "output_type": "stream",
     "text": [
      "[PixelCNN] Epoch 12: avg loss=2.9455\n"
     ]
    },
    {
     "name": "stderr",
     "output_type": "stream",
     "text": [
      "PixelCNN Epoch 13/50: 100%|██████████| 467/467 [00:01<00:00, 247.85it/s, loss=2.7] \n"
     ]
    },
    {
     "name": "stdout",
     "output_type": "stream",
     "text": [
      "[PixelCNN] Epoch 13: avg loss=2.9158\n"
     ]
    },
    {
     "name": "stderr",
     "output_type": "stream",
     "text": [
      "PixelCNN Epoch 14/50: 100%|██████████| 467/467 [00:01<00:00, 263.74it/s, loss=2.68]\n"
     ]
    },
    {
     "name": "stdout",
     "output_type": "stream",
     "text": [
      "[PixelCNN] Epoch 14: avg loss=2.8882\n"
     ]
    },
    {
     "name": "stderr",
     "output_type": "stream",
     "text": [
      "PixelCNN Epoch 15/50: 100%|██████████| 467/467 [00:01<00:00, 266.50it/s, loss=2.69]\n"
     ]
    },
    {
     "name": "stdout",
     "output_type": "stream",
     "text": [
      "[PixelCNN] Epoch 15: avg loss=2.8860\n"
     ]
    },
    {
     "name": "stderr",
     "output_type": "stream",
     "text": [
      "PixelCNN Epoch 16/50: 100%|██████████| 467/467 [00:01<00:00, 268.48it/s, loss=2.64]\n"
     ]
    },
    {
     "name": "stdout",
     "output_type": "stream",
     "text": [
      "[PixelCNN] Epoch 16: avg loss=2.8342\n"
     ]
    },
    {
     "name": "stderr",
     "output_type": "stream",
     "text": [
      "PixelCNN Epoch 17/50: 100%|██████████| 467/467 [00:01<00:00, 264.81it/s, loss=2.61]\n"
     ]
    },
    {
     "name": "stdout",
     "output_type": "stream",
     "text": [
      "[PixelCNN] Epoch 17: avg loss=2.8457\n"
     ]
    },
    {
     "name": "stderr",
     "output_type": "stream",
     "text": [
      "PixelCNN Epoch 18/50: 100%|██████████| 467/467 [00:01<00:00, 260.13it/s, loss=2.59]\n"
     ]
    },
    {
     "name": "stdout",
     "output_type": "stream",
     "text": [
      "[PixelCNN] Epoch 18: avg loss=2.7906\n"
     ]
    },
    {
     "name": "stderr",
     "output_type": "stream",
     "text": [
      "PixelCNN Epoch 19/50: 100%|██████████| 467/467 [00:01<00:00, 254.76it/s, loss=2.56]\n"
     ]
    },
    {
     "name": "stdout",
     "output_type": "stream",
     "text": [
      "[PixelCNN] Epoch 19: avg loss=2.7844\n"
     ]
    },
    {
     "name": "stderr",
     "output_type": "stream",
     "text": [
      "PixelCNN Epoch 20/50: 100%|██████████| 467/467 [00:01<00:00, 254.55it/s, loss=2.57]\n"
     ]
    },
    {
     "name": "stdout",
     "output_type": "stream",
     "text": [
      "[PixelCNN] Epoch 20: avg loss=2.7463\n"
     ]
    },
    {
     "name": "stderr",
     "output_type": "stream",
     "text": [
      "PixelCNN Epoch 21/50: 100%|██████████| 467/467 [00:01<00:00, 261.94it/s, loss=2.54]\n"
     ]
    },
    {
     "name": "stdout",
     "output_type": "stream",
     "text": [
      "[PixelCNN] Epoch 21: avg loss=2.7623\n"
     ]
    },
    {
     "name": "stderr",
     "output_type": "stream",
     "text": [
      "PixelCNN Epoch 22/50: 100%|██████████| 467/467 [00:01<00:00, 261.55it/s, loss=2.51]\n"
     ]
    },
    {
     "name": "stdout",
     "output_type": "stream",
     "text": [
      "[PixelCNN] Epoch 22: avg loss=2.7130\n"
     ]
    },
    {
     "name": "stderr",
     "output_type": "stream",
     "text": [
      "PixelCNN Epoch 23/50: 100%|██████████| 467/467 [00:01<00:00, 246.92it/s, loss=2.5] \n"
     ]
    },
    {
     "name": "stdout",
     "output_type": "stream",
     "text": [
      "[PixelCNN] Epoch 23: avg loss=2.7013\n"
     ]
    },
    {
     "name": "stderr",
     "output_type": "stream",
     "text": [
      "PixelCNN Epoch 24/50: 100%|██████████| 467/467 [00:01<00:00, 270.93it/s, loss=2.5] \n"
     ]
    },
    {
     "name": "stdout",
     "output_type": "stream",
     "text": [
      "[PixelCNN] Epoch 24: avg loss=2.6847\n"
     ]
    },
    {
     "name": "stderr",
     "output_type": "stream",
     "text": [
      "PixelCNN Epoch 25/50: 100%|██████████| 467/467 [00:01<00:00, 270.36it/s, loss=2.5] \n"
     ]
    },
    {
     "name": "stdout",
     "output_type": "stream",
     "text": [
      "[PixelCNN] Epoch 25: avg loss=2.6748\n"
     ]
    },
    {
     "name": "stderr",
     "output_type": "stream",
     "text": [
      "PixelCNN Epoch 26/50: 100%|██████████| 467/467 [00:01<00:00, 261.87it/s, loss=2.47]\n"
     ]
    },
    {
     "name": "stdout",
     "output_type": "stream",
     "text": [
      "[PixelCNN] Epoch 26: avg loss=2.6632\n"
     ]
    },
    {
     "name": "stderr",
     "output_type": "stream",
     "text": [
      "PixelCNN Epoch 27/50: 100%|██████████| 467/467 [00:01<00:00, 264.71it/s, loss=2.45]\n"
     ]
    },
    {
     "name": "stdout",
     "output_type": "stream",
     "text": [
      "[PixelCNN] Epoch 27: avg loss=2.6500\n"
     ]
    },
    {
     "name": "stderr",
     "output_type": "stream",
     "text": [
      "PixelCNN Epoch 28/50: 100%|██████████| 467/467 [00:01<00:00, 261.66it/s, loss=2.43]\n"
     ]
    },
    {
     "name": "stdout",
     "output_type": "stream",
     "text": [
      "[PixelCNN] Epoch 28: avg loss=2.6407\n"
     ]
    },
    {
     "name": "stderr",
     "output_type": "stream",
     "text": [
      "PixelCNN Epoch 29/50: 100%|██████████| 467/467 [00:01<00:00, 265.32it/s, loss=2.42]\n"
     ]
    },
    {
     "name": "stdout",
     "output_type": "stream",
     "text": [
      "[PixelCNN] Epoch 29: avg loss=2.6355\n"
     ]
    },
    {
     "name": "stderr",
     "output_type": "stream",
     "text": [
      "PixelCNN Epoch 30/50: 100%|██████████| 467/467 [00:01<00:00, 267.99it/s, loss=2.4] \n"
     ]
    },
    {
     "name": "stdout",
     "output_type": "stream",
     "text": [
      "[PixelCNN] Epoch 30: avg loss=2.6208\n"
     ]
    },
    {
     "name": "stderr",
     "output_type": "stream",
     "text": [
      "PixelCNN Epoch 31/50: 100%|██████████| 467/467 [00:01<00:00, 262.69it/s, loss=2.38]\n"
     ]
    },
    {
     "name": "stdout",
     "output_type": "stream",
     "text": [
      "[PixelCNN] Epoch 31: avg loss=2.6096\n"
     ]
    },
    {
     "name": "stderr",
     "output_type": "stream",
     "text": [
      "PixelCNN Epoch 32/50: 100%|██████████| 467/467 [00:01<00:00, 257.20it/s, loss=2.37]\n"
     ]
    },
    {
     "name": "stdout",
     "output_type": "stream",
     "text": [
      "[PixelCNN] Epoch 32: avg loss=2.5996\n"
     ]
    },
    {
     "name": "stderr",
     "output_type": "stream",
     "text": [
      "PixelCNN Epoch 33/50: 100%|██████████| 467/467 [00:01<00:00, 259.74it/s, loss=2.35]\n"
     ]
    },
    {
     "name": "stdout",
     "output_type": "stream",
     "text": [
      "[PixelCNN] Epoch 33: avg loss=2.5906\n"
     ]
    },
    {
     "name": "stderr",
     "output_type": "stream",
     "text": [
      "PixelCNN Epoch 34/50: 100%|██████████| 467/467 [00:01<00:00, 253.24it/s, loss=2.34]\n"
     ]
    },
    {
     "name": "stdout",
     "output_type": "stream",
     "text": [
      "[PixelCNN] Epoch 34: avg loss=2.5820\n"
     ]
    },
    {
     "name": "stderr",
     "output_type": "stream",
     "text": [
      "PixelCNN Epoch 35/50: 100%|██████████| 467/467 [00:01<00:00, 251.10it/s, loss=2.32]\n"
     ]
    },
    {
     "name": "stdout",
     "output_type": "stream",
     "text": [
      "[PixelCNN] Epoch 35: avg loss=2.5736\n"
     ]
    },
    {
     "name": "stderr",
     "output_type": "stream",
     "text": [
      "PixelCNN Epoch 36/50: 100%|██████████| 467/467 [00:02<00:00, 221.96it/s, loss=2.31]\n"
     ]
    },
    {
     "name": "stdout",
     "output_type": "stream",
     "text": [
      "[PixelCNN] Epoch 36: avg loss=2.5657\n"
     ]
    },
    {
     "name": "stderr",
     "output_type": "stream",
     "text": [
      "PixelCNN Epoch 37/50: 100%|██████████| 467/467 [00:01<00:00, 238.13it/s, loss=2.3] \n"
     ]
    },
    {
     "name": "stdout",
     "output_type": "stream",
     "text": [
      "[PixelCNN] Epoch 37: avg loss=2.5582\n"
     ]
    },
    {
     "name": "stderr",
     "output_type": "stream",
     "text": [
      "PixelCNN Epoch 38/50: 100%|██████████| 467/467 [00:01<00:00, 245.18it/s, loss=2.29]\n"
     ]
    },
    {
     "name": "stdout",
     "output_type": "stream",
     "text": [
      "[PixelCNN] Epoch 38: avg loss=2.5502\n"
     ]
    },
    {
     "name": "stderr",
     "output_type": "stream",
     "text": [
      "PixelCNN Epoch 39/50: 100%|██████████| 467/467 [00:02<00:00, 228.70it/s, loss=2.28]\n"
     ]
    },
    {
     "name": "stdout",
     "output_type": "stream",
     "text": [
      "[PixelCNN] Epoch 39: avg loss=2.5434\n"
     ]
    },
    {
     "name": "stderr",
     "output_type": "stream",
     "text": [
      "PixelCNN Epoch 40/50: 100%|██████████| 467/467 [00:01<00:00, 234.15it/s, loss=2.27]\n"
     ]
    },
    {
     "name": "stdout",
     "output_type": "stream",
     "text": [
      "[PixelCNN] Epoch 40: avg loss=2.5359\n"
     ]
    },
    {
     "name": "stderr",
     "output_type": "stream",
     "text": [
      "PixelCNN Epoch 41/50: 100%|██████████| 467/467 [00:01<00:00, 255.11it/s, loss=2.27]\n"
     ]
    },
    {
     "name": "stdout",
     "output_type": "stream",
     "text": [
      "[PixelCNN] Epoch 41: avg loss=2.5291\n"
     ]
    },
    {
     "name": "stderr",
     "output_type": "stream",
     "text": [
      "PixelCNN Epoch 42/50: 100%|██████████| 467/467 [00:01<00:00, 257.92it/s, loss=2.27]\n"
     ]
    },
    {
     "name": "stdout",
     "output_type": "stream",
     "text": [
      "[PixelCNN] Epoch 42: avg loss=2.5229\n"
     ]
    },
    {
     "name": "stderr",
     "output_type": "stream",
     "text": [
      "PixelCNN Epoch 43/50: 100%|██████████| 467/467 [00:01<00:00, 253.25it/s, loss=2.27]\n"
     ]
    },
    {
     "name": "stdout",
     "output_type": "stream",
     "text": [
      "[PixelCNN] Epoch 43: avg loss=2.5158\n"
     ]
    },
    {
     "name": "stderr",
     "output_type": "stream",
     "text": [
      "PixelCNN Epoch 44/50: 100%|██████████| 467/467 [00:01<00:00, 255.19it/s, loss=2.26]\n"
     ]
    },
    {
     "name": "stdout",
     "output_type": "stream",
     "text": [
      "[PixelCNN] Epoch 44: avg loss=2.5108\n"
     ]
    },
    {
     "name": "stderr",
     "output_type": "stream",
     "text": [
      "PixelCNN Epoch 45/50: 100%|██████████| 467/467 [00:01<00:00, 245.54it/s, loss=2.25]\n"
     ]
    },
    {
     "name": "stdout",
     "output_type": "stream",
     "text": [
      "[PixelCNN] Epoch 45: avg loss=2.5031\n"
     ]
    },
    {
     "name": "stderr",
     "output_type": "stream",
     "text": [
      "PixelCNN Epoch 46/50: 100%|██████████| 467/467 [00:01<00:00, 255.83it/s, loss=2.25]\n"
     ]
    },
    {
     "name": "stdout",
     "output_type": "stream",
     "text": [
      "[PixelCNN] Epoch 46: avg loss=2.4965\n"
     ]
    },
    {
     "name": "stderr",
     "output_type": "stream",
     "text": [
      "PixelCNN Epoch 47/50: 100%|██████████| 467/467 [00:01<00:00, 254.00it/s, loss=2.26]\n"
     ]
    },
    {
     "name": "stdout",
     "output_type": "stream",
     "text": [
      "[PixelCNN] Epoch 47: avg loss=2.4913\n"
     ]
    },
    {
     "name": "stderr",
     "output_type": "stream",
     "text": [
      "PixelCNN Epoch 48/50: 100%|██████████| 467/467 [00:01<00:00, 268.82it/s, loss=2.26]\n"
     ]
    },
    {
     "name": "stdout",
     "output_type": "stream",
     "text": [
      "[PixelCNN] Epoch 48: avg loss=2.4853\n"
     ]
    },
    {
     "name": "stderr",
     "output_type": "stream",
     "text": [
      "PixelCNN Epoch 49/50: 100%|██████████| 467/467 [00:01<00:00, 269.76it/s, loss=2.26]\n"
     ]
    },
    {
     "name": "stdout",
     "output_type": "stream",
     "text": [
      "[PixelCNN] Epoch 49: avg loss=2.4802\n"
     ]
    },
    {
     "name": "stderr",
     "output_type": "stream",
     "text": [
      "PixelCNN Epoch 50/50: 100%|██████████| 467/467 [00:01<00:00, 271.53it/s, loss=2.27]"
     ]
    },
    {
     "name": "stdout",
     "output_type": "stream",
     "text": [
      "[PixelCNN] Epoch 50: avg loss=2.4742\n"
     ]
    },
    {
     "name": "stderr",
     "output_type": "stream",
     "text": [
      "\n"
     ]
    }
   ],
   "source": [
    "\n",
    "# Zapis kodów latentnych\n",
    "codes = []\n",
    "print(\"Encoding latent indices...\")\n",
    "with torch.no_grad():\n",
    "    for x, _ in tqdm(loader, desc=\"Encoding\"):\n",
    "        x = x.to(device)\n",
    "        idx = vqvae.encode_indices(x)\n",
    "        codes.append(idx)\n",
    "codes = torch.cat(codes)\n",
    "# Trening PixelCNN na kodach\n",
    "pixelcnn = PixelCNN(num_embeddings=512, image_size=codes.shape[1]).to(device)\n",
    "optimizer_pcnn = torch.optim.Adam(pixelcnn.parameters(), lr=2e-4)\n",
    "\n",
    "codes = codes.unsqueeze(1).float()  # [B, 1, H, W]\n",
    "\n",
    "print(\"Training PixelCNN...\")\n",
    "for epoch in range(epochs):\n",
    "    total_loss = 0\n",
    "    with tqdm(range(0, codes.size(0), 64), desc=f\"PixelCNN Epoch {epoch+1}/{epochs}\") as pbar:\n",
    "        for i in pbar:\n",
    "            batch = codes[i:i+64].to(device)\n",
    "            logits = pixelcnn(batch)\n",
    "            loss = torch.nn.functional.cross_entropy(logits, batch.squeeze(1).long())\n",
    "            optimizer_pcnn.zero_grad()\n",
    "            loss.backward()\n",
    "            optimizer_pcnn.step()\n",
    "            total_loss += loss.item()\n",
    "            pbar.set_postfix(loss=loss.item())\n",
    "    print(f\"[PixelCNN] Epoch {epoch+1}: avg loss={total_loss / (codes.size(0)//64):.4f}\")\n"
   ]
  },
  {
   "cell_type": "code",
   "execution_count": 19,
   "id": "d98a1b03",
   "metadata": {},
   "outputs": [],
   "source": [
    "samples = pixelcnn.sample(device, 64)  # [64, 1, H, W] lub [64, H, W]\n",
    "samples = samples.squeeze(1).long()    # [64, H, W]\n",
    "\n",
    "# Zamiana indeksów na embeddingi: [B, H, W] -> [B, H, W, C]\n",
    "embeddings = vqvae.quantizer.embedding(samples)  \n",
    "\n",
    "# Zamiana na [B, C, H, W]\n",
    "embeddings = embeddings.permute(0, 3, 1, 2).contiguous()\n",
    "\n",
    "# Dekodowanie\n",
    "with torch.no_grad():\n",
    "    recon = vqvae.decode(embeddings)   # uzywając metody decode z klasy VQVAE\n",
    "\n",
    "# Zapis\n",
    "save_image(recon, \"generated/generated_cats_lr_2e-04.png\", nrow=8)"
   ]
  },
  {
   "cell_type": "code",
   "execution_count": 23,
   "id": "6a3cef01",
   "metadata": {},
   "outputs": [
    {
     "name": "stderr",
     "output_type": "stream",
     "text": [
      "Epoch 1/50: 100%|██████████| 933/933 [00:17<00:00, 53.74it/s, loss=0.333]\n"
     ]
    },
    {
     "name": "stdout",
     "output_type": "stream",
     "text": [
      "Epoch 1: avg loss=0.4338\n"
     ]
    },
    {
     "name": "stderr",
     "output_type": "stream",
     "text": [
      "Epoch 2/50: 100%|██████████| 933/933 [00:17<00:00, 53.92it/s, loss=0.177]\n"
     ]
    },
    {
     "name": "stdout",
     "output_type": "stream",
     "text": [
      "Epoch 2: avg loss=0.2128\n"
     ]
    },
    {
     "name": "stderr",
     "output_type": "stream",
     "text": [
      "Epoch 3/50: 100%|██████████| 933/933 [00:17<00:00, 54.31it/s, loss=0.15] \n"
     ]
    },
    {
     "name": "stdout",
     "output_type": "stream",
     "text": [
      "Epoch 3: avg loss=0.1641\n"
     ]
    },
    {
     "name": "stderr",
     "output_type": "stream",
     "text": [
      "Epoch 4/50: 100%|██████████| 933/933 [00:17<00:00, 54.29it/s, loss=0.141]\n"
     ]
    },
    {
     "name": "stdout",
     "output_type": "stream",
     "text": [
      "Epoch 4: avg loss=0.1385\n"
     ]
    },
    {
     "name": "stderr",
     "output_type": "stream",
     "text": [
      "Epoch 5/50: 100%|██████████| 933/933 [00:16<00:00, 54.92it/s, loss=0.149]\n"
     ]
    },
    {
     "name": "stdout",
     "output_type": "stream",
     "text": [
      "Epoch 5: avg loss=0.1308\n"
     ]
    },
    {
     "name": "stderr",
     "output_type": "stream",
     "text": [
      "Epoch 6/50: 100%|██████████| 933/933 [00:17<00:00, 54.83it/s, loss=0.126] \n"
     ]
    },
    {
     "name": "stdout",
     "output_type": "stream",
     "text": [
      "Epoch 6: avg loss=0.1268\n"
     ]
    },
    {
     "name": "stderr",
     "output_type": "stream",
     "text": [
      "Epoch 7/50: 100%|██████████| 933/933 [00:17<00:00, 53.10it/s, loss=0.13]  \n"
     ]
    },
    {
     "name": "stdout",
     "output_type": "stream",
     "text": [
      "Epoch 7: avg loss=0.1199\n"
     ]
    },
    {
     "name": "stderr",
     "output_type": "stream",
     "text": [
      "Epoch 8/50: 100%|██████████| 933/933 [00:17<00:00, 52.79it/s, loss=0.106] \n"
     ]
    },
    {
     "name": "stdout",
     "output_type": "stream",
     "text": [
      "Epoch 8: avg loss=0.1151\n"
     ]
    },
    {
     "name": "stderr",
     "output_type": "stream",
     "text": [
      "Epoch 9/50: 100%|██████████| 933/933 [00:17<00:00, 52.83it/s, loss=0.1]   \n"
     ]
    },
    {
     "name": "stdout",
     "output_type": "stream",
     "text": [
      "Epoch 9: avg loss=0.1101\n"
     ]
    },
    {
     "name": "stderr",
     "output_type": "stream",
     "text": [
      "Epoch 10/50: 100%|██████████| 933/933 [00:17<00:00, 52.78it/s, loss=0.105] \n"
     ]
    },
    {
     "name": "stdout",
     "output_type": "stream",
     "text": [
      "Epoch 10: avg loss=0.1054\n"
     ]
    },
    {
     "name": "stderr",
     "output_type": "stream",
     "text": [
      "Epoch 11/50: 100%|██████████| 933/933 [00:18<00:00, 50.93it/s, loss=0.11]  \n"
     ]
    },
    {
     "name": "stdout",
     "output_type": "stream",
     "text": [
      "Epoch 11: avg loss=0.1026\n"
     ]
    },
    {
     "name": "stderr",
     "output_type": "stream",
     "text": [
      "Epoch 12/50: 100%|██████████| 933/933 [00:18<00:00, 51.69it/s, loss=0.0951]\n"
     ]
    },
    {
     "name": "stdout",
     "output_type": "stream",
     "text": [
      "Epoch 12: avg loss=0.1001\n"
     ]
    },
    {
     "name": "stderr",
     "output_type": "stream",
     "text": [
      "Epoch 13/50: 100%|██████████| 933/933 [00:17<00:00, 54.03it/s, loss=0.086] \n"
     ]
    },
    {
     "name": "stdout",
     "output_type": "stream",
     "text": [
      "Epoch 13: avg loss=0.0981\n"
     ]
    },
    {
     "name": "stderr",
     "output_type": "stream",
     "text": [
      "Epoch 14/50: 100%|██████████| 933/933 [00:17<00:00, 54.44it/s, loss=0.0939]\n"
     ]
    },
    {
     "name": "stdout",
     "output_type": "stream",
     "text": [
      "Epoch 14: avg loss=0.0968\n"
     ]
    },
    {
     "name": "stderr",
     "output_type": "stream",
     "text": [
      "Epoch 15/50: 100%|██████████| 933/933 [00:17<00:00, 54.26it/s, loss=0.0793]\n"
     ]
    },
    {
     "name": "stdout",
     "output_type": "stream",
     "text": [
      "Epoch 15: avg loss=0.0955\n"
     ]
    },
    {
     "name": "stderr",
     "output_type": "stream",
     "text": [
      "Epoch 16/50: 100%|██████████| 933/933 [00:16<00:00, 56.50it/s, loss=0.0955]\n"
     ]
    },
    {
     "name": "stdout",
     "output_type": "stream",
     "text": [
      "Epoch 16: avg loss=0.0942\n"
     ]
    },
    {
     "name": "stderr",
     "output_type": "stream",
     "text": [
      "Epoch 17/50: 100%|██████████| 933/933 [00:17<00:00, 54.33it/s, loss=0.0908]\n"
     ]
    },
    {
     "name": "stdout",
     "output_type": "stream",
     "text": [
      "Epoch 17: avg loss=0.0930\n"
     ]
    },
    {
     "name": "stderr",
     "output_type": "stream",
     "text": [
      "Epoch 18/50: 100%|██████████| 933/933 [00:17<00:00, 54.80it/s, loss=0.0834]\n"
     ]
    },
    {
     "name": "stdout",
     "output_type": "stream",
     "text": [
      "Epoch 18: avg loss=0.0920\n"
     ]
    },
    {
     "name": "stderr",
     "output_type": "stream",
     "text": [
      "Epoch 19/50: 100%|██████████| 933/933 [00:17<00:00, 54.36it/s, loss=0.096] \n"
     ]
    },
    {
     "name": "stdout",
     "output_type": "stream",
     "text": [
      "Epoch 19: avg loss=0.0909\n"
     ]
    },
    {
     "name": "stderr",
     "output_type": "stream",
     "text": [
      "Epoch 20/50: 100%|██████████| 933/933 [00:17<00:00, 54.33it/s, loss=0.0903]\n"
     ]
    },
    {
     "name": "stdout",
     "output_type": "stream",
     "text": [
      "Epoch 20: avg loss=0.0899\n"
     ]
    },
    {
     "name": "stderr",
     "output_type": "stream",
     "text": [
      "Epoch 21/50: 100%|██████████| 933/933 [00:17<00:00, 54.15it/s, loss=0.0934]\n"
     ]
    },
    {
     "name": "stdout",
     "output_type": "stream",
     "text": [
      "Epoch 21: avg loss=0.0889\n"
     ]
    },
    {
     "name": "stderr",
     "output_type": "stream",
     "text": [
      "Epoch 22/50: 100%|██████████| 933/933 [00:17<00:00, 54.32it/s, loss=0.0832]\n"
     ]
    },
    {
     "name": "stdout",
     "output_type": "stream",
     "text": [
      "Epoch 22: avg loss=0.0881\n"
     ]
    },
    {
     "name": "stderr",
     "output_type": "stream",
     "text": [
      "Epoch 23/50: 100%|██████████| 933/933 [00:17<00:00, 54.31it/s, loss=0.0926]\n"
     ]
    },
    {
     "name": "stdout",
     "output_type": "stream",
     "text": [
      "Epoch 23: avg loss=0.0873\n"
     ]
    },
    {
     "name": "stderr",
     "output_type": "stream",
     "text": [
      "Epoch 24/50: 100%|██████████| 933/933 [00:17<00:00, 54.39it/s, loss=0.0941]\n"
     ]
    },
    {
     "name": "stdout",
     "output_type": "stream",
     "text": [
      "Epoch 24: avg loss=0.0866\n"
     ]
    },
    {
     "name": "stderr",
     "output_type": "stream",
     "text": [
      "Epoch 25/50: 100%|██████████| 933/933 [00:17<00:00, 54.28it/s, loss=0.0904]\n"
     ]
    },
    {
     "name": "stdout",
     "output_type": "stream",
     "text": [
      "Epoch 25: avg loss=0.0858\n"
     ]
    },
    {
     "name": "stderr",
     "output_type": "stream",
     "text": [
      "Epoch 26/50: 100%|██████████| 933/933 [00:17<00:00, 53.00it/s, loss=0.0876]\n"
     ]
    },
    {
     "name": "stdout",
     "output_type": "stream",
     "text": [
      "Epoch 26: avg loss=0.0852\n"
     ]
    },
    {
     "name": "stderr",
     "output_type": "stream",
     "text": [
      "Epoch 27/50: 100%|██████████| 933/933 [00:17<00:00, 52.34it/s, loss=0.074] \n"
     ]
    },
    {
     "name": "stdout",
     "output_type": "stream",
     "text": [
      "Epoch 27: avg loss=0.0845\n"
     ]
    },
    {
     "name": "stderr",
     "output_type": "stream",
     "text": [
      "Epoch 28/50: 100%|██████████| 933/933 [00:17<00:00, 52.77it/s, loss=0.0846]\n"
     ]
    },
    {
     "name": "stdout",
     "output_type": "stream",
     "text": [
      "Epoch 28: avg loss=0.0841\n"
     ]
    },
    {
     "name": "stderr",
     "output_type": "stream",
     "text": [
      "Epoch 29/50: 100%|██████████| 933/933 [00:18<00:00, 50.90it/s, loss=0.0837]\n"
     ]
    },
    {
     "name": "stdout",
     "output_type": "stream",
     "text": [
      "Epoch 29: avg loss=0.0835\n"
     ]
    },
    {
     "name": "stderr",
     "output_type": "stream",
     "text": [
      "Epoch 30/50: 100%|██████████| 933/933 [00:17<00:00, 52.89it/s, loss=0.0705]\n"
     ]
    },
    {
     "name": "stdout",
     "output_type": "stream",
     "text": [
      "Epoch 30: avg loss=0.0830\n"
     ]
    },
    {
     "name": "stderr",
     "output_type": "stream",
     "text": [
      "Epoch 31/50: 100%|██████████| 933/933 [00:17<00:00, 53.21it/s, loss=0.0979]\n"
     ]
    },
    {
     "name": "stdout",
     "output_type": "stream",
     "text": [
      "Epoch 31: avg loss=0.0826\n"
     ]
    },
    {
     "name": "stderr",
     "output_type": "stream",
     "text": [
      "Epoch 32/50: 100%|██████████| 933/933 [00:17<00:00, 53.43it/s, loss=0.0715]\n"
     ]
    },
    {
     "name": "stdout",
     "output_type": "stream",
     "text": [
      "Epoch 32: avg loss=0.0821\n"
     ]
    },
    {
     "name": "stderr",
     "output_type": "stream",
     "text": [
      "Epoch 33/50: 100%|██████████| 933/933 [00:17<00:00, 53.53it/s, loss=0.0714]\n"
     ]
    },
    {
     "name": "stdout",
     "output_type": "stream",
     "text": [
      "Epoch 33: avg loss=0.0818\n"
     ]
    },
    {
     "name": "stderr",
     "output_type": "stream",
     "text": [
      "Epoch 34/50: 100%|██████████| 933/933 [00:17<00:00, 53.39it/s, loss=0.0742]\n"
     ]
    },
    {
     "name": "stdout",
     "output_type": "stream",
     "text": [
      "Epoch 34: avg loss=0.0816\n"
     ]
    },
    {
     "name": "stderr",
     "output_type": "stream",
     "text": [
      "Epoch 35/50: 100%|██████████| 933/933 [00:17<00:00, 53.84it/s, loss=0.0948]\n"
     ]
    },
    {
     "name": "stdout",
     "output_type": "stream",
     "text": [
      "Epoch 35: avg loss=0.0811\n"
     ]
    },
    {
     "name": "stderr",
     "output_type": "stream",
     "text": [
      "Epoch 36/50: 100%|██████████| 933/933 [00:16<00:00, 55.15it/s, loss=0.0758]\n"
     ]
    },
    {
     "name": "stdout",
     "output_type": "stream",
     "text": [
      "Epoch 36: avg loss=0.0808\n"
     ]
    },
    {
     "name": "stderr",
     "output_type": "stream",
     "text": [
      "Epoch 37/50: 100%|██████████| 933/933 [00:17<00:00, 54.61it/s, loss=0.0851]\n"
     ]
    },
    {
     "name": "stdout",
     "output_type": "stream",
     "text": [
      "Epoch 37: avg loss=0.0805\n"
     ]
    },
    {
     "name": "stderr",
     "output_type": "stream",
     "text": [
      "Epoch 38/50: 100%|██████████| 933/933 [00:17<00:00, 54.43it/s, loss=0.0702]\n"
     ]
    },
    {
     "name": "stdout",
     "output_type": "stream",
     "text": [
      "Epoch 38: avg loss=0.0803\n"
     ]
    },
    {
     "name": "stderr",
     "output_type": "stream",
     "text": [
      "Epoch 39/50: 100%|██████████| 933/933 [00:17<00:00, 54.38it/s, loss=0.0726]\n"
     ]
    },
    {
     "name": "stdout",
     "output_type": "stream",
     "text": [
      "Epoch 39: avg loss=0.0801\n"
     ]
    },
    {
     "name": "stderr",
     "output_type": "stream",
     "text": [
      "Epoch 40/50: 100%|██████████| 933/933 [00:18<00:00, 49.95it/s, loss=0.0645]\n"
     ]
    },
    {
     "name": "stdout",
     "output_type": "stream",
     "text": [
      "Epoch 40: avg loss=0.0798\n"
     ]
    },
    {
     "name": "stderr",
     "output_type": "stream",
     "text": [
      "Epoch 41/50: 100%|██████████| 933/933 [00:18<00:00, 50.62it/s, loss=0.0762]\n"
     ]
    },
    {
     "name": "stdout",
     "output_type": "stream",
     "text": [
      "Epoch 41: avg loss=0.0795\n"
     ]
    },
    {
     "name": "stderr",
     "output_type": "stream",
     "text": [
      "Epoch 42/50: 100%|██████████| 933/933 [00:18<00:00, 51.27it/s, loss=0.0735]\n"
     ]
    },
    {
     "name": "stdout",
     "output_type": "stream",
     "text": [
      "Epoch 42: avg loss=0.0795\n"
     ]
    },
    {
     "name": "stderr",
     "output_type": "stream",
     "text": [
      "Epoch 43/50: 100%|██████████| 933/933 [00:17<00:00, 53.89it/s, loss=0.0958]\n"
     ]
    },
    {
     "name": "stdout",
     "output_type": "stream",
     "text": [
      "Epoch 43: avg loss=0.0791\n"
     ]
    },
    {
     "name": "stderr",
     "output_type": "stream",
     "text": [
      "Epoch 44/50: 100%|██████████| 933/933 [00:17<00:00, 54.17it/s, loss=0.0719]\n"
     ]
    },
    {
     "name": "stdout",
     "output_type": "stream",
     "text": [
      "Epoch 44: avg loss=0.0790\n"
     ]
    },
    {
     "name": "stderr",
     "output_type": "stream",
     "text": [
      "Epoch 45/50: 100%|██████████| 933/933 [00:17<00:00, 54.03it/s, loss=0.101] \n"
     ]
    },
    {
     "name": "stdout",
     "output_type": "stream",
     "text": [
      "Epoch 45: avg loss=0.0787\n"
     ]
    },
    {
     "name": "stderr",
     "output_type": "stream",
     "text": [
      "Epoch 46/50: 100%|██████████| 933/933 [00:17<00:00, 52.50it/s, loss=0.0754]\n"
     ]
    },
    {
     "name": "stdout",
     "output_type": "stream",
     "text": [
      "Epoch 46: avg loss=0.0786\n"
     ]
    },
    {
     "name": "stderr",
     "output_type": "stream",
     "text": [
      "Epoch 47/50: 100%|██████████| 933/933 [00:17<00:00, 52.81it/s, loss=0.0712]\n"
     ]
    },
    {
     "name": "stdout",
     "output_type": "stream",
     "text": [
      "Epoch 47: avg loss=0.0784\n"
     ]
    },
    {
     "name": "stderr",
     "output_type": "stream",
     "text": [
      "Epoch 48/50: 100%|██████████| 933/933 [00:17<00:00, 52.68it/s, loss=0.0747]\n"
     ]
    },
    {
     "name": "stdout",
     "output_type": "stream",
     "text": [
      "Epoch 48: avg loss=0.0783\n"
     ]
    },
    {
     "name": "stderr",
     "output_type": "stream",
     "text": [
      "Epoch 49/50: 100%|██████████| 933/933 [00:17<00:00, 53.01it/s, loss=0.0756]\n"
     ]
    },
    {
     "name": "stdout",
     "output_type": "stream",
     "text": [
      "Epoch 49: avg loss=0.0781\n"
     ]
    },
    {
     "name": "stderr",
     "output_type": "stream",
     "text": [
      "Epoch 50/50: 100%|██████████| 933/933 [00:17<00:00, 54.18it/s, loss=0.0762]"
     ]
    },
    {
     "name": "stdout",
     "output_type": "stream",
     "text": [
      "Epoch 50: avg loss=0.0778\n"
     ]
    },
    {
     "name": "stderr",
     "output_type": "stream",
     "text": [
      "\n"
     ]
    }
   ],
   "source": [
    "import torch\n",
    "from torch.utils.data import DataLoader\n",
    "from torchvision.datasets import ImageFolder\n",
    "from torchvision import transforms\n",
    "from torchvision.utils import save_image\n",
    "import os\n",
    "from tqdm import tqdm\n",
    "epochs = 50\n",
    "device = torch.device('cuda' if torch.cuda.is_available() else 'cpu')\n",
    "\n",
    "transform = transforms.Compose([\n",
    "    transforms.ToTensor()\n",
    "])\n",
    "dataset = ImageFolder(\"data\", transform=transform)\n",
    "loader = DataLoader(dataset, batch_size=32, shuffle=True)\n",
    "\n",
    "vqvae = VQVAE().to(device)\n",
    "optimizer = torch.optim.Adam(vqvae.parameters(), lr=2e-4)\n",
    "\n",
    "for epoch in range(epochs):\n",
    "    total_loss = 0\n",
    "    with tqdm(loader, desc=f\"Epoch {epoch+1}/{epochs}\") as pbar:\n",
    "        for x, _ in pbar:\n",
    "            x = x.to(device)\n",
    "            x_recon, vq_loss = vqvae(x)\n",
    "            recon_loss = torch.nn.functional.mse_loss(x_recon, x)\n",
    "            loss = recon_loss + vq_loss\n",
    "            optimizer.zero_grad()\n",
    "            loss.backward()\n",
    "            optimizer.step()\n",
    "            total_loss += loss.item()\n",
    "            pbar.set_postfix(loss=loss.item())\n",
    "    print(f\"Epoch {epoch+1}: avg loss={total_loss / len(loader):.4f}\")\n",
    "\n"
   ]
  },
  {
   "cell_type": "code",
   "execution_count": 24,
   "id": "d3742e4d",
   "metadata": {},
   "outputs": [
    {
     "name": "stdout",
     "output_type": "stream",
     "text": [
      "Encoding latent indices...\n"
     ]
    },
    {
     "name": "stderr",
     "output_type": "stream",
     "text": [
      "Encoding: 100%|██████████| 933/933 [00:09<00:00, 93.71it/s]\n"
     ]
    },
    {
     "name": "stdout",
     "output_type": "stream",
     "text": [
      "Training PixelCNN...\n"
     ]
    },
    {
     "name": "stderr",
     "output_type": "stream",
     "text": [
      "PixelCNN Epoch 1/50: 100%|██████████| 467/467 [00:01<00:00, 235.81it/s, loss=5.25]\n"
     ]
    },
    {
     "name": "stdout",
     "output_type": "stream",
     "text": [
      "[PixelCNN] Epoch 1: avg loss=5.5023\n"
     ]
    },
    {
     "name": "stderr",
     "output_type": "stream",
     "text": [
      "PixelCNN Epoch 2/50: 100%|██████████| 467/467 [00:01<00:00, 254.82it/s, loss=3.89]\n"
     ]
    },
    {
     "name": "stdout",
     "output_type": "stream",
     "text": [
      "[PixelCNN] Epoch 2: avg loss=4.7723\n"
     ]
    },
    {
     "name": "stderr",
     "output_type": "stream",
     "text": [
      "PixelCNN Epoch 3/50: 100%|██████████| 467/467 [00:01<00:00, 252.05it/s, loss=3.37]\n"
     ]
    },
    {
     "name": "stdout",
     "output_type": "stream",
     "text": [
      "[PixelCNN] Epoch 3: avg loss=3.6347\n"
     ]
    },
    {
     "name": "stderr",
     "output_type": "stream",
     "text": [
      "PixelCNN Epoch 4/50: 100%|██████████| 467/467 [00:01<00:00, 243.70it/s, loss=3.12]\n"
     ]
    },
    {
     "name": "stdout",
     "output_type": "stream",
     "text": [
      "[PixelCNN] Epoch 4: avg loss=3.3509\n"
     ]
    },
    {
     "name": "stderr",
     "output_type": "stream",
     "text": [
      "PixelCNN Epoch 5/50: 100%|██████████| 467/467 [00:01<00:00, 255.79it/s, loss=2.95]\n"
     ]
    },
    {
     "name": "stdout",
     "output_type": "stream",
     "text": [
      "[PixelCNN] Epoch 5: avg loss=3.1552\n"
     ]
    },
    {
     "name": "stderr",
     "output_type": "stream",
     "text": [
      "PixelCNN Epoch 6/50: 100%|██████████| 467/467 [00:01<00:00, 253.10it/s, loss=3.06]\n"
     ]
    },
    {
     "name": "stdout",
     "output_type": "stream",
     "text": [
      "[PixelCNN] Epoch 6: avg loss=3.0625\n"
     ]
    },
    {
     "name": "stderr",
     "output_type": "stream",
     "text": [
      "PixelCNN Epoch 7/50: 100%|██████████| 467/467 [00:01<00:00, 251.36it/s, loss=2.81]\n"
     ]
    },
    {
     "name": "stdout",
     "output_type": "stream",
     "text": [
      "[PixelCNN] Epoch 7: avg loss=2.9621\n"
     ]
    },
    {
     "name": "stderr",
     "output_type": "stream",
     "text": [
      "PixelCNN Epoch 8/50: 100%|██████████| 467/467 [00:01<00:00, 255.72it/s, loss=2.74]\n"
     ]
    },
    {
     "name": "stdout",
     "output_type": "stream",
     "text": [
      "[PixelCNN] Epoch 8: avg loss=2.9342\n"
     ]
    },
    {
     "name": "stderr",
     "output_type": "stream",
     "text": [
      "PixelCNN Epoch 9/50: 100%|██████████| 467/467 [00:01<00:00, 259.50it/s, loss=2.86]\n"
     ]
    },
    {
     "name": "stdout",
     "output_type": "stream",
     "text": [
      "[PixelCNN] Epoch 9: avg loss=2.8581\n"
     ]
    },
    {
     "name": "stderr",
     "output_type": "stream",
     "text": [
      "PixelCNN Epoch 10/50: 100%|██████████| 467/467 [00:01<00:00, 267.37it/s, loss=2.86]\n"
     ]
    },
    {
     "name": "stdout",
     "output_type": "stream",
     "text": [
      "[PixelCNN] Epoch 10: avg loss=2.8262\n"
     ]
    },
    {
     "name": "stderr",
     "output_type": "stream",
     "text": [
      "PixelCNN Epoch 11/50: 100%|██████████| 467/467 [00:01<00:00, 266.06it/s, loss=2.6] \n"
     ]
    },
    {
     "name": "stdout",
     "output_type": "stream",
     "text": [
      "[PixelCNN] Epoch 11: avg loss=2.7975\n"
     ]
    },
    {
     "name": "stderr",
     "output_type": "stream",
     "text": [
      "PixelCNN Epoch 12/50: 100%|██████████| 467/467 [00:01<00:00, 241.73it/s, loss=2.74]\n"
     ]
    },
    {
     "name": "stdout",
     "output_type": "stream",
     "text": [
      "[PixelCNN] Epoch 12: avg loss=2.7700\n"
     ]
    },
    {
     "name": "stderr",
     "output_type": "stream",
     "text": [
      "PixelCNN Epoch 13/50: 100%|██████████| 467/467 [00:01<00:00, 259.15it/s, loss=2.71]\n"
     ]
    },
    {
     "name": "stdout",
     "output_type": "stream",
     "text": [
      "[PixelCNN] Epoch 13: avg loss=2.7828\n"
     ]
    },
    {
     "name": "stderr",
     "output_type": "stream",
     "text": [
      "PixelCNN Epoch 14/50: 100%|██████████| 467/467 [00:01<00:00, 249.46it/s, loss=2.82]\n"
     ]
    },
    {
     "name": "stdout",
     "output_type": "stream",
     "text": [
      "[PixelCNN] Epoch 14: avg loss=2.7282\n"
     ]
    },
    {
     "name": "stderr",
     "output_type": "stream",
     "text": [
      "PixelCNN Epoch 15/50: 100%|██████████| 467/467 [00:01<00:00, 268.86it/s, loss=7.27]\n"
     ]
    },
    {
     "name": "stdout",
     "output_type": "stream",
     "text": [
      "[PixelCNN] Epoch 15: avg loss=2.7385\n"
     ]
    },
    {
     "name": "stderr",
     "output_type": "stream",
     "text": [
      "PixelCNN Epoch 16/50: 100%|██████████| 467/467 [00:01<00:00, 249.18it/s, loss=2.76]\n"
     ]
    },
    {
     "name": "stdout",
     "output_type": "stream",
     "text": [
      "[PixelCNN] Epoch 16: avg loss=2.9543\n"
     ]
    },
    {
     "name": "stderr",
     "output_type": "stream",
     "text": [
      "PixelCNN Epoch 17/50: 100%|██████████| 467/467 [00:01<00:00, 255.39it/s, loss=2.6] \n"
     ]
    },
    {
     "name": "stdout",
     "output_type": "stream",
     "text": [
      "[PixelCNN] Epoch 17: avg loss=2.7500\n"
     ]
    },
    {
     "name": "stderr",
     "output_type": "stream",
     "text": [
      "PixelCNN Epoch 18/50: 100%|██████████| 467/467 [00:01<00:00, 259.23it/s, loss=2.67]\n"
     ]
    },
    {
     "name": "stdout",
     "output_type": "stream",
     "text": [
      "[PixelCNN] Epoch 18: avg loss=2.7242\n"
     ]
    },
    {
     "name": "stderr",
     "output_type": "stream",
     "text": [
      "PixelCNN Epoch 19/50: 100%|██████████| 467/467 [00:01<00:00, 249.08it/s, loss=2.61]\n"
     ]
    },
    {
     "name": "stdout",
     "output_type": "stream",
     "text": [
      "[PixelCNN] Epoch 19: avg loss=2.6867\n"
     ]
    },
    {
     "name": "stderr",
     "output_type": "stream",
     "text": [
      "PixelCNN Epoch 20/50: 100%|██████████| 467/467 [00:01<00:00, 257.50it/s, loss=2.66]\n"
     ]
    },
    {
     "name": "stdout",
     "output_type": "stream",
     "text": [
      "[PixelCNN] Epoch 20: avg loss=2.6649\n"
     ]
    },
    {
     "name": "stderr",
     "output_type": "stream",
     "text": [
      "PixelCNN Epoch 21/50: 100%|██████████| 467/467 [00:01<00:00, 256.49it/s, loss=2.68]\n"
     ]
    },
    {
     "name": "stdout",
     "output_type": "stream",
     "text": [
      "[PixelCNN] Epoch 21: avg loss=2.6702\n"
     ]
    },
    {
     "name": "stderr",
     "output_type": "stream",
     "text": [
      "PixelCNN Epoch 22/50: 100%|██████████| 467/467 [00:01<00:00, 258.00it/s, loss=2.61]\n"
     ]
    },
    {
     "name": "stdout",
     "output_type": "stream",
     "text": [
      "[PixelCNN] Epoch 22: avg loss=2.6499\n"
     ]
    },
    {
     "name": "stderr",
     "output_type": "stream",
     "text": [
      "PixelCNN Epoch 23/50: 100%|██████████| 467/467 [00:01<00:00, 255.47it/s, loss=2.58]\n"
     ]
    },
    {
     "name": "stdout",
     "output_type": "stream",
     "text": [
      "[PixelCNN] Epoch 23: avg loss=2.6196\n"
     ]
    },
    {
     "name": "stderr",
     "output_type": "stream",
     "text": [
      "PixelCNN Epoch 24/50: 100%|██████████| 467/467 [00:01<00:00, 254.13it/s, loss=2.68]\n"
     ]
    },
    {
     "name": "stdout",
     "output_type": "stream",
     "text": [
      "[PixelCNN] Epoch 24: avg loss=2.6497\n"
     ]
    },
    {
     "name": "stderr",
     "output_type": "stream",
     "text": [
      "PixelCNN Epoch 25/50: 100%|██████████| 467/467 [00:01<00:00, 260.48it/s, loss=2.58]\n"
     ]
    },
    {
     "name": "stdout",
     "output_type": "stream",
     "text": [
      "[PixelCNN] Epoch 25: avg loss=2.5942\n"
     ]
    },
    {
     "name": "stderr",
     "output_type": "stream",
     "text": [
      "PixelCNN Epoch 26/50: 100%|██████████| 467/467 [00:01<00:00, 262.79it/s, loss=2.49]\n"
     ]
    },
    {
     "name": "stdout",
     "output_type": "stream",
     "text": [
      "[PixelCNN] Epoch 26: avg loss=2.6114\n"
     ]
    },
    {
     "name": "stderr",
     "output_type": "stream",
     "text": [
      "PixelCNN Epoch 27/50: 100%|██████████| 467/467 [00:01<00:00, 259.68it/s, loss=2.58]\n"
     ]
    },
    {
     "name": "stdout",
     "output_type": "stream",
     "text": [
      "[PixelCNN] Epoch 27: avg loss=2.5802\n"
     ]
    },
    {
     "name": "stderr",
     "output_type": "stream",
     "text": [
      "PixelCNN Epoch 28/50: 100%|██████████| 467/467 [00:01<00:00, 260.80it/s, loss=2.5] \n"
     ]
    },
    {
     "name": "stdout",
     "output_type": "stream",
     "text": [
      "[PixelCNN] Epoch 28: avg loss=2.5898\n"
     ]
    },
    {
     "name": "stderr",
     "output_type": "stream",
     "text": [
      "PixelCNN Epoch 29/50: 100%|██████████| 467/467 [00:01<00:00, 262.95it/s, loss=2.45]\n"
     ]
    },
    {
     "name": "stdout",
     "output_type": "stream",
     "text": [
      "[PixelCNN] Epoch 29: avg loss=2.5809\n"
     ]
    },
    {
     "name": "stderr",
     "output_type": "stream",
     "text": [
      "PixelCNN Epoch 30/50: 100%|██████████| 467/467 [00:01<00:00, 260.18it/s, loss=2.5] \n"
     ]
    },
    {
     "name": "stdout",
     "output_type": "stream",
     "text": [
      "[PixelCNN] Epoch 30: avg loss=2.5582\n"
     ]
    },
    {
     "name": "stderr",
     "output_type": "stream",
     "text": [
      "PixelCNN Epoch 31/50: 100%|██████████| 467/467 [00:01<00:00, 261.14it/s, loss=2.42]\n"
     ]
    },
    {
     "name": "stdout",
     "output_type": "stream",
     "text": [
      "[PixelCNN] Epoch 31: avg loss=2.5652\n"
     ]
    },
    {
     "name": "stderr",
     "output_type": "stream",
     "text": [
      "PixelCNN Epoch 32/50: 100%|██████████| 467/467 [00:01<00:00, 251.76it/s, loss=2.86]\n"
     ]
    },
    {
     "name": "stdout",
     "output_type": "stream",
     "text": [
      "[PixelCNN] Epoch 32: avg loss=2.5494\n"
     ]
    },
    {
     "name": "stderr",
     "output_type": "stream",
     "text": [
      "PixelCNN Epoch 33/50: 100%|██████████| 467/467 [00:01<00:00, 259.09it/s, loss=2.45]\n"
     ]
    },
    {
     "name": "stdout",
     "output_type": "stream",
     "text": [
      "[PixelCNN] Epoch 33: avg loss=2.5564\n"
     ]
    },
    {
     "name": "stderr",
     "output_type": "stream",
     "text": [
      "PixelCNN Epoch 34/50: 100%|██████████| 467/467 [00:01<00:00, 266.62it/s, loss=2.48]\n"
     ]
    },
    {
     "name": "stdout",
     "output_type": "stream",
     "text": [
      "[PixelCNN] Epoch 34: avg loss=2.5124\n"
     ]
    },
    {
     "name": "stderr",
     "output_type": "stream",
     "text": [
      "PixelCNN Epoch 35/50: 100%|██████████| 467/467 [00:01<00:00, 246.19it/s, loss=2.5] \n"
     ]
    },
    {
     "name": "stdout",
     "output_type": "stream",
     "text": [
      "[PixelCNN] Epoch 35: avg loss=2.5132\n"
     ]
    },
    {
     "name": "stderr",
     "output_type": "stream",
     "text": [
      "PixelCNN Epoch 36/50: 100%|██████████| 467/467 [00:01<00:00, 264.95it/s, loss=2.4] \n"
     ]
    },
    {
     "name": "stdout",
     "output_type": "stream",
     "text": [
      "[PixelCNN] Epoch 36: avg loss=2.5384\n"
     ]
    },
    {
     "name": "stderr",
     "output_type": "stream",
     "text": [
      "PixelCNN Epoch 37/50: 100%|██████████| 467/467 [00:01<00:00, 261.23it/s, loss=2.64]\n"
     ]
    },
    {
     "name": "stdout",
     "output_type": "stream",
     "text": [
      "[PixelCNN] Epoch 37: avg loss=2.6844\n"
     ]
    },
    {
     "name": "stderr",
     "output_type": "stream",
     "text": [
      "PixelCNN Epoch 38/50: 100%|██████████| 467/467 [00:01<00:00, 264.34it/s, loss=2.51]\n"
     ]
    },
    {
     "name": "stdout",
     "output_type": "stream",
     "text": [
      "[PixelCNN] Epoch 38: avg loss=2.5436\n"
     ]
    },
    {
     "name": "stderr",
     "output_type": "stream",
     "text": [
      "PixelCNN Epoch 39/50: 100%|██████████| 467/467 [00:01<00:00, 246.94it/s, loss=2.78]\n"
     ]
    },
    {
     "name": "stdout",
     "output_type": "stream",
     "text": [
      "[PixelCNN] Epoch 39: avg loss=2.5081\n"
     ]
    },
    {
     "name": "stderr",
     "output_type": "stream",
     "text": [
      "PixelCNN Epoch 40/50: 100%|██████████| 467/467 [00:02<00:00, 230.33it/s, loss=2.36]\n"
     ]
    },
    {
     "name": "stdout",
     "output_type": "stream",
     "text": [
      "[PixelCNN] Epoch 40: avg loss=2.5092\n"
     ]
    },
    {
     "name": "stderr",
     "output_type": "stream",
     "text": [
      "PixelCNN Epoch 41/50: 100%|██████████| 467/467 [00:01<00:00, 238.35it/s, loss=2.6] \n"
     ]
    },
    {
     "name": "stdout",
     "output_type": "stream",
     "text": [
      "[PixelCNN] Epoch 41: avg loss=2.5034\n"
     ]
    },
    {
     "name": "stderr",
     "output_type": "stream",
     "text": [
      "PixelCNN Epoch 42/50: 100%|██████████| 467/467 [00:01<00:00, 263.11it/s, loss=2.62]\n"
     ]
    },
    {
     "name": "stdout",
     "output_type": "stream",
     "text": [
      "[PixelCNN] Epoch 42: avg loss=2.4713\n"
     ]
    },
    {
     "name": "stderr",
     "output_type": "stream",
     "text": [
      "PixelCNN Epoch 43/50: 100%|██████████| 467/467 [00:01<00:00, 255.73it/s, loss=2.48]\n"
     ]
    },
    {
     "name": "stdout",
     "output_type": "stream",
     "text": [
      "[PixelCNN] Epoch 43: avg loss=2.4971\n"
     ]
    },
    {
     "name": "stderr",
     "output_type": "stream",
     "text": [
      "PixelCNN Epoch 44/50: 100%|██████████| 467/467 [00:01<00:00, 262.51it/s, loss=2.61]\n"
     ]
    },
    {
     "name": "stdout",
     "output_type": "stream",
     "text": [
      "[PixelCNN] Epoch 44: avg loss=2.4462\n"
     ]
    },
    {
     "name": "stderr",
     "output_type": "stream",
     "text": [
      "PixelCNN Epoch 45/50: 100%|██████████| 467/467 [00:01<00:00, 257.73it/s, loss=2.38]\n"
     ]
    },
    {
     "name": "stdout",
     "output_type": "stream",
     "text": [
      "[PixelCNN] Epoch 45: avg loss=2.4630\n"
     ]
    },
    {
     "name": "stderr",
     "output_type": "stream",
     "text": [
      "PixelCNN Epoch 46/50: 100%|██████████| 467/467 [00:01<00:00, 244.77it/s, loss=2.46]\n"
     ]
    },
    {
     "name": "stdout",
     "output_type": "stream",
     "text": [
      "[PixelCNN] Epoch 46: avg loss=2.4534\n"
     ]
    },
    {
     "name": "stderr",
     "output_type": "stream",
     "text": [
      "PixelCNN Epoch 47/50: 100%|██████████| 467/467 [00:01<00:00, 240.32it/s, loss=2.52]\n"
     ]
    },
    {
     "name": "stdout",
     "output_type": "stream",
     "text": [
      "[PixelCNN] Epoch 47: avg loss=2.4168\n"
     ]
    },
    {
     "name": "stderr",
     "output_type": "stream",
     "text": [
      "PixelCNN Epoch 48/50: 100%|██████████| 467/467 [00:01<00:00, 249.98it/s, loss=2.56]\n"
     ]
    },
    {
     "name": "stdout",
     "output_type": "stream",
     "text": [
      "[PixelCNN] Epoch 48: avg loss=2.4184\n"
     ]
    },
    {
     "name": "stderr",
     "output_type": "stream",
     "text": [
      "PixelCNN Epoch 49/50: 100%|██████████| 467/467 [00:01<00:00, 250.34it/s, loss=2.38]\n"
     ]
    },
    {
     "name": "stdout",
     "output_type": "stream",
     "text": [
      "[PixelCNN] Epoch 49: avg loss=2.5703\n"
     ]
    },
    {
     "name": "stderr",
     "output_type": "stream",
     "text": [
      "PixelCNN Epoch 50/50: 100%|██████████| 467/467 [00:01<00:00, 255.39it/s, loss=2.43]"
     ]
    },
    {
     "name": "stdout",
     "output_type": "stream",
     "text": [
      "[PixelCNN] Epoch 50: avg loss=2.4175\n"
     ]
    },
    {
     "name": "stderr",
     "output_type": "stream",
     "text": [
      "\n"
     ]
    }
   ],
   "source": [
    "\n",
    "# Zapis kodów latentnych\n",
    "codes = []\n",
    "print(\"Encoding latent indices...\")\n",
    "with torch.no_grad():\n",
    "    for x, _ in tqdm(loader, desc=\"Encoding\"):\n",
    "        x = x.to(device)\n",
    "        idx = vqvae.encode_indices(x)\n",
    "        codes.append(idx)\n",
    "codes = torch.cat(codes)\n",
    "# Trening PixelCNN na kodach\n",
    "pixelcnn = PixelCNN(num_embeddings=512, image_size=codes.shape[1]).to(device)\n",
    "optimizer_pcnn = torch.optim.Adam(pixelcnn.parameters(), lr=2e-3)\n",
    "\n",
    "codes = codes.unsqueeze(1).float()  # [B, 1, H, W]\n",
    "\n",
    "print(\"Training PixelCNN...\")\n",
    "for epoch in range(epochs):\n",
    "    total_loss = 0\n",
    "    with tqdm(range(0, codes.size(0), 64), desc=f\"PixelCNN Epoch {epoch+1}/{epochs}\") as pbar:\n",
    "        for i in pbar:\n",
    "            batch = codes[i:i+64].to(device)\n",
    "            logits = pixelcnn(batch)\n",
    "            loss = torch.nn.functional.cross_entropy(logits, batch.squeeze(1).long())\n",
    "            optimizer_pcnn.zero_grad()\n",
    "            loss.backward()\n",
    "            optimizer_pcnn.step()\n",
    "            total_loss += loss.item()\n",
    "            pbar.set_postfix(loss=loss.item())\n",
    "    print(f\"[PixelCNN] Epoch {epoch+1}: avg loss={total_loss / (codes.size(0)//64):.4f}\")\n"
   ]
  },
  {
   "cell_type": "code",
   "execution_count": 26,
   "id": "f2c3deab",
   "metadata": {},
   "outputs": [],
   "source": [
    "samples = pixelcnn.sample(device, 64)  # [64, 1, H, W] lub [64, H, W]\n",
    "samples = samples.squeeze(1).long()    # [64, H, W]\n",
    "\n",
    "# Zamiana indeksów na embeddingi: [B, H, W] -> [B, H, W, C]\n",
    "embeddings = vqvae.quantizer.embedding(samples)  \n",
    "\n",
    "# Zamiana na [B, C, H, W]\n",
    "embeddings = embeddings.permute(0, 3, 1, 2).contiguous()\n",
    "\n",
    "# Dekodowanie\n",
    "with torch.no_grad():\n",
    "    recon = vqvae.decode(embeddings)   # uzywając metody decode z klasy VQVAE\n",
    "\n",
    "\n",
    "os.makedirs(\"generated\", exist_ok=True)\n",
    "save_image(recon, \"generated/generated_cats_lr_2e-03.png\", nrow=8)"
   ]
  },
  {
   "cell_type": "code",
   "execution_count": null,
   "id": "5dd4272e",
   "metadata": {},
   "outputs": [],
   "source": []
  }
 ],
 "metadata": {
  "kernelspec": {
   "display_name": "Python 3",
   "language": "python",
   "name": "python3"
  },
  "language_info": {
   "codemirror_mode": {
    "name": "ipython",
    "version": 3
   },
   "file_extension": ".py",
   "mimetype": "text/x-python",
   "name": "python",
   "nbconvert_exporter": "python",
   "pygments_lexer": "ipython3",
   "version": "3.11.9"
  }
 },
 "nbformat": 4,
 "nbformat_minor": 5
}
