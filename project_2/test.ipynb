{
 "cells": [
  {
   "cell_type": "code",
   "execution_count": 1,
   "id": "75bfcad4",
   "metadata": {},
   "outputs": [
    {
     "name": "stderr",
     "output_type": "stream",
     "text": [
      "                                                                               \r"
     ]
    },
    {
     "name": "stdout",
     "output_type": "stream",
     "text": [
      "Early stopping triggered at epoch 10\n",
      "['lr', 'train_loss', 'train_acc', 'val_loss', 'val_acc']\n",
      "0.0001 0.0681 0.9793 0.2436 0.9338\n"
     ]
    },
    {
     "name": "stderr",
     "output_type": "stream",
     "text": [
      "                                                                              \r"
     ]
    },
    {
     "name": "stdout",
     "output_type": "stream",
     "text": [
      "Early stopping triggered at epoch 9\n",
      "['wd', 'train_loss', 'train_acc', 'val_loss', 'val_acc']\n",
      "0.001 0.0714 0.9789 0.2218 0.9387\n"
     ]
    }
   ],
   "source": [
    "from find_best_model import find_best_model\n",
    "import torch\n",
    "torch.manual_seed(0)\n",
    "best_mel,best_lr,best_wd = find_best_model(\"MelTransformer\",times=1, learning_rates=[0.0001],weights_decays=[0.001])\n",
    "torch.save(best_mel, 'models/best_mel.pt')"
   ]
  },
  {
   "cell_type": "code",
   "execution_count": 2,
   "id": "f3bf1ce7",
   "metadata": {},
   "outputs": [
    {
     "data": {
      "text/plain": [
       "(0.2181, 0.9388)"
      ]
     },
     "execution_count": 2,
     "metadata": {},
     "output_type": "execute_result"
    }
   ],
   "source": [
    "from CNN_transfomers_implementation import evaluate_model\n",
    "from tester import get_loader\n",
    "test_loader = get_loader(\"\",use_mel=False,target_data=\"test\")\n",
    "evaluate_model(best_mel,test_loader)"
   ]
  },
  {
   "cell_type": "code",
   "execution_count": 3,
   "id": "52493243",
   "metadata": {},
   "outputs": [
    {
     "name": "stderr",
     "output_type": "stream",
     "text": [
      "                                                                \r"
     ]
    },
    {
     "name": "stdout",
     "output_type": "stream",
     "text": [
      "Patience trigger. End of learning.\n",
      "['lr', 'train_loss', 'train_acc', 'val_loss', 'val_acc']\n",
      "0.0001 0.029220791797997175 99.2738020670216 0.23559479482353388 94.46896145925272\n"
     ]
    },
    {
     "name": "stderr",
     "output_type": "stream",
     "text": [
      "                                                                \r"
     ]
    },
    {
     "name": "stdout",
     "output_type": "stream",
     "text": [
      "Patience trigger. End of learning.\n",
      "['wd', 'train_loss', 'train_acc', 'val_loss', 'val_acc']\n",
      "0.001 0.008574256056776261 99.82579079235829 0.2552824993065898 94.98381877022653\n"
     ]
    }
   ],
   "source": [
    "best_eff_net,best_lr,best_wd = find_best_model(\"EfficientNet\",times=1, learning_rates=[0.0001],weights_decays=[0.001])\n",
    "torch.save(best_eff_net, 'models/best_eff_net.pt')"
   ]
  },
  {
   "cell_type": "code",
   "execution_count": 5,
   "id": "a8a363fe",
   "metadata": {},
   "outputs": [
    {
     "data": {
      "text/plain": [
       "(0.1935, 0.9525)"
      ]
     },
     "execution_count": 5,
     "metadata": {},
     "output_type": "execute_result"
    }
   ],
   "source": [
    "from CNN_transfomers_implementation import evaluate_model\n",
    "from tester import get_loader\n",
    "test_loader = get_loader(\"\",use_mel=True,target_data=\"test\",batch_size=128)\n",
    "evaluate_model(best_eff_net,test_loader)"
   ]
  },
  {
   "cell_type": "code",
   "execution_count": null,
   "id": "9b3fa17e",
   "metadata": {},
   "outputs": [],
   "source": []
  }
 ],
 "metadata": {
  "kernelspec": {
   "display_name": "Python 3",
   "language": "python",
   "name": "python3"
  },
  "language_info": {
   "codemirror_mode": {
    "name": "ipython",
    "version": 3
   },
   "file_extension": ".py",
   "mimetype": "text/x-python",
   "name": "python",
   "nbconvert_exporter": "python",
   "pygments_lexer": "ipython3",
   "version": "3.11.9"
  }
 },
 "nbformat": 4,
 "nbformat_minor": 5
}
