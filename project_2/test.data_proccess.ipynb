{
 "cells": [
  {
   "cell_type": "code",
   "execution_count": 1,
   "id": "27629333",
   "metadata": {},
   "outputs": [],
   "source": [
    "import time\n",
    "\n",
    "from new_loader import preprocess_and_save_audio_in_tensors"
   ]
  },
  {
   "cell_type": "code",
   "execution_count": 2,
   "id": "fe8931fb43dbec4f",
   "metadata": {},
   "outputs": [],
   "source": [
    "def prettify_duration_in_seconds(duration_in_seconds):\n",
    "    seconds = int(duration_in_seconds % 60)\n",
    "    duration_in_minutes = (duration_in_seconds - seconds) / 60\n",
    "    minutes = int(duration_in_minutes % 60)\n",
    "    hours = int((duration_in_minutes - minutes) / 60)\n",
    "\n",
    "    return f\"{hours}h {minutes}m {seconds}s\""
   ]
  },
  {
   "cell_type": "code",
   "execution_count": 3,
   "id": "ee90d5463eaa2993",
   "metadata": {},
   "outputs": [
    {
     "name": "stdout",
     "output_type": "stream",
     "text": [
      "10 000 files proccessed\n",
      "10 000 files proccessed\n",
      "10 000 files proccessed\n",
      "10 000 files proccessed\n",
      "10 000 files proccessed\n",
      "10 000 files proccessed\n"
     ]
    }
   ],
   "source": [
    "start = time.time()\n",
    "preprocess_and_save_audio_in_tensors()\n",
    "end = time.time()"
   ]
  },
  {
   "cell_type": "code",
   "execution_count": 4,
   "id": "abfcb09b6464f8ae",
   "metadata": {},
   "outputs": [
    {
     "name": "stdout",
     "output_type": "stream",
     "text": [
      "preprocess took 1h 10m 34s\n"
     ]
    }
   ],
   "source": [
    "print(f\"preprocess took {prettify_duration_in_seconds(end - start)}\")"
   ]
  },
  {
   "cell_type": "code",
   "execution_count": 5,
   "id": "f461aec1",
   "metadata": {},
   "outputs": [
    {
     "name": "stdout",
     "output_type": "stream",
     "text": [
      "10 000 files proccessed\n",
      "10 000 files proccessed\n",
      "10 000 files proccessed\n",
      "10 000 files proccessed\n",
      "10 000 files proccessed\n",
      "10 000 files proccessed\n"
     ]
    }
   ],
   "source": [
    "start = time.time()\n",
    "preprocess_and_save_audio_in_tensors(denoise=True)\n",
    "end = time.time()"
   ]
  },
  {
   "cell_type": "code",
   "execution_count": 6,
   "id": "c3a12b353e91e54d",
   "metadata": {},
   "outputs": [
    {
     "name": "stdout",
     "output_type": "stream",
     "text": [
      "preprocess took 1h 31m 10s\n"
     ]
    }
   ],
   "source": [
    "print(f\"preprocess took {prettify_duration_in_seconds(end - start)}\")"
   ]
  }
 ],
 "metadata": {
  "kernelspec": {
   "display_name": "Python 3 (ipykernel)",
   "language": "python",
   "name": "python3"
  },
  "language_info": {
   "codemirror_mode": {
    "name": "ipython",
    "version": 3
   },
   "file_extension": ".py",
   "mimetype": "text/x-python",
   "name": "python",
   "nbconvert_exporter": "python",
   "pygments_lexer": "ipython3",
   "version": "3.12.8"
  }
 },
 "nbformat": 4,
 "nbformat_minor": 5
}
