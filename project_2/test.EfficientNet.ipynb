{
 "cells": [
  {
   "cell_type": "code",
   "execution_count": 5,
   "id": "08f285e1",
   "metadata": {},
   "outputs": [],
   "source": [
    "from new_loader import TorchTensorFolderDataset\n",
    "from torch.utils.data import DataLoader\n",
    "import os\n",
    "import torch\n",
    "torch.manual_seed(0)\n",
    "from torch.optim import AdamW\n",
    "def get_loaders():\n",
    "    train_path = os.path.join(os.getcwd(),\"data\\\\preprocessed\\\\standard\\\\mel\\\\train\")\n",
    "    val_path = os.path.join(os.getcwd(),\"data\\\\preprocessed\\\\standard\\\\mel\\\\validation\")\n",
    "    test_path = os.path.join(os.getcwd(),\"data\\\\preprocessed\\\\standard\\\\mel\\\\test\")\n",
    "    \n",
    "    train_dataset = TorchTensorFolderDataset(train_path)\n",
    "    val_dataset = TorchTensorFolderDataset(val_path)\n",
    "    test_dataset = TorchTensorFolderDataset(test_path)\n",
    "    train_loader = DataLoader(train_dataset, shuffle=True, batch_size = 16)\n",
    "    val_loader = DataLoader(val_dataset, shuffle=False, batch_size = 16)\n",
    "    test_loader = DataLoader(test_dataset, shuffle=False, batch_size = 16)\n",
    "\n",
    "    return {\"train\":train_loader, \"val\":val_loader, \"test\":test_loader}\n",
    "\n",
    "def get_denoised_loaders():\n",
    "    \n",
    "    train_path = os.path.join(os.getcwd(),\"data\\\\preprocessed\\\\denoised\\\\mel\\\\train\")\n",
    "    val_path = os.path.join(os.getcwd(),\"data\\\\preprocessed\\\\denoised\\\\mel\\\\validation\")\n",
    "    test_path = os.path.join(os.getcwd(),\"data\\\\preprocessed\\\\denoised\\\\mel\\\\test\")\n",
    "    \n",
    "    train_dataset = TorchTensorFolderDataset(train_path)\n",
    "    val_dataset = TorchTensorFolderDataset(val_path)\n",
    "    test_dataset = TorchTensorFolderDataset(test_path)\n",
    "    train_loader = DataLoader(train_dataset, shuffle=True, batch_size = 16)\n",
    "    val_loader = DataLoader(val_dataset, shuffle=False, batch_size = 16)\n",
    "    test_loader = DataLoader(test_dataset, shuffle=False, batch_size = 16)\n",
    "\n",
    "    return {\"train\":train_loader, \"val\":val_loader, \"test\":test_loader}"
   ]
  },
  {
   "cell_type": "code",
   "execution_count": 9,
   "id": "78487e39",
   "metadata": {},
   "outputs": [],
   "source": [
    "from EfficientNet_implementation import get_pretrained_model,train_model\n",
    "loaders = get_loaders()\n",
    "train_loader, val_loader = loaders[\"train\"], loaders[\"val\"]"
   ]
  },
  {
   "cell_type": "code",
   "execution_count": 10,
   "id": "10776cf1",
   "metadata": {},
   "outputs": [
    {
     "name": "stderr",
     "output_type": "stream",
     "text": [
      "                                                               \r"
     ]
    },
    {
     "name": "stdout",
     "output_type": "stream",
     "text": [
      "Epoch [1/20]\n",
      "Train Loss: 1.6302, Train Acc: 59.60%\n",
      "Val Loss:   0.3648, Val Acc:   88.94%\n",
      "\n"
     ]
    },
    {
     "name": "stderr",
     "output_type": "stream",
     "text": [
      "                                                               \r"
     ]
    },
    {
     "name": "stdout",
     "output_type": "stream",
     "text": [
      "Epoch [2/20]\n",
      "Train Loss: 0.3276, Train Acc: 90.25%\n",
      "Val Loss:   0.2574, Val Acc:   92.32%\n",
      "\n"
     ]
    },
    {
     "name": "stderr",
     "output_type": "stream",
     "text": [
      "                                                               \r"
     ]
    },
    {
     "name": "stdout",
     "output_type": "stream",
     "text": [
      "Epoch [3/20]\n",
      "Train Loss: 0.2107, Train Acc: 93.79%\n",
      "Val Loss:   0.2079, Val Acc:   94.17%\n",
      "\n"
     ]
    },
    {
     "name": "stderr",
     "output_type": "stream",
     "text": [
      "                                                               \r"
     ]
    },
    {
     "name": "stdout",
     "output_type": "stream",
     "text": [
      "Epoch [4/20]\n",
      "Train Loss: 0.1545, Train Acc: 95.36%\n",
      "Val Loss:   0.2268, Val Acc:   93.79%\n",
      "\n"
     ]
    },
    {
     "name": "stderr",
     "output_type": "stream",
     "text": [
      "                                                               \r"
     ]
    },
    {
     "name": "stdout",
     "output_type": "stream",
     "text": [
      "Epoch [5/20]\n",
      "Train Loss: 0.1247, Train Acc: 96.22%\n",
      "Val Loss:   0.2018, Val Acc:   94.70%\n",
      "\n"
     ]
    },
    {
     "name": "stderr",
     "output_type": "stream",
     "text": [
      "                                                               \r"
     ]
    },
    {
     "name": "stdout",
     "output_type": "stream",
     "text": [
      "Epoch [6/20]\n",
      "Train Loss: 0.1061, Train Acc: 96.79%\n",
      "Val Loss:   0.2024, Val Acc:   94.67%\n",
      "\n"
     ]
    },
    {
     "name": "stderr",
     "output_type": "stream",
     "text": [
      "                                                               \r"
     ]
    },
    {
     "name": "stdout",
     "output_type": "stream",
     "text": [
      "Epoch [7/20]\n",
      "Train Loss: 0.0875, Train Acc: 97.28%\n",
      "Val Loss:   0.2181, Val Acc:   94.48%\n",
      "\n"
     ]
    },
    {
     "name": "stderr",
     "output_type": "stream",
     "text": [
      "                                                               \r"
     ]
    },
    {
     "name": "stdout",
     "output_type": "stream",
     "text": [
      "Epoch [8/20]\n",
      "Train Loss: 0.0780, Train Acc: 97.65%\n",
      "Val Loss:   0.2252, Val Acc:   94.73%\n",
      "\n"
     ]
    },
    {
     "name": "stderr",
     "output_type": "stream",
     "text": [
      "                                                               \r"
     ]
    },
    {
     "name": "stdout",
     "output_type": "stream",
     "text": [
      "Epoch [9/20]\n",
      "Train Loss: 0.0698, Train Acc: 97.87%\n",
      "Val Loss:   0.2266, Val Acc:   94.65%\n",
      "\n"
     ]
    },
    {
     "name": "stderr",
     "output_type": "stream",
     "text": [
      "                                                                \r"
     ]
    },
    {
     "name": "stdout",
     "output_type": "stream",
     "text": [
      "Epoch [10/20]\n",
      "Train Loss: 0.0611, Train Acc: 98.12%\n",
      "Val Loss:   0.2629, Val Acc:   94.34%\n",
      "\n"
     ]
    },
    {
     "name": "stderr",
     "output_type": "stream",
     "text": [
      "                                                                \r"
     ]
    },
    {
     "name": "stdout",
     "output_type": "stream",
     "text": [
      "Epoch [11/20]\n",
      "Train Loss: 0.0543, Train Acc: 98.34%\n",
      "Val Loss:   0.2345, Val Acc:   94.92%\n",
      "\n"
     ]
    },
    {
     "name": "stderr",
     "output_type": "stream",
     "text": [
      "                                                                \r"
     ]
    },
    {
     "name": "stdout",
     "output_type": "stream",
     "text": [
      "Epoch [12/20]\n",
      "Train Loss: 0.0481, Train Acc: 98.53%\n",
      "Val Loss:   0.2474, Val Acc:   94.94%\n",
      "\n"
     ]
    },
    {
     "name": "stderr",
     "output_type": "stream",
     "text": [
      "                                                                \r"
     ]
    },
    {
     "name": "stdout",
     "output_type": "stream",
     "text": [
      "Epoch [13/20]\n",
      "Train Loss: 0.0405, Train Acc: 98.74%\n",
      "Val Loss:   0.2603, Val Acc:   94.95%\n",
      "\n"
     ]
    },
    {
     "name": "stderr",
     "output_type": "stream",
     "text": [
      "                                                                \r"
     ]
    },
    {
     "name": "stdout",
     "output_type": "stream",
     "text": [
      "Epoch [14/20]\n",
      "Train Loss: 0.0374, Train Acc: 98.82%\n",
      "Val Loss:   0.2373, Val Acc:   95.26%\n",
      "\n"
     ]
    },
    {
     "name": "stderr",
     "output_type": "stream",
     "text": [
      "                                                                \r"
     ]
    },
    {
     "name": "stdout",
     "output_type": "stream",
     "text": [
      "Epoch [15/20]\n",
      "Train Loss: 0.0321, Train Acc: 98.97%\n",
      "Val Loss:   0.2664, Val Acc:   95.04%\n",
      "\n"
     ]
    },
    {
     "name": "stderr",
     "output_type": "stream",
     "text": [
      "                                                                \r"
     ]
    },
    {
     "name": "stdout",
     "output_type": "stream",
     "text": [
      "Epoch [16/20]\n",
      "Train Loss: 0.0263, Train Acc: 99.17%\n",
      "Val Loss:   0.2628, Val Acc:   95.12%\n",
      "\n"
     ]
    },
    {
     "name": "stderr",
     "output_type": "stream",
     "text": [
      "                                                                \r"
     ]
    },
    {
     "name": "stdout",
     "output_type": "stream",
     "text": [
      "Epoch [17/20]\n",
      "Train Loss: 0.0253, Train Acc: 99.19%\n",
      "Val Loss:   0.2704, Val Acc:   95.04%\n",
      "\n",
      "Patience trigger. End of learning.\n"
     ]
    },
    {
     "data": {
      "text/plain": [
       "([1.6301651278780782,\n",
       "  0.32755846694266993,\n",
       "  0.21071648113159017,\n",
       "  0.15451523745958973,\n",
       "  0.12469878687751523,\n",
       "  0.10606426947679584,\n",
       "  0.08745728976042401,\n",
       "  0.0779580912140134,\n",
       "  0.06980954031725264,\n",
       "  0.06109883237546812,\n",
       "  0.054324119757225835,\n",
       "  0.048118491331700486,\n",
       "  0.04050083208824607,\n",
       "  0.03742140901386678,\n",
       "  0.03205810255809181,\n",
       "  0.02632605457745132,\n",
       "  0.02527625735416434],\n",
       " [0.3648309138450799,\n",
       "  0.2574222362022214,\n",
       "  0.2079007008176011,\n",
       "  0.2268253649854277,\n",
       "  0.20182031319304214,\n",
       "  0.2024285299018173,\n",
       "  0.21814686188120516,\n",
       "  0.22519199550497407,\n",
       "  0.2265682923606422,\n",
       "  0.2628920270218329,\n",
       "  0.23447930929323627,\n",
       "  0.247400465620851,\n",
       "  0.26032155168980836,\n",
       "  0.23727812197573914,\n",
       "  0.26640354278503464,\n",
       "  0.262750666447493,\n",
       "  0.2703733608738162])"
      ]
     },
     "execution_count": 10,
     "metadata": {},
     "output_type": "execute_result"
    }
   ],
   "source": [
    "standard_model = get_pretrained_model()\n",
    "optimizer = AdamW(standard_model.parameters(),0.0001,weight_decay=0.001)\n",
    "train_model(standard_model,optimizer,train_loader,val_loader,num_epochs=20,verbose=True)"
   ]
  },
  {
   "cell_type": "code",
   "execution_count": 11,
   "id": "079fbbe7",
   "metadata": {},
   "outputs": [],
   "source": [
    "torch.save(standard_model, 'models/standard_eff_net.pt')"
   ]
  },
  {
   "cell_type": "code",
   "execution_count": 12,
   "id": "c0cceae1",
   "metadata": {},
   "outputs": [
    {
     "name": "stderr",
     "output_type": "stream",
     "text": [
      "                                                               \r"
     ]
    },
    {
     "name": "stdout",
     "output_type": "stream",
     "text": [
      "Epoch [1/20]\n",
      "Train Loss: 1.4773, Train Acc: 64.05%\n",
      "Val Loss:   0.3366, Val Acc:   90.06%\n",
      "\n"
     ]
    },
    {
     "name": "stderr",
     "output_type": "stream",
     "text": [
      "                                                               \r"
     ]
    },
    {
     "name": "stdout",
     "output_type": "stream",
     "text": [
      "Epoch [2/20]\n",
      "Train Loss: 0.3148, Train Acc: 90.70%\n",
      "Val Loss:   0.2305, Val Acc:   93.35%\n",
      "\n"
     ]
    },
    {
     "name": "stderr",
     "output_type": "stream",
     "text": [
      "                                                               \r"
     ]
    },
    {
     "name": "stdout",
     "output_type": "stream",
     "text": [
      "Epoch [3/20]\n",
      "Train Loss: 0.2037, Train Acc: 93.87%\n",
      "Val Loss:   0.2096, Val Acc:   94.10%\n",
      "\n"
     ]
    },
    {
     "name": "stderr",
     "output_type": "stream",
     "text": [
      "                                                               \r"
     ]
    },
    {
     "name": "stdout",
     "output_type": "stream",
     "text": [
      "Epoch [4/20]\n",
      "Train Loss: 0.1493, Train Acc: 95.47%\n",
      "Val Loss:   0.2025, Val Acc:   94.56%\n",
      "\n"
     ]
    },
    {
     "name": "stderr",
     "output_type": "stream",
     "text": [
      "                                                               \r"
     ]
    },
    {
     "name": "stdout",
     "output_type": "stream",
     "text": [
      "Epoch [5/20]\n",
      "Train Loss: 0.1217, Train Acc: 96.29%\n",
      "Val Loss:   0.2048, Val Acc:   94.45%\n",
      "\n"
     ]
    },
    {
     "name": "stderr",
     "output_type": "stream",
     "text": [
      "                                                               \r"
     ]
    },
    {
     "name": "stdout",
     "output_type": "stream",
     "text": [
      "Epoch [6/20]\n",
      "Train Loss: 0.1011, Train Acc: 96.91%\n",
      "Val Loss:   0.2221, Val Acc:   94.17%\n",
      "\n"
     ]
    },
    {
     "name": "stderr",
     "output_type": "stream",
     "text": [
      "                                                               \r"
     ]
    },
    {
     "name": "stdout",
     "output_type": "stream",
     "text": [
      "Epoch [7/20]\n",
      "Train Loss: 0.0866, Train Acc: 97.30%\n",
      "Val Loss:   0.2347, Val Acc:   94.03%\n",
      "\n",
      "Patience trigger. End of learning.\n"
     ]
    },
    {
     "data": {
      "text/plain": [
       "([1.4772533938263022,\n",
       "  0.31481396060421213,\n",
       "  0.2036698094647972,\n",
       "  0.1493162702381075,\n",
       "  0.12174120665417554,\n",
       "  0.10109698288380763,\n",
       "  0.0865685546523993],\n",
       " [0.3366256857566152,\n",
       "  0.23052042823158178,\n",
       "  0.20964016067521324,\n",
       "  0.2025428046410065,\n",
       "  0.20475871099653112,\n",
       "  0.22206602635151731,\n",
       "  0.234660837191969])"
      ]
     },
     "execution_count": 12,
     "metadata": {},
     "output_type": "execute_result"
    }
   ],
   "source": [
    "loaders = get_denoised_loaders()\n",
    "train_loader, val_loader = loaders[\"train\"], loaders[\"val\"]\n",
    "denoised_model = get_pretrained_model()\n",
    "optimizer = AdamW(denoised_model.parameters(),0.0001,weight_decay=0.001)\n",
    "train_model(denoised_model,optimizer,train_loader,val_loader,verbose=True)"
   ]
  },
  {
   "cell_type": "code",
   "execution_count": 13,
   "id": "a56319dd",
   "metadata": {},
   "outputs": [],
   "source": [
    "torch.save(standard_model, 'models/denoised_eff_net.pt')"
   ]
  },
  {
   "cell_type": "code",
   "execution_count": null,
   "id": "ded2f217",
   "metadata": {},
   "outputs": [],
   "source": []
  }
 ],
 "metadata": {
  "kernelspec": {
   "display_name": "Python 3",
   "language": "python",
   "name": "python3"
  },
  "language_info": {
   "codemirror_mode": {
    "name": "ipython",
    "version": 3
   },
   "file_extension": ".py",
   "mimetype": "text/x-python",
   "name": "python",
   "nbconvert_exporter": "python",
   "pygments_lexer": "ipython3",
   "version": "3.11.9"
  }
 },
 "nbformat": 4,
 "nbformat_minor": 5
}
