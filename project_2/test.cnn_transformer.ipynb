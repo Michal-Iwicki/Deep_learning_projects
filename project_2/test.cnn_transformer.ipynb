{
 "cells": [
  {
   "cell_type": "code",
   "execution_count": null,
   "id": "0016c5cc",
   "metadata": {},
   "outputs": [],
   "source": [
    "from new_loader import TorchTensorFolderDataset\n",
    "from torch.utils.data import DataLoader\n",
    "import torch\n",
    "import os\n",
    "from torch.optim import AdamW\n",
    "torch.manual_seed(0)\n",
    "\n",
    "def get_loaders():\n",
    "    train_path = os.path.join(os.getcwd(),\"data\\\\preprocessed\\\\standard\\raw\\\\train\")\n",
    "    val_path = os.path.join(os.getcwd(),\"data\\\\preprocessed\\\\standard\\raw\\\\validation\")\n",
    "    test_path = os.path.join(os.getcwd(),\"data\\\\preprocessed\\\\standard\\raw\\\\test\")\n",
    "    \n",
    "    train_dataset = TorchTensorFolderDataset(train_path)\n",
    "    val_dataset = TorchTensorFolderDataset(val_path)\n",
    "    test_dataset = TorchTensorFolderDataset(test_path)\n",
    "    train_loader = DataLoader(train_dataset, shuffle=True, batch_size = 16)\n",
    "    val_loader = DataLoader(val_dataset, shuffle=False, batch_size = 16)\n",
    "    test_loader = DataLoader(test_dataset, shuffle=False, batch_size = 16)\n",
    "\n",
    "    return {\"train\":train_loader, \"val\":val_loader, \"test\":test_loader}\n",
    "\n",
    "def get_denoised_loaders():\n",
    "    \n",
    "    train_path = os.path.join(os.getcwd(),\"data\\\\preprocessed\\\\denoised\\\\raw\\\\train\")\n",
    "    val_path = os.path.join(os.getcwd(),\"data\\\\preprocessed\\\\denoised\\\\raw\\\\validation\")\n",
    "    test_path = os.path.join(os.getcwd(),\"data\\\\preprocessed\\\\denoised\\\\raw\\\\test\")\n",
    "    \n",
    "    train_dataset = TorchTensorFolderDataset(train_path)\n",
    "    val_dataset = TorchTensorFolderDataset(val_path)\n",
    "    test_dataset = TorchTensorFolderDataset(test_path)\n",
    "    train_loader = DataLoader(train_dataset, shuffle=True, batch_size = 16)\n",
    "    val_loader = DataLoader(val_dataset, shuffle=False, batch_size = 16)\n",
    "    test_loader = DataLoader(test_dataset, shuffle=False, batch_size = 16)\n",
    "\n",
    "    return {\"train\":train_loader, \"val\":val_loader, \"test\":test_loader}"
   ]
  },
  {
   "cell_type": "code",
   "execution_count": 2,
   "id": "09bad35d",
   "metadata": {},
   "outputs": [],
   "source": [
    "from CNN_transfomers_implementation import Mel_transformer, RawAudioTransformer, train_transformer\n",
    "loaders = get_loaders()\n",
    "train_loader, val_loader = loaders[\"train\"], loaders[\"val\"]"
   ]
  },
  {
   "cell_type": "code",
   "execution_count": null,
   "id": "8c59e1fa",
   "metadata": {},
   "outputs": [
    {
     "name": "stderr",
     "output_type": "stream",
     "text": [
      "                                                                            \r"
     ]
    },
    {
     "name": "stdout",
     "output_type": "stream",
     "text": [
      "Epoch 1: Train Loss: 0.8189 | Train Acc: 0.7700 | Val Acc: 0.8945\n"
     ]
    },
    {
     "name": "stderr",
     "output_type": "stream",
     "text": [
      "                                                                             \r"
     ]
    },
    {
     "name": "stdout",
     "output_type": "stream",
     "text": [
      "Epoch 2: Train Loss: 0.2530 | Train Acc: 0.9278 | Val Acc: 0.9203\n"
     ]
    },
    {
     "name": "stderr",
     "output_type": "stream",
     "text": [
      "                                                                             \r"
     ]
    },
    {
     "name": "stdout",
     "output_type": "stream",
     "text": [
      "Epoch 3: Train Loss: 0.1841 | Train Acc: 0.9471 | Val Acc: 0.9322\n"
     ]
    },
    {
     "name": "stderr",
     "output_type": "stream",
     "text": [
      "                                                                             \r"
     ]
    },
    {
     "name": "stdout",
     "output_type": "stream",
     "text": [
      "Epoch 4: Train Loss: 0.1531 | Train Acc: 0.9548 | Val Acc: 0.9238\n"
     ]
    },
    {
     "name": "stderr",
     "output_type": "stream",
     "text": [
      "                                                                              \r"
     ]
    },
    {
     "name": "stdout",
     "output_type": "stream",
     "text": [
      "Epoch 5: Train Loss: 0.1314 | Train Acc: 0.9611 | Val Acc: 0.9325\n"
     ]
    },
    {
     "name": "stderr",
     "output_type": "stream",
     "text": [
      "                                                                              \r"
     ]
    },
    {
     "name": "stdout",
     "output_type": "stream",
     "text": [
      "Epoch 6: Train Loss: 0.1128 | Train Acc: 0.9665 | Val Acc: 0.9351\n"
     ]
    },
    {
     "name": "stderr",
     "output_type": "stream",
     "text": [
      "                                                                              \r"
     ]
    },
    {
     "name": "stdout",
     "output_type": "stream",
     "text": [
      "Epoch 7: Train Loss: 0.1036 | Train Acc: 0.9686 | Val Acc: 0.9398\n"
     ]
    },
    {
     "name": "stderr",
     "output_type": "stream",
     "text": [
      "                                                                              \r"
     ]
    },
    {
     "name": "stdout",
     "output_type": "stream",
     "text": [
      "Epoch 8: Train Loss: 0.0947 | Train Acc: 0.9723 | Val Acc: 0.9422\n"
     ]
    },
    {
     "name": "stderr",
     "output_type": "stream",
     "text": [
      "                                                                              \r"
     ]
    },
    {
     "name": "stdout",
     "output_type": "stream",
     "text": [
      "Epoch 9: Train Loss: 0.0905 | Train Acc: 0.9728 | Val Acc: 0.9398\n"
     ]
    },
    {
     "name": "stderr",
     "output_type": "stream",
     "text": [
      "                                                                               \r"
     ]
    },
    {
     "name": "stdout",
     "output_type": "stream",
     "text": [
      "Epoch 10: Train Loss: 0.0851 | Train Acc: 0.9747 | Val Acc: 0.9435\n"
     ]
    },
    {
     "name": "stderr",
     "output_type": "stream",
     "text": [
      "                                                                               \r"
     ]
    },
    {
     "name": "stdout",
     "output_type": "stream",
     "text": [
      "Epoch 11: Train Loss: 0.0794 | Train Acc: 0.9762 | Val Acc: 0.9397\n"
     ]
    },
    {
     "name": "stderr",
     "output_type": "stream",
     "text": [
      "                                                                               \r"
     ]
    },
    {
     "name": "stdout",
     "output_type": "stream",
     "text": [
      "Epoch 12: Train Loss: 0.0811 | Train Acc: 0.9756 | Val Acc: 0.9303\n"
     ]
    },
    {
     "name": "stderr",
     "output_type": "stream",
     "text": [
      "                                                                               \r"
     ]
    },
    {
     "name": "stdout",
     "output_type": "stream",
     "text": [
      "Epoch 13: Train Loss: 0.0753 | Train Acc: 0.9772 | Val Acc: 0.9323\n",
      "Early stopping triggered at epoch 13\n",
      "Best Val Acc: 0.9435\n"
     ]
    }
   ],
   "source": [
    "spect_model = Mel_transformer(num_classes=30)\n",
    "optimizer = AdamW(spect_model.parameters(),0.0001,weight_decay=0.001)\n",
    "spect_model = train_transformer(spect_model,optimizer, train_loader, val_loader, epochs=20,verbose=True)\n"
   ]
  },
  {
   "cell_type": "code",
   "execution_count": 5,
   "id": "48327548",
   "metadata": {},
   "outputs": [],
   "source": [
    "torch.save(spect_model, 'models/standard_2d.pt')"
   ]
  },
  {
   "cell_type": "code",
   "execution_count": null,
   "id": "68c27f43",
   "metadata": {},
   "outputs": [
    {
     "name": "stderr",
     "output_type": "stream",
     "text": [
      "                                                                          \r"
     ]
    },
    {
     "name": "stdout",
     "output_type": "stream",
     "text": [
      "Epoch 1: Train Loss: 2.4240 | Train Acc: 0.2743 | Val Acc: 0.3917\n"
     ]
    },
    {
     "name": "stderr",
     "output_type": "stream",
     "text": [
      "                                                                           \r"
     ]
    },
    {
     "name": "stdout",
     "output_type": "stream",
     "text": [
      "Epoch 2: Train Loss: 1.6707 | Train Acc: 0.4897 | Val Acc: 0.5409\n"
     ]
    },
    {
     "name": "stderr",
     "output_type": "stream",
     "text": [
      "                                                                           \r"
     ]
    },
    {
     "name": "stdout",
     "output_type": "stream",
     "text": [
      "Epoch 3: Train Loss: 1.3075 | Train Acc: 0.6013 | Val Acc: 0.6317\n"
     ]
    },
    {
     "name": "stderr",
     "output_type": "stream",
     "text": [
      "                                                                           \r"
     ]
    },
    {
     "name": "stdout",
     "output_type": "stream",
     "text": [
      "Epoch 4: Train Loss: 1.0674 | Train Acc: 0.6741 | Val Acc: 0.6767\n"
     ]
    },
    {
     "name": "stderr",
     "output_type": "stream",
     "text": [
      "                                                                           \r"
     ]
    },
    {
     "name": "stdout",
     "output_type": "stream",
     "text": [
      "Epoch 5: Train Loss: 0.9123 | Train Acc: 0.7240 | Val Acc: 0.7220\n"
     ]
    },
    {
     "name": "stderr",
     "output_type": "stream",
     "text": [
      "                                                                            \r"
     ]
    },
    {
     "name": "stdout",
     "output_type": "stream",
     "text": [
      "Epoch 6: Train Loss: 0.8056 | Train Acc: 0.7551 | Val Acc: 0.7290\n"
     ]
    },
    {
     "name": "stderr",
     "output_type": "stream",
     "text": [
      "                                                                            \r"
     ]
    },
    {
     "name": "stdout",
     "output_type": "stream",
     "text": [
      "Epoch 7: Train Loss: 0.7221 | Train Acc: 0.7782 | Val Acc: 0.7555\n"
     ]
    },
    {
     "name": "stderr",
     "output_type": "stream",
     "text": [
      "                                                                            \r"
     ]
    },
    {
     "name": "stdout",
     "output_type": "stream",
     "text": [
      "Epoch 8: Train Loss: 0.6547 | Train Acc: 0.7995 | Val Acc: 0.7693\n"
     ]
    },
    {
     "name": "stderr",
     "output_type": "stream",
     "text": [
      "                                                                            \r"
     ]
    },
    {
     "name": "stdout",
     "output_type": "stream",
     "text": [
      "Epoch 9: Train Loss: 0.5960 | Train Acc: 0.8177 | Val Acc: 0.7698\n"
     ]
    },
    {
     "name": "stderr",
     "output_type": "stream",
     "text": [
      "                                                                             \r"
     ]
    },
    {
     "name": "stdout",
     "output_type": "stream",
     "text": [
      "Epoch 10: Train Loss: 0.5493 | Train Acc: 0.8321 | Val Acc: 0.7979\n"
     ]
    },
    {
     "name": "stderr",
     "output_type": "stream",
     "text": [
      "                                                                             \r"
     ]
    },
    {
     "name": "stdout",
     "output_type": "stream",
     "text": [
      "Epoch 11: Train Loss: 0.5064 | Train Acc: 0.8446 | Val Acc: 0.8030\n"
     ]
    },
    {
     "name": "stderr",
     "output_type": "stream",
     "text": [
      "                                                                             \r"
     ]
    },
    {
     "name": "stdout",
     "output_type": "stream",
     "text": [
      "Epoch 12: Train Loss: 0.4706 | Train Acc: 0.8543 | Val Acc: 0.8182\n"
     ]
    },
    {
     "name": "stderr",
     "output_type": "stream",
     "text": [
      "                                                                             \r"
     ]
    },
    {
     "name": "stdout",
     "output_type": "stream",
     "text": [
      "Epoch 13: Train Loss: 0.4369 | Train Acc: 0.8646 | Val Acc: 0.8089\n"
     ]
    },
    {
     "name": "stderr",
     "output_type": "stream",
     "text": [
      "                                                                             \r"
     ]
    },
    {
     "name": "stdout",
     "output_type": "stream",
     "text": [
      "Epoch 14: Train Loss: 0.4123 | Train Acc: 0.8715 | Val Acc: 0.8274\n"
     ]
    },
    {
     "name": "stderr",
     "output_type": "stream",
     "text": [
      "                                                                             \r"
     ]
    },
    {
     "name": "stdout",
     "output_type": "stream",
     "text": [
      "Epoch 15: Train Loss: 0.3866 | Train Acc: 0.8797 | Val Acc: 0.8079\n"
     ]
    },
    {
     "name": "stderr",
     "output_type": "stream",
     "text": [
      "                                                                             \r"
     ]
    },
    {
     "name": "stdout",
     "output_type": "stream",
     "text": [
      "Epoch 16: Train Loss: 0.3625 | Train Acc: 0.8870 | Val Acc: 0.8145\n"
     ]
    },
    {
     "name": "stderr",
     "output_type": "stream",
     "text": [
      "                                                                              \r"
     ]
    },
    {
     "name": "stdout",
     "output_type": "stream",
     "text": [
      "Epoch 17: Train Loss: 0.3387 | Train Acc: 0.8940 | Val Acc: 0.8302\n"
     ]
    },
    {
     "name": "stderr",
     "output_type": "stream",
     "text": [
      "                                                                              \r"
     ]
    },
    {
     "name": "stdout",
     "output_type": "stream",
     "text": [
      "Epoch 18: Train Loss: 0.3221 | Train Acc: 0.8988 | Val Acc: 0.8372\n"
     ]
    },
    {
     "name": "stderr",
     "output_type": "stream",
     "text": [
      "                                                                              \r"
     ]
    },
    {
     "name": "stdout",
     "output_type": "stream",
     "text": [
      "Epoch 19: Train Loss: 0.3046 | Train Acc: 0.9034 | Val Acc: 0.8198\n"
     ]
    },
    {
     "name": "stderr",
     "output_type": "stream",
     "text": [
      "                                                                              \r"
     ]
    },
    {
     "name": "stdout",
     "output_type": "stream",
     "text": [
      "Epoch 20: Train Loss: 0.2862 | Train Acc: 0.9099 | Val Acc: 0.8366\n",
      "Best Val Acc: 0.8372\n"
     ]
    }
   ],
   "source": [
    "raw_model = RawAudioTransformer(num_classes=30)\n",
    "optimizer = AdamW(raw_model.parameters(),0.0001,weight_decay=0.001)\n",
    "raw_model = train_transformer(raw_model, optimizer,train_loader, val_loader, epochs=20,verbose=True)\n"
   ]
  },
  {
   "cell_type": "code",
   "execution_count": 5,
   "id": "02da69ab",
   "metadata": {},
   "outputs": [],
   "source": [
    "torch.save(raw_model, 'models/standard_1d.pt')"
   ]
  },
  {
   "cell_type": "code",
   "execution_count": null,
   "id": "2b3ad998",
   "metadata": {},
   "outputs": [],
   "source": [
    "loaders = get_denoised_loaders()\n",
    "train_loader, val_loader = loaders[\"train\"], loaders[\"val\"]"
   ]
  },
  {
   "cell_type": "code",
   "execution_count": null,
   "id": "251c9acb",
   "metadata": {},
   "outputs": [
    {
     "name": "stderr",
     "output_type": "stream",
     "text": [
      "                                                                          \r"
     ]
    },
    {
     "name": "stdout",
     "output_type": "stream",
     "text": [
      "Epoch 1: Train Loss: 2.4198 | Train Acc: 0.2770 | Val Acc: 0.4238\n"
     ]
    },
    {
     "name": "stderr",
     "output_type": "stream",
     "text": [
      "                                                                           \r"
     ]
    },
    {
     "name": "stdout",
     "output_type": "stream",
     "text": [
      "Epoch 2: Train Loss: 1.5706 | Train Acc: 0.5194 | Val Acc: 0.5783\n"
     ]
    },
    {
     "name": "stderr",
     "output_type": "stream",
     "text": [
      "                                                                           \r"
     ]
    },
    {
     "name": "stdout",
     "output_type": "stream",
     "text": [
      "Epoch 3: Train Loss: 1.1778 | Train Acc: 0.6417 | Val Acc: 0.6656\n"
     ]
    },
    {
     "name": "stderr",
     "output_type": "stream",
     "text": [
      "                                                                           \r"
     ]
    },
    {
     "name": "stdout",
     "output_type": "stream",
     "text": [
      "Epoch 4: Train Loss: 0.9589 | Train Acc: 0.7086 | Val Acc: 0.7146\n"
     ]
    },
    {
     "name": "stderr",
     "output_type": "stream",
     "text": [
      "                                                                           \r"
     ]
    },
    {
     "name": "stdout",
     "output_type": "stream",
     "text": [
      "Epoch 5: Train Loss: 0.8273 | Train Acc: 0.7484 | Val Acc: 0.7407\n"
     ]
    },
    {
     "name": "stderr",
     "output_type": "stream",
     "text": [
      "                                                                            \r"
     ]
    },
    {
     "name": "stdout",
     "output_type": "stream",
     "text": [
      "Epoch 6: Train Loss: 0.7260 | Train Acc: 0.7799 | Val Acc: 0.7610\n"
     ]
    },
    {
     "name": "stderr",
     "output_type": "stream",
     "text": [
      "                                                                            \r"
     ]
    },
    {
     "name": "stdout",
     "output_type": "stream",
     "text": [
      "Epoch 7: Train Loss: 0.6485 | Train Acc: 0.8021 | Val Acc: 0.7723\n"
     ]
    },
    {
     "name": "stderr",
     "output_type": "stream",
     "text": [
      "                                                                            \r"
     ]
    },
    {
     "name": "stdout",
     "output_type": "stream",
     "text": [
      "Epoch 8: Train Loss: 0.5824 | Train Acc: 0.8227 | Val Acc: 0.7711\n"
     ]
    },
    {
     "name": "stderr",
     "output_type": "stream",
     "text": [
      "                                                                            \r"
     ]
    },
    {
     "name": "stdout",
     "output_type": "stream",
     "text": [
      "Epoch 9: Train Loss: 0.5311 | Train Acc: 0.8379 | Val Acc: 0.7923\n"
     ]
    },
    {
     "name": "stderr",
     "output_type": "stream",
     "text": [
      "                                                                             \r"
     ]
    },
    {
     "name": "stdout",
     "output_type": "stream",
     "text": [
      "Epoch 10: Train Loss: 0.4901 | Train Acc: 0.8475 | Val Acc: 0.8042\n"
     ]
    },
    {
     "name": "stderr",
     "output_type": "stream",
     "text": [
      "                                                                             \r"
     ]
    },
    {
     "name": "stdout",
     "output_type": "stream",
     "text": [
      "Epoch 11: Train Loss: 0.4547 | Train Acc: 0.8596 | Val Acc: 0.8161\n"
     ]
    },
    {
     "name": "stderr",
     "output_type": "stream",
     "text": [
      "                                                                             \r"
     ]
    },
    {
     "name": "stdout",
     "output_type": "stream",
     "text": [
      "Epoch 12: Train Loss: 0.4201 | Train Acc: 0.8700 | Val Acc: 0.8223\n"
     ]
    },
    {
     "name": "stderr",
     "output_type": "stream",
     "text": [
      "                                                                             \r"
     ]
    },
    {
     "name": "stdout",
     "output_type": "stream",
     "text": [
      "Epoch 13: Train Loss: 0.3906 | Train Acc: 0.8785 | Val Acc: 0.8202\n"
     ]
    },
    {
     "name": "stderr",
     "output_type": "stream",
     "text": [
      "                                                                             \r"
     ]
    },
    {
     "name": "stdout",
     "output_type": "stream",
     "text": [
      "Epoch 14: Train Loss: 0.3650 | Train Acc: 0.8860 | Val Acc: 0.8127\n"
     ]
    },
    {
     "name": "stderr",
     "output_type": "stream",
     "text": [
      "                                                                              \r"
     ]
    },
    {
     "name": "stdout",
     "output_type": "stream",
     "text": [
      "Epoch 15: Train Loss: 0.3416 | Train Acc: 0.8932 | Val Acc: 0.8254\n"
     ]
    },
    {
     "name": "stderr",
     "output_type": "stream",
     "text": [
      "                                                                              \r"
     ]
    },
    {
     "name": "stdout",
     "output_type": "stream",
     "text": [
      "Epoch 16: Train Loss: 0.3230 | Train Acc: 0.8983 | Val Acc: 0.8317\n"
     ]
    },
    {
     "name": "stderr",
     "output_type": "stream",
     "text": [
      "                                                                              \r"
     ]
    },
    {
     "name": "stdout",
     "output_type": "stream",
     "text": [
      "Epoch 17: Train Loss: 0.2992 | Train Acc: 0.9065 | Val Acc: 0.8267\n"
     ]
    },
    {
     "name": "stderr",
     "output_type": "stream",
     "text": [
      "                                                                              \r"
     ]
    },
    {
     "name": "stdout",
     "output_type": "stream",
     "text": [
      "Epoch 18: Train Loss: 0.2850 | Train Acc: 0.9094 | Val Acc: 0.8322\n"
     ]
    },
    {
     "name": "stderr",
     "output_type": "stream",
     "text": [
      "                                                                              \r"
     ]
    },
    {
     "name": "stdout",
     "output_type": "stream",
     "text": [
      "Epoch 19: Train Loss: 0.2672 | Train Acc: 0.9159 | Val Acc: 0.8288\n"
     ]
    },
    {
     "name": "stderr",
     "output_type": "stream",
     "text": [
      "                                                                              \r"
     ]
    },
    {
     "name": "stdout",
     "output_type": "stream",
     "text": [
      "Epoch 20: Train Loss: 0.2520 | Train Acc: 0.9199 | Val Acc: 0.8422\n",
      "Best Val Acc: 0.8422\n"
     ]
    }
   ],
   "source": [
    "raw_model = RawAudioTransformer(num_classes=30)\n",
    "optimizer = AdamW(raw_model.parameters(),0.0001,weight_decay=0.001)\n",
    "raw_model = train_transformer(raw_model,optimizer, train_loader, val_loader, epochs=20,verbose=True)\n"
   ]
  },
  {
   "cell_type": "code",
   "execution_count": null,
   "id": "24eef615",
   "metadata": {},
   "outputs": [],
   "source": [
    "torch.save(raw_model, 'models/denoised_1d.pt')"
   ]
  },
  {
   "cell_type": "code",
   "execution_count": null,
   "id": "0f297df1",
   "metadata": {},
   "outputs": [
    {
     "name": "stderr",
     "output_type": "stream",
     "text": [
      "                                                                            \r"
     ]
    },
    {
     "name": "stdout",
     "output_type": "stream",
     "text": [
      "Epoch 1: Train Loss: 0.7247 | Train Acc: 0.8001 | Val Acc: 0.8976\n"
     ]
    },
    {
     "name": "stderr",
     "output_type": "stream",
     "text": [
      "                                                                             \r"
     ]
    },
    {
     "name": "stdout",
     "output_type": "stream",
     "text": [
      "Epoch 2: Train Loss: 0.2360 | Train Acc: 0.9319 | Val Acc: 0.9266\n"
     ]
    },
    {
     "name": "stderr",
     "output_type": "stream",
     "text": [
      "                                                                             \r"
     ]
    },
    {
     "name": "stdout",
     "output_type": "stream",
     "text": [
      "Epoch 3: Train Loss: 0.1752 | Train Acc: 0.9496 | Val Acc: 0.9332\n"
     ]
    },
    {
     "name": "stderr",
     "output_type": "stream",
     "text": [
      "                                                                             \r"
     ]
    },
    {
     "name": "stdout",
     "output_type": "stream",
     "text": [
      "Epoch 4: Train Loss: 0.1452 | Train Acc: 0.9573 | Val Acc: 0.9219\n"
     ]
    },
    {
     "name": "stderr",
     "output_type": "stream",
     "text": [
      "                                                                              \r"
     ]
    },
    {
     "name": "stdout",
     "output_type": "stream",
     "text": [
      "Epoch 5: Train Loss: 0.1298 | Train Acc: 0.9614 | Val Acc: 0.9325\n"
     ]
    },
    {
     "name": "stderr",
     "output_type": "stream",
     "text": [
      "                                                                              \r"
     ]
    },
    {
     "name": "stdout",
     "output_type": "stream",
     "text": [
      "Epoch 6: Train Loss: 0.1093 | Train Acc: 0.9673 | Val Acc: 0.9370\n"
     ]
    },
    {
     "name": "stderr",
     "output_type": "stream",
     "text": [
      "                                                                              \r"
     ]
    },
    {
     "name": "stdout",
     "output_type": "stream",
     "text": [
      "Epoch 7: Train Loss: 0.1013 | Train Acc: 0.9697 | Val Acc: 0.9437\n"
     ]
    },
    {
     "name": "stderr",
     "output_type": "stream",
     "text": [
      "                                                                              \r"
     ]
    },
    {
     "name": "stdout",
     "output_type": "stream",
     "text": [
      "Epoch 8: Train Loss: 0.0917 | Train Acc: 0.9729 | Val Acc: 0.9429\n"
     ]
    },
    {
     "name": "stderr",
     "output_type": "stream",
     "text": [
      "                                                                              \r"
     ]
    },
    {
     "name": "stdout",
     "output_type": "stream",
     "text": [
      "Epoch 9: Train Loss: 0.0862 | Train Acc: 0.9743 | Val Acc: 0.9401\n"
     ]
    },
    {
     "name": "stderr",
     "output_type": "stream",
     "text": [
      "                                                                               \r"
     ]
    },
    {
     "name": "stdout",
     "output_type": "stream",
     "text": [
      "Epoch 10: Train Loss: 0.0804 | Train Acc: 0.9756 | Val Acc: 0.9390\n",
      "Early stopping triggered at epoch 10\n",
      "Best Val Acc: 0.9437\n"
     ]
    }
   ],
   "source": [
    "spect_model = Mel_transformer(num_classes=30)\n",
    "optimizer = AdamW(spect_model.parameters(),0.0001,weight_decay=0.001)\n",
    "spect_model = train_transformer(spect_model,optimizer, train_loader, val_loader, epochs=20,verbose=True)\n"
   ]
  },
  {
   "cell_type": "code",
   "execution_count": 7,
   "id": "745f4f16",
   "metadata": {},
   "outputs": [],
   "source": [
    "torch.save(spect_model, 'models/denoised_2d.pt')"
   ]
  },
  {
   "cell_type": "code",
   "execution_count": null,
   "id": "075430a7",
   "metadata": {},
   "outputs": [],
   "source": []
  }
 ],
 "metadata": {
  "kernelspec": {
   "display_name": "Python 3 (ipykernel)",
   "language": "python",
   "name": "python3"
  },
  "language_info": {
   "codemirror_mode": {
    "name": "ipython",
    "version": 3
   },
   "file_extension": ".py",
   "mimetype": "text/x-python",
   "name": "python",
   "nbconvert_exporter": "python",
   "pygments_lexer": "ipython3",
   "version": "3.12.8"
  }
 },
 "nbformat": 4,
 "nbformat_minor": 5
}
