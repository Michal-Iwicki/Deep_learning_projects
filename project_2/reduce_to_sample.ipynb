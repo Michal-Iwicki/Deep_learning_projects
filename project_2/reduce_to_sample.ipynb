{
 "cells": [
  {
   "cell_type": "code",
   "execution_count": null,
   "id": "7f5110e4-e1f2-4211-93c8-67299e4b8de8",
   "metadata": {},
   "outputs": [],
   "source": [
    "import os\n",
    "\n",
    "import numpy as np"
   ]
  },
  {
   "cell_type": "code",
   "execution_count": null,
   "id": "3a9f5bc9-0a5c-4219-a40b-45acd7b0ef06",
   "metadata": {},
   "outputs": [],
   "source": [
    "root_path = os.path.join(os.getcwd(), \"data\", \"preprocessed\", \"sample\")"
   ]
  },
  {
   "cell_type": "code",
   "execution_count": null,
   "id": "79fed007-ef95-42eb-8d60-6fd8b695e8da",
   "metadata": {},
   "outputs": [],
   "source": [
    "for denoise_option in [\"denoised\", \"standard\"]:\n",
    "    for format_option in [\"raw\", \"mel\"]:\n",
    "        for target_option in [\"train\", \"validation\", \"test\"]:\n",
    "            path = os.path.join(root_path, denoise_option, format_option, target_option)\n",
    "\n",
    "            for category in os.listdir(path):\n",
    "                category_path = os.path.join(path, category)\n",
    "\n",
    "                file_names = os.listdir(category_path)\n",
    "                count = len(file_names)\n",
    "\n",
    "                if count > 500:\n",
    "                    indexes = np.random.choice(count, count - 500, False)\n",
    "\n",
    "                    for index in indexes:\n",
    "                        os.remove(os.path.join(category_path, file_names[index]))"
   ]
  }
 ],
 "metadata": {
  "kernelspec": {
   "display_name": "Python 3 (ipykernel)",
   "language": "python",
   "name": "python3"
  },
  "language_info": {
   "codemirror_mode": {
    "name": "ipython",
    "version": 3
   },
   "file_extension": ".py",
   "mimetype": "text/x-python",
   "name": "python",
   "nbconvert_exporter": "python",
   "pygments_lexer": "ipython3",
   "version": "3.12.8"
  }
 },
 "nbformat": 4,
 "nbformat_minor": 5
}
