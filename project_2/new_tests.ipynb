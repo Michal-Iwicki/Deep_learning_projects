{
 "cells": [
  {
   "cell_type": "code",
   "execution_count": 1,
   "id": "27629333",
   "metadata": {},
   "outputs": [
    {
     "name": "stdout",
     "output_type": "stream",
     "text": [
      "10 000 files proccessed\n",
      "10 000 files proccessed\n",
      "10 000 files proccessed\n",
      "10 000 files proccessed\n",
      "10 000 files proccessed\n",
      "10 000 files proccessed\n"
     ]
    }
   ],
   "source": [
    "from new_loader import preprocess_and_save_audio_in_tensors\n",
    "preprocess_and_save_audio_in_tensors(denoise=True)"
   ]
  },
  {
   "cell_type": "code",
   "execution_count": null,
   "id": "f461aec1",
   "metadata": {},
   "outputs": [],
   "source": []
  }
 ],
 "metadata": {
  "kernelspec": {
   "display_name": "Python 3",
   "language": "python",
   "name": "python3"
  },
  "language_info": {
   "codemirror_mode": {
    "name": "ipython",
    "version": 3
   },
   "file_extension": ".py",
   "mimetype": "text/x-python",
   "name": "python",
   "nbconvert_exporter": "python",
   "pygments_lexer": "ipython3",
   "version": "3.11.9"
  }
 },
 "nbformat": 4,
 "nbformat_minor": 5
}
