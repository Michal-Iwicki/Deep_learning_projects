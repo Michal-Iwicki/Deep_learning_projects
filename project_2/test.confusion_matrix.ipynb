{
 "cells": [
  {
   "cell_type": "code",
   "execution_count": 1,
   "id": "d2567110-3d1d-4dd6-ba13-0b568b449a06",
   "metadata": {},
   "outputs": [],
   "source": [
    "import matplotlib.pyplot as plt\n",
    "import torch.optim as optim\n",
    "\n",
    "from tester import get_confusion_matrix, get_model, get_models_functions, get_loader"
   ]
  },
  {
   "cell_type": "code",
   "execution_count": 2,
   "id": "706f4219-0197-47c9-a38a-d305fef09de7",
   "metadata": {},
   "outputs": [],
   "source": [
    "train_f, test_f = get_models_functions(\"EfficientNet\")"
   ]
  },
  {
   "cell_type": "code",
   "execution_count": 3,
   "id": "b951d572-d221-4247-b52d-998d0e982a8a",
   "metadata": {},
   "outputs": [],
   "source": [
    "model = get_model(\"EfficientNet\")\n",
    "optimizer = optim.Adam(model.parameters(), lr=0.001)"
   ]
  },
  {
   "cell_type": "code",
   "execution_count": 4,
   "id": "cf42a143-e976-4be0-9b11-643e3d0ca27e",
   "metadata": {},
   "outputs": [],
   "source": [
    "train_loader = get_loader(\"sample\", False, True, \"train\")\n",
    "val_loader = get_loader(\"sample\", False, True, \"validation\")\n",
    "test_loader = get_loader(\"sample\", False, True, \"test\")"
   ]
  },
  {
   "cell_type": "code",
   "execution_count": 5,
   "id": "f1c0d036-e857-435d-8ef1-2f802afff9cc",
   "metadata": {},
   "outputs": [
    {
     "name": "stderr",
     "output_type": "stream",
     "text": [
      "                                                                                                                                                                                                                                            "
     ]
    },
    {
     "name": "stdout",
     "output_type": "stream",
     "text": [
      "Epoch [1/1]\n",
      "Train Loss: 1.4705, Train Acc: 70.65%\n",
      "Val Loss:   0.3274, Val Acc:   90.68%\n",
      "\n"
     ]
    },
    {
     "data": {
      "text/plain": [
       "([1.4704793459773065], [0.32741736845028674])"
      ]
     },
     "execution_count": 5,
     "metadata": {},
     "output_type": "execute_result"
    }
   ],
   "source": [
    "train_f(model, optimizer, train_loader, val_loader, num_epochs=1, verbose=True)"
   ]
  },
  {
   "cell_type": "code",
   "execution_count": null,
   "id": "12096a6b-c920-44c8-a602-37de71347e2c",
   "metadata": {},
   "outputs": [],
   "source": [
    "disp = get_confusion_matrix(model, test_loader)"
   ]
  }
 ],
 "metadata": {
  "kernelspec": {
   "display_name": "Python 3 (ipykernel)",
   "language": "python",
   "name": "python3"
  },
  "language_info": {
   "codemirror_mode": {
    "name": "ipython",
    "version": 3
   },
   "file_extension": ".py",
   "mimetype": "text/x-python",
   "name": "python",
   "nbconvert_exporter": "python",
   "pygments_lexer": "ipython3",
   "version": "3.12.8"
  }
 },
 "nbformat": 4,
 "nbformat_minor": 5
}
